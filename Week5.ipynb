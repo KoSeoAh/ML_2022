{
  "nbformat": 4,
  "nbformat_minor": 0,
  "metadata": {
    "colab": {
      "name": "Week5.ipynb",
      "provenance": [],
      "collapsed_sections": [],
      "include_colab_link": true
    },
    "kernelspec": {
      "name": "python3",
      "display_name": "Python 3"
    },
    "language_info": {
      "name": "python"
    }
  },
  "cells": [
    {
      "cell_type": "markdown",
      "metadata": {
        "id": "view-in-github",
        "colab_type": "text"
      },
      "source": [
        "<a href=\"https://colab.research.google.com/github/KoSeoAh/ML_2022/blob/main/Week5.ipynb\" target=\"_parent\"><img src=\"https://colab.research.google.com/assets/colab-badge.svg\" alt=\"Open In Colab\"/></a>"
      ]
    },
    {
      "cell_type": "code",
      "metadata": {
        "colab": {
          "base_uri": "https://localhost:8080/"
        },
        "id": "gV1iJazc2fxc",
        "outputId": "bfb8e48f-b410-4926-da02-0f668c444bba"
      },
      "source": [
        "import torch\n",
        "import torch.nn as nn\n",
        "import torch.nn.functional as F\n",
        "import torch.optim as optim\n",
        "\n",
        "torch.manual_seed(1)\n",
        "\n",
        "x_data =  [[150,40],[155,50],[160,55],[165,70],[170,95],[180,90]]\n",
        "y_data =  [[0],[0],[0],[1],[1],[1]]\n",
        "x_train = torch.FloatTensor(x_data)\n",
        "y_train = torch.FloatTensor(y_data)\n",
        "\n",
        "# 모델 초기화\n",
        "W = torch.zeros((2, 1), requires_grad=True)\n",
        "b = torch.zeros(1, requires_grad=True)\n",
        "\n",
        "optimizer = optim.SGD([W,b],lr=0.0001)\n",
        "\n",
        "nb_epochs = 10000\n",
        "for epoch in range(nb_epochs + 1):\n",
        "\n",
        "    # Cost 계산\n",
        "    hypothesis = torch.sigmoid(x_train.matmul(W) + b) # or .mm or @\n",
        "    cost = -(y_train * torch.log(hypothesis) + \n",
        "             (1 - y_train) * torch.log(1 - hypothesis)).mean()\n",
        "\n",
        "    # cost로 H(x) 개선\n",
        "    optimizer.zero_grad()\n",
        "    cost.backward()\n",
        "    optimizer.step()\n",
        "\n",
        "    # 100번마다 로그 출력\n",
        "    if epoch % 1000 == 0:\n",
        "        print('Epoch {:4d}/{} Cost: {:.6f}'.format(\n",
        "            epoch, nb_epochs, cost.item()))"
      ],
      "execution_count": null,
      "outputs": [
        {
          "output_type": "stream",
          "name": "stdout",
          "text": [
            "Epoch    0/10000 Cost: 0.693147\n",
            "Epoch 1000/10000 Cost: 0.121467\n",
            "Epoch 2000/10000 Cost: 0.078259\n",
            "Epoch 3000/10000 Cost: 0.058862\n",
            "Epoch 4000/10000 Cost: 0.047419\n",
            "Epoch 5000/10000 Cost: 0.039781\n",
            "Epoch 6000/10000 Cost: 0.034294\n",
            "Epoch 7000/10000 Cost: 0.030154\n",
            "Epoch 8000/10000 Cost: 0.026914\n",
            "Epoch 9000/10000 Cost: 0.024308\n",
            "Epoch 10000/10000 Cost: 0.022165\n"
          ]
        }
      ]
    },
    {
      "cell_type": "code",
      "metadata": {
        "colab": {
          "base_uri": "https://localhost:8080/"
        },
        "id": "GIoZFglt3Hwr",
        "outputId": "2efb1c76-4fbe-466c-f836-6c4e75e7b720"
      },
      "source": [
        "\n",
        "x_test = torch.FloatTensor([165,70])\n",
        "hypothesis = torch.sigmoid(x_test.matmul(W) + b)\n",
        "cost = -(y_train * torch.log(hypothesis) + \n",
        "             (1 - y_train) * torch.log(1 - hypothesis)).mean()\n",
        "\n",
        "prediction = hypothesis >= torch.FloatTensor([0.5])\n",
        "print(prediction.long())"
      ],
      "execution_count": null,
      "outputs": [
        {
          "output_type": "stream",
          "name": "stdout",
          "text": [
            "tensor([1])\n"
          ]
        }
      ]
    }
  ]
}