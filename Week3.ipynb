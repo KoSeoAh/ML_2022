{
  "nbformat": 4,
  "nbformat_minor": 0,
  "metadata": {
    "colab": {
      "name": "Week3.ipynb",
      "provenance": [],
      "authorship_tag": "ABX9TyNzSLrQ926YVVVejLkazvjm",
      "include_colab_link": true
    },
    "kernelspec": {
      "name": "python3",
      "display_name": "Python 3"
    },
    "language_info": {
      "name": "python"
    }
  },
  "cells": [
    {
      "cell_type": "markdown",
      "metadata": {
        "id": "view-in-github",
        "colab_type": "text"
      },
      "source": [
        "<a href=\"https://colab.research.google.com/github/KoSeoAh/ML_2022/blob/main/Week3.ipynb\" target=\"_parent\"><img src=\"https://colab.research.google.com/assets/colab-badge.svg\" alt=\"Open In Colab\"/></a>"
      ]
    },
    {
      "cell_type": "code",
      "execution_count": null,
      "metadata": {
        "id": "U9kD8vuspxwj"
      },
      "outputs": [],
      "source": [
        "import torch\n",
        "import torch.optim as optim\n",
        "\n",
        "x_train = torch.FloatTensor([[0.5], [1], [2], [2.5], [3], [3.5]]) #계산에_사용할_데이터_직접_입력\n",
        "y_train = torch.FloatTensor([[40], [45], [50], [55], [60], [65]])\n",
        "\n",
        "W = torch.zeros(1, requires_grad=True) #0으로된_tensor값_설정\n",
        "b = torch.zeros(1, requires_grad=True) # x와 곱해지는 W를 가중치(Weight)라고 하며, b를 편향(bias)이라고 합니다.\n",
        "\n",
        "optimizer = optim.SGD([W, b], lr = 0.01) \n",
        "\n",
        "nb_epochs = 1000 #한번의epoch는 전체 데이터 셋에 대해 한번 학습을 완료한 상태, epoch=40 이라면 40번 학습 마친 상태\n",
        "for epoch in range(nb_epochs + 1):\n",
        "  hypothesis = x_train * W + b\n",
        "\n",
        "  cost = torch.mean((hypothesis - y_train)**2)\n",
        "\n",
        "  optimizer.zero_grad()\n",
        "  cost.backward()\n",
        "  optimizer.step()\n",
        "\n",
        "  if epoch % 100 == 0:\n",
        "    print('Epoch {:4d}/{} W: {:.3f}, b: {:.3f} Cost: {:.6f}'.format(epoch, nb_epochs, W.item(), b.item(), cost.item()))\n",
        "\n"
      ]
    },
    {
      "cell_type": "code",
      "source": [
        "import torch\n",
        "import torch.optim as optim\n",
        "\n",
        "x_train = torch.FloatTensor([[1], [2], [3]]) #계산에_사용할_데이터_직접_입력\n",
        "y_train = torch.FloatTensor([[2], [4], [6]])\n",
        "\n",
        "W = torch.zeros(1, requires_grad=True) \n",
        "b = torch.zeros(1, requires_grad=True) \n",
        "\n",
        "optimizer = optim.SGD([W, b], lr = 0.01) \n",
        "\n",
        "nb_epochs = 1000 \n",
        "for epoch in range(nb_epochs + 1):\n",
        "  hypothesis = x_train * W + b\n",
        "\n",
        "  cost = torch.mean((hypothesis - y_train)**2)\n",
        "  \n",
        "  optimizer.zero_grad()\n",
        "  cost.backward()\n",
        "  optimizer.step()\n",
        "\n",
        "  if epoch % 100 == 0:\n",
        "    print('Epoch {:4d}/{} W: {:.3f}, b: {:.3f} Cost: {:.6f}'.format(epoch, nb_epochs, W.item(), b.item(), cost.item()))\n"
      ],
      "metadata": {
        "id": "KTqJ6LpE_zoX"
      },
      "execution_count": null,
      "outputs": []
    }
  ]
}