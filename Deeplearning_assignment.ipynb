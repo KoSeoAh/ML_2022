{
  "nbformat": 4,
  "nbformat_minor": 0,
  "metadata": {
    "colab": {
      "name": "Deeplearning_assignment.ipynb",
      "provenance": [],
      "collapsed_sections": [],
      "authorship_tag": "ABX9TyPChfYThQcgVKxpLo2NqIwn",
      "include_colab_link": true
    },
    "kernelspec": {
      "name": "python3",
      "display_name": "Python 3"
    },
    "language_info": {
      "name": "python"
    }
  },
  "cells": [
    {
      "cell_type": "markdown",
      "metadata": {
        "id": "view-in-github",
        "colab_type": "text"
      },
      "source": [
        "<a href=\"https://colab.research.google.com/github/KoSeoAh/ML_2022/blob/main/Deeplearning_assignment.ipynb\" target=\"_parent\"><img src=\"https://colab.research.google.com/assets/colab-badge.svg\" alt=\"Open In Colab\"/></a>"
      ]
    },
    {
      "cell_type": "code",
      "execution_count": null,
      "metadata": {
        "id": "tSCBtXOzuFuJ"
      },
      "outputs": [],
      "source": [
        "#강의슬라이드의 딥러닝 정의, 구조 및 강의슬라이드 딥러닝 예시를 바탕으로\n",
        "#데이터 샘플과 딥러닝 layer를 자유롭게 늘리고 분류의 정확도를 계산해보자\n",
        "#수학필기 - 워드파일, 코드 구현 - 파이썬 (완벽하게 완성 후 워드 파일에 붙여 제출)"
      ]
    },
    {
      "cell_type": "code",
      "source": [
        "import math\n",
        "import random\n",
        "\n",
        "a = random.uniform(-1,1)\n",
        "b = random.uniform(-1,1)\n",
        "c = random.uniform(-1,1)\n",
        "d = random.uniform(-1,1)\n",
        "e = random.uniform(-1,1)\n",
        "f = random.uniform(-1,1)\n",
        "g = random.uniform(-1,1)\n",
        "h = random.uniform(-1,1)\n",
        "i = random.uniform(-1,1)\n",
        "\n",
        "\n",
        "eta = 0.0001\n",
        "\n",
        "def sigmoid(x) :\n",
        "  return 1.0/(1.0+math.exp(-x))\n",
        "\n",
        "data = [(5,10),(7,18),(10,8),(15,15),(20,3),(23,12)]\n",
        "labels = [-1,-1,+1,+1,-1,-1]\n",
        "zValue=[0, 0, 0, 0, 0, 0]\n",
        "FinalzValue=[0, 0, 0, 0, 0, 0]\n",
        "\n",
        "for counter in range(1000000) :\n",
        "  da=db=dc=dd=de=df=dg=dh=di=0.0\n",
        "  for idx in range(len(data)):\n",
        "    x=float(data[idx][0])\n",
        "    y=float(data[idx][1])\n",
        "    z1=a*x+b*y+c\n",
        "    X=sigmoid(z1)\n",
        "    z2=d*x+e*y+f\n",
        "    Y=sigmoid(z2)\n",
        "    z=g*X+h*Y+i\n",
        "    Z=labels[idx]\n",
        "    dz=2*(z-Z)\n",
        "    dz1=dz*g*sigmoid(z2)*(1.0-sigmoid(z1))\n",
        "    dz2=dz*h*sigmoid(z2)*(1.0-sigmoid(z2))\n",
        "    da+=dz1*Z\n",
        "    db+=dz1*y\n",
        "    dc+=dz1\n",
        "    dd+=dz2*x\n",
        "    de+=dz2*y\n",
        "    df+=dz2\n",
        "    dg+=dz*X\n",
        "    dh+=dz*Y\n",
        "    di+=dz\n",
        "\n",
        "a = a-eta*da\n",
        "b = b-eta*db\n",
        "c = c-eta*dc\n",
        "d = d-eta*dd\n",
        "e = e-eta*de\n",
        "f = f-eta*df\n",
        "g = g-eta*dg\n",
        "h = h-eta*dh\n",
        "i = i-eta*di\n",
        "\n",
        "print(\"a=%if, b=%if, c=%if, d=%if, e=%if, f=%if, g=%if, h=%if, i=%if\" % (a, b, c, d, e, f, g, h, i))\n",
        "\n",
        "for counter in range(1000000) :\n",
        "  for idx in range(len(data)):\n",
        "    x=float(data[idx][0])\n",
        "    y=float(data[idx][1])\n",
        "    z1=a*x+b*y+c\n",
        "    X=sigmoid(z1)\n",
        "    z2=d*x+e*y+f\n",
        "    Y=sigmoid(z2)\n",
        "    z=g*X+h*Y+i\n",
        "\n",
        "    zValue[idx]+=z\n",
        "\n",
        "for idx in range(len(data)):\n",
        "  FinalzValue[idx] = zValue[idx]/1000000\n",
        "\n",
        "print(FinalzValue)\n"
      ],
      "metadata": {
        "id": "f31fwzMqwwa-",
        "colab": {
          "base_uri": "https://localhost:8080/"
        },
        "outputId": "4d21f3d5-ef07-414f-e8ea-45fbc26a770b"
      },
      "execution_count": 1,
      "outputs": [
        {
          "output_type": "stream",
          "name": "stdout",
          "text": [
            "a=0f, b=0f, c=0f, d=0f, e=0f, f=0f, g=0f, h=0f, i=0f\n",
            "[-0.39627341685635487, -0.4026685946307027, -0.29736388495572474, -0.3024908304419359, -0.26532500604507775, -0.265514571367008]\n"
          ]
        }
      ]
    }
  ]
}