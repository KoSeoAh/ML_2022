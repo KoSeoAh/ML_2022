{
  "nbformat": 4,
  "nbformat_minor": 0,
  "metadata": {
    "colab": {
      "name": "Crawling_Backtesting.ipynb",
      "provenance": [],
      "collapsed_sections": [],
      "include_colab_link": true
    },
    "kernelspec": {
      "name": "python3",
      "display_name": "Python 3"
    },
    "language_info": {
      "name": "python"
    }
  },
  "cells": [
    {
      "cell_type": "markdown",
      "metadata": {
        "id": "view-in-github",
        "colab_type": "text"
      },
      "source": [
        "<a href=\"https://colab.research.google.com/github/KoSeoAh/ML_2022/blob/main/Crawling_Backtesting.ipynb\" target=\"_parent\"><img src=\"https://colab.research.google.com/assets/colab-badge.svg\" alt=\"Open In Colab\"/></a>"
      ]
    },
    {
      "cell_type": "code",
      "execution_count": 1,
      "metadata": {
        "colab": {
          "base_uri": "https://localhost:8080/"
        },
        "id": "sBIR33z9V3zz",
        "outputId": "3676ce3e-0102-4a08-a755-281368b27960"
      },
      "outputs": [
        {
          "output_type": "stream",
          "name": "stdout",
          "text": [
            "Collecting selenium==3.141\n",
            "  Downloading selenium-3.141.0-py2.py3-none-any.whl (904 kB)\n",
            "\u001b[?25l\r\u001b[K     |▍                               | 10 kB 19.8 MB/s eta 0:00:01\r\u001b[K     |▊                               | 20 kB 12.0 MB/s eta 0:00:01\r\u001b[K     |█                               | 30 kB 9.8 MB/s eta 0:00:01\r\u001b[K     |█▌                              | 40 kB 8.5 MB/s eta 0:00:01\r\u001b[K     |█▉                              | 51 kB 4.3 MB/s eta 0:00:01\r\u001b[K     |██▏                             | 61 kB 5.0 MB/s eta 0:00:01\r\u001b[K     |██▌                             | 71 kB 5.7 MB/s eta 0:00:01\r\u001b[K     |███                             | 81 kB 4.1 MB/s eta 0:00:01\r\u001b[K     |███▎                            | 92 kB 4.6 MB/s eta 0:00:01\r\u001b[K     |███▋                            | 102 kB 5.0 MB/s eta 0:00:01\r\u001b[K     |████                            | 112 kB 5.0 MB/s eta 0:00:01\r\u001b[K     |████▍                           | 122 kB 5.0 MB/s eta 0:00:01\r\u001b[K     |████▊                           | 133 kB 5.0 MB/s eta 0:00:01\r\u001b[K     |█████                           | 143 kB 5.0 MB/s eta 0:00:01\r\u001b[K     |█████▍                          | 153 kB 5.0 MB/s eta 0:00:01\r\u001b[K     |█████▉                          | 163 kB 5.0 MB/s eta 0:00:01\r\u001b[K     |██████▏                         | 174 kB 5.0 MB/s eta 0:00:01\r\u001b[K     |██████▌                         | 184 kB 5.0 MB/s eta 0:00:01\r\u001b[K     |██████▉                         | 194 kB 5.0 MB/s eta 0:00:01\r\u001b[K     |███████▎                        | 204 kB 5.0 MB/s eta 0:00:01\r\u001b[K     |███████▋                        | 215 kB 5.0 MB/s eta 0:00:01\r\u001b[K     |████████                        | 225 kB 5.0 MB/s eta 0:00:01\r\u001b[K     |████████▎                       | 235 kB 5.0 MB/s eta 0:00:01\r\u001b[K     |████████▊                       | 245 kB 5.0 MB/s eta 0:00:01\r\u001b[K     |█████████                       | 256 kB 5.0 MB/s eta 0:00:01\r\u001b[K     |█████████▍                      | 266 kB 5.0 MB/s eta 0:00:01\r\u001b[K     |█████████▉                      | 276 kB 5.0 MB/s eta 0:00:01\r\u001b[K     |██████████▏                     | 286 kB 5.0 MB/s eta 0:00:01\r\u001b[K     |██████████▌                     | 296 kB 5.0 MB/s eta 0:00:01\r\u001b[K     |██████████▉                     | 307 kB 5.0 MB/s eta 0:00:01\r\u001b[K     |███████████▎                    | 317 kB 5.0 MB/s eta 0:00:01\r\u001b[K     |███████████▋                    | 327 kB 5.0 MB/s eta 0:00:01\r\u001b[K     |████████████                    | 337 kB 5.0 MB/s eta 0:00:01\r\u001b[K     |████████████▎                   | 348 kB 5.0 MB/s eta 0:00:01\r\u001b[K     |████████████▊                   | 358 kB 5.0 MB/s eta 0:00:01\r\u001b[K     |█████████████                   | 368 kB 5.0 MB/s eta 0:00:01\r\u001b[K     |█████████████▍                  | 378 kB 5.0 MB/s eta 0:00:01\r\u001b[K     |█████████████▊                  | 389 kB 5.0 MB/s eta 0:00:01\r\u001b[K     |██████████████▏                 | 399 kB 5.0 MB/s eta 0:00:01\r\u001b[K     |██████████████▌                 | 409 kB 5.0 MB/s eta 0:00:01\r\u001b[K     |██████████████▉                 | 419 kB 5.0 MB/s eta 0:00:01\r\u001b[K     |███████████████▏                | 430 kB 5.0 MB/s eta 0:00:01\r\u001b[K     |███████████████▋                | 440 kB 5.0 MB/s eta 0:00:01\r\u001b[K     |████████████████                | 450 kB 5.0 MB/s eta 0:00:01\r\u001b[K     |████████████████▎               | 460 kB 5.0 MB/s eta 0:00:01\r\u001b[K     |████████████████▋               | 471 kB 5.0 MB/s eta 0:00:01\r\u001b[K     |█████████████████               | 481 kB 5.0 MB/s eta 0:00:01\r\u001b[K     |█████████████████▍              | 491 kB 5.0 MB/s eta 0:00:01\r\u001b[K     |█████████████████▊              | 501 kB 5.0 MB/s eta 0:00:01\r\u001b[K     |██████████████████▏             | 512 kB 5.0 MB/s eta 0:00:01\r\u001b[K     |██████████████████▌             | 522 kB 5.0 MB/s eta 0:00:01\r\u001b[K     |██████████████████▉             | 532 kB 5.0 MB/s eta 0:00:01\r\u001b[K     |███████████████████▏            | 542 kB 5.0 MB/s eta 0:00:01\r\u001b[K     |███████████████████▋            | 552 kB 5.0 MB/s eta 0:00:01\r\u001b[K     |████████████████████            | 563 kB 5.0 MB/s eta 0:00:01\r\u001b[K     |████████████████████▎           | 573 kB 5.0 MB/s eta 0:00:01\r\u001b[K     |████████████████████▋           | 583 kB 5.0 MB/s eta 0:00:01\r\u001b[K     |█████████████████████           | 593 kB 5.0 MB/s eta 0:00:01\r\u001b[K     |█████████████████████▍          | 604 kB 5.0 MB/s eta 0:00:01\r\u001b[K     |█████████████████████▊          | 614 kB 5.0 MB/s eta 0:00:01\r\u001b[K     |██████████████████████          | 624 kB 5.0 MB/s eta 0:00:01\r\u001b[K     |██████████████████████▌         | 634 kB 5.0 MB/s eta 0:00:01\r\u001b[K     |██████████████████████▉         | 645 kB 5.0 MB/s eta 0:00:01\r\u001b[K     |███████████████████████▏        | 655 kB 5.0 MB/s eta 0:00:01\r\u001b[K     |███████████████████████▌        | 665 kB 5.0 MB/s eta 0:00:01\r\u001b[K     |████████████████████████        | 675 kB 5.0 MB/s eta 0:00:01\r\u001b[K     |████████████████████████▎       | 686 kB 5.0 MB/s eta 0:00:01\r\u001b[K     |████████████████████████▋       | 696 kB 5.0 MB/s eta 0:00:01\r\u001b[K     |█████████████████████████       | 706 kB 5.0 MB/s eta 0:00:01\r\u001b[K     |█████████████████████████▍      | 716 kB 5.0 MB/s eta 0:00:01\r\u001b[K     |█████████████████████████▊      | 727 kB 5.0 MB/s eta 0:00:01\r\u001b[K     |██████████████████████████      | 737 kB 5.0 MB/s eta 0:00:01\r\u001b[K     |██████████████████████████▍     | 747 kB 5.0 MB/s eta 0:00:01\r\u001b[K     |██████████████████████████▉     | 757 kB 5.0 MB/s eta 0:00:01\r\u001b[K     |███████████████████████████▏    | 768 kB 5.0 MB/s eta 0:00:01\r\u001b[K     |███████████████████████████▌    | 778 kB 5.0 MB/s eta 0:00:01\r\u001b[K     |████████████████████████████    | 788 kB 5.0 MB/s eta 0:00:01\r\u001b[K     |████████████████████████████▎   | 798 kB 5.0 MB/s eta 0:00:01\r\u001b[K     |████████████████████████████▋   | 808 kB 5.0 MB/s eta 0:00:01\r\u001b[K     |█████████████████████████████   | 819 kB 5.0 MB/s eta 0:00:01\r\u001b[K     |█████████████████████████████▍  | 829 kB 5.0 MB/s eta 0:00:01\r\u001b[K     |█████████████████████████████▊  | 839 kB 5.0 MB/s eta 0:00:01\r\u001b[K     |██████████████████████████████  | 849 kB 5.0 MB/s eta 0:00:01\r\u001b[K     |██████████████████████████████▍ | 860 kB 5.0 MB/s eta 0:00:01\r\u001b[K     |██████████████████████████████▉ | 870 kB 5.0 MB/s eta 0:00:01\r\u001b[K     |███████████████████████████████▏| 880 kB 5.0 MB/s eta 0:00:01\r\u001b[K     |███████████████████████████████▌| 890 kB 5.0 MB/s eta 0:00:01\r\u001b[K     |███████████████████████████████▉| 901 kB 5.0 MB/s eta 0:00:01\r\u001b[K     |████████████████████████████████| 904 kB 5.0 MB/s \n",
            "\u001b[?25hRequirement already satisfied: urllib3 in /usr/local/lib/python3.7/dist-packages (from selenium==3.141) (1.24.3)\n",
            "Installing collected packages: selenium\n",
            "Successfully installed selenium-3.141.0\n",
            "Get:1 http://security.ubuntu.com/ubuntu bionic-security InRelease [88.7 kB]\n",
            "Hit:2 https://developer.download.nvidia.com/compute/cuda/repos/ubuntu1804/x86_64  InRelease\n",
            "Get:3 https://cloud.r-project.org/bin/linux/ubuntu bionic-cran40/ InRelease [3,626 B]\n",
            "Ign:4 https://developer.download.nvidia.com/compute/machine-learning/repos/ubuntu1804/x86_64  InRelease\n",
            "Hit:5 https://developer.download.nvidia.com/compute/machine-learning/repos/ubuntu1804/x86_64  Release\n",
            "Get:6 http://ppa.launchpad.net/c2d4u.team/c2d4u4.0+/ubuntu bionic InRelease [15.9 kB]\n",
            "Hit:7 http://archive.ubuntu.com/ubuntu bionic InRelease\n",
            "Get:8 http://archive.ubuntu.com/ubuntu bionic-updates InRelease [88.7 kB]\n",
            "Hit:9 http://ppa.launchpad.net/cran/libgit2/ubuntu bionic InRelease\n",
            "Get:10 http://archive.ubuntu.com/ubuntu bionic-backports InRelease [74.6 kB]\n",
            "Hit:12 http://ppa.launchpad.net/deadsnakes/ppa/ubuntu bionic InRelease\n",
            "Hit:13 http://ppa.launchpad.net/graphics-drivers/ppa/ubuntu bionic InRelease\n",
            "Get:14 http://security.ubuntu.com/ubuntu bionic-security/universe amd64 Packages [1,498 kB]\n",
            "Get:15 http://security.ubuntu.com/ubuntu bionic-security/main amd64 Packages [2,734 kB]\n",
            "Get:16 http://ppa.launchpad.net/c2d4u.team/c2d4u4.0+/ubuntu bionic/main Sources [1,954 kB]\n",
            "Get:17 http://archive.ubuntu.com/ubuntu bionic-updates/universe amd64 Packages [2,272 kB]\n",
            "Get:18 http://archive.ubuntu.com/ubuntu bionic-updates/main amd64 Packages [3,168 kB]\n",
            "Get:19 http://ppa.launchpad.net/c2d4u.team/c2d4u4.0+/ubuntu bionic/main amd64 Packages [1,001 kB]\n",
            "Fetched 12.9 MB in 4s (3,347 kB/s)\n",
            "Reading package lists... Done\n",
            "Reading package lists... Done\n",
            "Building dependency tree       \n",
            "Reading state information... Done\n",
            "The following packages were automatically installed and are no longer required:\n",
            "  libnvidia-common-460 nsight-compute-2020.2.0\n",
            "Use 'apt autoremove' to remove them.\n",
            "The following additional packages will be installed:\n",
            "  chromium-browser chromium-browser-l10n chromium-codecs-ffmpeg-extra\n",
            "Suggested packages:\n",
            "  webaccounts-chromium-extension unity-chromium-extension\n",
            "The following NEW packages will be installed:\n",
            "  chromium-browser chromium-browser-l10n chromium-chromedriver\n",
            "  chromium-codecs-ffmpeg-extra\n",
            "0 upgraded, 4 newly installed, 0 to remove and 50 not upgraded.\n",
            "Need to get 88.4 MB of archives.\n",
            "After this operation, 297 MB of additional disk space will be used.\n",
            "Get:1 http://archive.ubuntu.com/ubuntu bionic-updates/universe amd64 chromium-codecs-ffmpeg-extra amd64 100.0.4896.127-0ubuntu0.18.04.1 [1,142 kB]\n",
            "Get:2 http://archive.ubuntu.com/ubuntu bionic-updates/universe amd64 chromium-browser amd64 100.0.4896.127-0ubuntu0.18.04.1 [77.6 MB]\n",
            "Get:3 http://archive.ubuntu.com/ubuntu bionic-updates/universe amd64 chromium-browser-l10n all 100.0.4896.127-0ubuntu0.18.04.1 [4,496 kB]\n",
            "Get:4 http://archive.ubuntu.com/ubuntu bionic-updates/universe amd64 chromium-chromedriver amd64 100.0.4896.127-0ubuntu0.18.04.1 [5,190 kB]\n",
            "Fetched 88.4 MB in 5s (17.9 MB/s)\n",
            "Selecting previously unselected package chromium-codecs-ffmpeg-extra.\n",
            "(Reading database ... 155203 files and directories currently installed.)\n",
            "Preparing to unpack .../chromium-codecs-ffmpeg-extra_100.0.4896.127-0ubuntu0.18.04.1_amd64.deb ...\n",
            "Unpacking chromium-codecs-ffmpeg-extra (100.0.4896.127-0ubuntu0.18.04.1) ...\n",
            "Selecting previously unselected package chromium-browser.\n",
            "Preparing to unpack .../chromium-browser_100.0.4896.127-0ubuntu0.18.04.1_amd64.deb ...\n",
            "Unpacking chromium-browser (100.0.4896.127-0ubuntu0.18.04.1) ...\n",
            "Selecting previously unselected package chromium-browser-l10n.\n",
            "Preparing to unpack .../chromium-browser-l10n_100.0.4896.127-0ubuntu0.18.04.1_all.deb ...\n",
            "Unpacking chromium-browser-l10n (100.0.4896.127-0ubuntu0.18.04.1) ...\n",
            "Selecting previously unselected package chromium-chromedriver.\n",
            "Preparing to unpack .../chromium-chromedriver_100.0.4896.127-0ubuntu0.18.04.1_amd64.deb ...\n",
            "Unpacking chromium-chromedriver (100.0.4896.127-0ubuntu0.18.04.1) ...\n",
            "Setting up chromium-codecs-ffmpeg-extra (100.0.4896.127-0ubuntu0.18.04.1) ...\n",
            "Setting up chromium-browser (100.0.4896.127-0ubuntu0.18.04.1) ...\n",
            "update-alternatives: using /usr/bin/chromium-browser to provide /usr/bin/x-www-browser (x-www-browser) in auto mode\n",
            "update-alternatives: using /usr/bin/chromium-browser to provide /usr/bin/gnome-www-browser (gnome-www-browser) in auto mode\n",
            "Setting up chromium-chromedriver (100.0.4896.127-0ubuntu0.18.04.1) ...\n",
            "Setting up chromium-browser-l10n (100.0.4896.127-0ubuntu0.18.04.1) ...\n",
            "Processing triggers for man-db (2.8.3-2ubuntu0.1) ...\n",
            "Processing triggers for hicolor-icon-theme (0.17-2) ...\n",
            "Processing triggers for mime-support (3.60ubuntu1) ...\n",
            "Processing triggers for libc-bin (2.27-3ubuntu1.3) ...\n",
            "/sbin/ldconfig.real: /usr/local/lib/python3.7/dist-packages/ideep4py/lib/libmkldnn.so.0 is not a symbolic link\n",
            "\n",
            "cp: '/usr/lib/chromium-browser/chromedriver' and '/usr/bin/chromedriver' are the same file\n"
          ]
        }
      ],
      "source": [
        "!pip install selenium==3.141\n",
        "!apt-get update\n",
        "!apt install chromium-chromedriver\n",
        "!cp /usr/lib/chromium-browser/chromedriver /usr/bin"
      ]
    },
    {
      "cell_type": "code",
      "source": [
        "from google.colab import drive\n",
        "drive.mount('/content/drive')"
      ],
      "metadata": {
        "colab": {
          "base_uri": "https://localhost:8080/"
        },
        "id": "co-QIO7KMK6t",
        "outputId": "7657108b-d26b-4d07-a263-c745ddadb46a"
      },
      "execution_count": 2,
      "outputs": [
        {
          "output_type": "stream",
          "name": "stdout",
          "text": [
            "Mounted at /content/drive\n"
          ]
        }
      ]
    },
    {
      "cell_type": "code",
      "source": [
        "from selenium import webdriver as wd\n",
        "from bs4 import BeautifulSoup\n",
        "import pandas as pd\n",
        "import time\n",
        "import urllib\n",
        "\n",
        "options = wd.ChromeOptions()\n",
        "options.add_argument('--headless')        # Head-less 설정\n",
        "options.add_argument('--no-sandbox')\n",
        "options.add_argument('--disable-dev-shm-usage')"
      ],
      "metadata": {
        "id": "BFQ1jkFqWSvR"
      },
      "execution_count": 3,
      "outputs": []
    },
    {
      "cell_type": "code",
      "source": [
        "def get_article_info(driver, crawl_date, press_list, title_list, link_list, date_list, \n",
        "                     more_news_base_url=None, more_news=False):\n",
        "    more_news_url_list = []\n",
        "    while True:    \n",
        "        page_html_source = driver.page_source\n",
        "        url_soup = BeautifulSoup(page_html_source, 'lxml')\n",
        "        \n",
        "        more_news_infos = url_soup.select('a.news_more')\n",
        "        \n",
        "        if more_news:\n",
        "            for more_news_info in more_news_infos:\n",
        "                more_news_url = f\"{more_news_base_url}{more_news_info.get('href')}\"\n",
        "\n",
        "                more_news_url_list.append(more_news_url)\n",
        "\n",
        "        article_infos = url_soup.select(\"div.news_area\")\n",
        "        \n",
        "        if not article_infos:\n",
        "            break\n",
        "\n",
        "        for article_info in article_infos:\n",
        "            press_info = article_info.select_one(\"div.info_group > a.info.press\")\n",
        "            \n",
        "            if press_info is None:\n",
        "                press_info = article_info.select_one(\"div.info_group > span.info.press\")\n",
        "            article = article_info.select_one(\"a.news_tit\")\n",
        "            \n",
        "            press = press_info.text.replace(\"언론사 선정\", \"\")\n",
        "            title = article.get('title')\n",
        "            link = article.get('href')\n",
        "\n",
        "            press_list.append(press)\n",
        "            title_list.append(title)\n",
        "            link_list.append(link)\n",
        "            date_list.append(crawl_date)\n",
        "\n",
        "        time.sleep(2.0)\n",
        "                      \n",
        "                      \n",
        "        next_button_status = url_soup.select_one(\"a.btn_next\").get(\"aria-disabled\")\n",
        "        \n",
        "        if next_button_status == 'true':\n",
        "            break\n",
        "        \n",
        "        time.sleep(1.0)\n",
        "        next_page_btn = driver.find_element_by_css_selector(\"a.btn_next\").click()      \n",
        "    \n",
        "    return press_list, title_list, link_list, more_news_url_list\n",
        "    \n",
        "    \n",
        "\n",
        "def get_naver_news_info_from_selenium(driver_path, keyword, save_path, target_date, ds_de, sort=0, remove_duplicate=False):\n",
        "    crawl_date = f\"{target_date[:4]}.{target_date[4:6]}.{target_date[6:]}\"\n",
        "    driver = wd.Chrome(driver_path, options=options)\n",
        "\n",
        "    encoded_keyword = urllib.parse.quote(keyword)\n",
        "    url = f\"https://search.naver.com/search.naver?where=news&query={encoded_keyword}&sm=tab_opt&sort={sort}&photo=0&field=0&pd=3&ds={ds_de}&de={ds_de}&docid=&related=0&mynews=0&office_type=0&office_section_code=0&news_office_checked=&nso=so%3Ar%2Cp%3Afrom{target_date}to{target_date}&is_sug_officeid=0\"\n",
        "    \n",
        "    more_news_base_url = \"https://search.naver.com/search.naver\"\n",
        "\n",
        "    driver.implicitly_wait(0.8)\n",
        "\n",
        "    driver.get(url)\n",
        "    \n",
        "    press_list, title_list, link_list, date_list, more_news_url_list = [], [], [], [], []\n",
        "    \n",
        "    press_list, title_list, link_list, more_news_url_list = get_article_info(driver=driver, \n",
        "                                                                             crawl_date=crawl_date, \n",
        "                                                                             press_list=press_list, \n",
        "                                                                             title_list=title_list, \n",
        "                                                                             link_list=link_list,\n",
        "                                                                             date_list=date_list,\n",
        "                                                                             more_news_base_url=more_news_base_url,\n",
        "                                                                             more_news=True)\n",
        "    driver.close()\n",
        "    \n",
        "    if len(more_news_url_list) > 0:\n",
        "        print(len(more_news_url_list))\n",
        "        more_news_url_list = list(set(more_news_url_list))\n",
        "        print(f\"->{len(more_news_url_list)}\")\n",
        "        for more_news_url in more_news_url_list:\n",
        "            driver = wd.Chrome(driver_path, options=options)\n",
        "            driver.implicitly_wait(0.8)\n",
        "            driver.get(more_news_url)\n",
        "            \n",
        "            press_list, title_list, link_list, more_news_url_list = get_article_info(driver=driver, \n",
        "                                                                             crawl_date=crawl_date, \n",
        "                                                                             press_list=press_list, \n",
        "                                                                             title_list=title_list, \n",
        "                                                                             link_list=link_list,\n",
        "                                                                             date_list=date_list)\n",
        "            driver.close()\n",
        "    article_df = pd.DataFrame({\"날짜\": date_list, \"언론사\": press_list, \"제목\": title_list, \"링크\": link_list})\n",
        "    \n",
        "    print(f\"extract article num : {len(article_df)}\")\n",
        "    if remove_duplicate:\n",
        "        article_df = article_df.drop_duplicates(['링크'], keep='first')\n",
        "        print(f\"after remove duplicate -> {len(article_df)}\")\n",
        "    \n",
        "    article_df.to_excel(save_path, index=False)\n",
        "    "
      ],
      "metadata": {
        "id": "4UjnTohRV5na"
      },
      "execution_count": 4,
      "outputs": []
    },
    {
      "cell_type": "code",
      "source": [
        "from datetime import datetime\n",
        "from tqdm import tqdm\n",
        "\n",
        "def crawl_news_data(driver_path, keyword, year, month, start_day, end_day, save_path_dir):\n",
        "    for day in tqdm(range(start_day, end_day+1)):\n",
        "        date_time_obj = datetime(year=year, month=month, day=day)\n",
        "        target_date = date_time_obj.strftime(\"%Y%m%d\")\n",
        "        ds_de = date_time_obj.strftime(\"%Y.%m.%d\")\n",
        "\n",
        "        get_naver_news_info_from_selenium(driver_path=driver_path, keyword=keyword, \n",
        "                                          save_path=f\"{save_path_dir}/{keyword}/{target_date}_{keyword}_.xlsx\", target_date=target_date, ds_de=ds_de, remove_duplicate=False)\n",
        "        \n",
        "def bulk_keyword_crawler(driver_path, keywords, year, month, start_day, end_day, save_path_dir):\n",
        "    for keyword in keywords:\n",
        "        print(f\"start keyword - {keyword} crawling ...\")\n",
        "        crawl_news_data(driver_path=driver_path, keyword=keyword, year=year, month=month, start_day=start_day, end_day=end_day, save_path_dir=save_path_dir)"
      ],
      "metadata": {
        "id": "gzsFkKn9WZ6o"
      },
      "execution_count": 5,
      "outputs": []
    },
    {
      "cell_type": "code",
      "source": [
        "import os\n",
        "\n",
        "year, month = 2017, 5\n",
        "start_day, end_day = 16, 31\n",
        "keywords = ['기아', '삼성바이오로직스', '삼성전자',\n",
        "            '삼성SDI', '카카오', '포스코', \n",
        "            '현대차', 'LG화학', 'SK하이닉스']\n",
        "save_path_dir = \"/content/drive/MyDrive/ML\"\n",
        "driver_path = \"chromedriver\"\n",
        "\n",
        "#for keyword in keywords:\n",
        "#  os.makedirs(f\"{save_path_dir}/{keyword}\")\n",
        "\n",
        "bulk_keyword_crawler(driver_path=driver_path, keywords=keywords, year=year, month=month, \n",
        "                     start_day=start_day, end_day=end_day, save_path_dir=save_path_dir)"
      ],
      "metadata": {
        "colab": {
          "base_uri": "https://localhost:8080/"
        },
        "id": "W58HF3OfWcAh",
        "outputId": "e4ebe6ee-6fd9-4e0e-9a61-10e53d0eb15f"
      },
      "execution_count": null,
      "outputs": [
        {
          "metadata": {
            "tags": null
          },
          "name": "stdout",
          "output_type": "stream",
          "text": [
            "start keyword - 기아 crawling ...\n"
          ]
        },
        {
          "metadata": {
            "tags": null
          },
          "name": "stderr",
          "output_type": "stream",
          "text": [
            "\r  0%|          | 0/16 [00:00<?, ?it/s]"
          ]
        },
        {
          "metadata": {
            "tags": null
          },
          "name": "stdout",
          "output_type": "stream",
          "text": [
            "17\n",
            "->14\n",
            "extract article num : 658\n"
          ]
        },
        {
          "metadata": {
            "tags": null
          },
          "name": "stderr",
          "output_type": "stream",
          "text": [
            "\r  6%|▋         | 1/16 [05:39<1:24:54, 339.63s/it]"
          ]
        },
        {
          "metadata": {
            "tags": null
          },
          "name": "stdout",
          "output_type": "stream",
          "text": [
            "4\n",
            "->4\n"
          ]
        },
        {
          "metadata": {
            "tags": null
          },
          "name": "stderr",
          "output_type": "stream",
          "text": [
            "\r 12%|█▎        | 2/16 [08:45<58:09, 249.25s/it]  "
          ]
        },
        {
          "metadata": {
            "tags": null
          },
          "name": "stdout",
          "output_type": "stream",
          "text": [
            "extract article num : 406\n",
            "19\n",
            "->16\n"
          ]
        },
        {
          "metadata": {
            "tags": null
          },
          "name": "stderr",
          "output_type": "stream",
          "text": [
            "\r 19%|█▉        | 3/16 [15:10<1:07:22, 310.98s/it]"
          ]
        },
        {
          "metadata": {
            "tags": null
          },
          "name": "stdout",
          "output_type": "stream",
          "text": [
            "extract article num : 754\n",
            "4\n",
            "->4\n"
          ]
        },
        {
          "metadata": {
            "tags": null
          },
          "name": "stderr",
          "output_type": "stream",
          "text": [
            "\r 25%|██▌       | 4/16 [19:03<56:05, 280.44s/it]  "
          ]
        },
        {
          "metadata": {
            "tags": null
          },
          "name": "stdout",
          "output_type": "stream",
          "text": [
            "extract article num : 508\n",
            "3\n",
            "->3\n"
          ]
        },
        {
          "metadata": {
            "tags": null
          },
          "name": "stderr",
          "output_type": "stream",
          "text": [
            "\r 31%|███▏      | 5/16 [19:50<35:58, 196.26s/it]"
          ]
        },
        {
          "metadata": {
            "tags": null
          },
          "name": "stdout",
          "output_type": "stream",
          "text": [
            "extract article num : 86\n",
            "5\n",
            "->4\n"
          ]
        },
        {
          "metadata": {
            "tags": null
          },
          "name": "stderr",
          "output_type": "stream",
          "text": [
            "\r 38%|███▊      | 6/16 [21:49<28:18, 169.88s/it]"
          ]
        },
        {
          "metadata": {
            "tags": null
          },
          "name": "stdout",
          "output_type": "stream",
          "text": [
            "extract article num : 235\n",
            "33\n",
            "->24\n"
          ]
        },
        {
          "metadata": {
            "tags": null
          },
          "name": "stderr",
          "output_type": "stream",
          "text": [
            "\r 44%|████▍     | 7/16 [29:17<39:07, 260.82s/it]"
          ]
        },
        {
          "metadata": {
            "tags": null
          },
          "name": "stdout",
          "output_type": "stream",
          "text": [
            "extract article num : 880\n",
            "53\n",
            "->40\n"
          ]
        },
        {
          "metadata": {
            "tags": null
          },
          "name": "stderr",
          "output_type": "stream",
          "text": [
            "\r 50%|█████     | 8/16 [39:59<50:56, 382.07s/it]"
          ]
        },
        {
          "metadata": {
            "tags": null
          },
          "name": "stdout",
          "output_type": "stream",
          "text": [
            "extract article num : 1268\n",
            "4\n",
            "->4\n"
          ]
        },
        {
          "metadata": {
            "tags": null
          },
          "name": "stderr",
          "output_type": "stream",
          "text": [
            "\r 56%|█████▋    | 9/16 [42:09<35:22, 303.26s/it]"
          ]
        },
        {
          "metadata": {
            "tags": null
          },
          "name": "stdout",
          "output_type": "stream",
          "text": [
            "extract article num : 276\n",
            "3\n",
            "->3\n"
          ]
        },
        {
          "metadata": {
            "tags": null
          },
          "name": "stderr",
          "output_type": "stream",
          "text": [
            "\r 62%|██████▎   | 10/16 [44:09<24:40, 246.73s/it]"
          ]
        },
        {
          "metadata": {
            "tags": null
          },
          "name": "stdout",
          "output_type": "stream",
          "text": [
            "extract article num : 248\n",
            "4\n",
            "->3\n"
          ]
        },
        {
          "metadata": {
            "tags": null
          },
          "name": "stderr",
          "output_type": "stream",
          "text": [
            "\r 69%|██████▉   | 11/16 [46:00<17:06, 205.34s/it]"
          ]
        },
        {
          "metadata": {
            "tags": null
          },
          "name": "stdout",
          "output_type": "stream",
          "text": [
            "extract article num : 239\n",
            "4\n",
            "->4\n"
          ]
        },
        {
          "metadata": {
            "tags": null
          },
          "name": "stderr",
          "output_type": "stream",
          "text": [
            "\r 75%|███████▌  | 12/16 [47:36<11:27, 171.94s/it]"
          ]
        },
        {
          "metadata": {
            "tags": null
          },
          "name": "stdout",
          "output_type": "stream",
          "text": [
            "extract article num : 194\n",
            "2\n",
            "->2\n"
          ]
        },
        {
          "metadata": {
            "tags": null
          },
          "name": "stderr",
          "output_type": "stream",
          "text": [
            "\r 81%|████████▏ | 13/16 [48:56<07:12, 144.03s/it]"
          ]
        },
        {
          "metadata": {
            "tags": null
          },
          "name": "stdout",
          "output_type": "stream",
          "text": [
            "extract article num : 167\n",
            "72\n",
            "->59\n",
            "extract article num : 2229\n"
          ]
        },
        {
          "metadata": {
            "tags": null
          },
          "name": "stderr",
          "output_type": "stream",
          "text": [
            "\r 88%|████████▊ | 14/16 [1:07:45<14:43, 441.72s/it]"
          ]
        },
        {
          "metadata": {
            "tags": null
          },
          "name": "stdout",
          "output_type": "stream",
          "text": [
            "20\n",
            "->14\n"
          ]
        },
        {
          "metadata": {
            "tags": null
          },
          "name": "stderr",
          "output_type": "stream",
          "text": [
            "\r 94%|█████████▍| 15/16 [1:11:53<06:23, 383.25s/it]"
          ]
        },
        {
          "metadata": {
            "tags": null
          },
          "name": "stdout",
          "output_type": "stream",
          "text": [
            "extract article num : 518\n",
            "9\n",
            "->8\n"
          ]
        },
        {
          "metadata": {
            "tags": null
          },
          "name": "stderr",
          "output_type": "stream",
          "text": [
            "100%|██████████| 16/16 [1:15:13<00:00, 282.08s/it]\n"
          ]
        },
        {
          "metadata": {
            "tags": null
          },
          "name": "stdout",
          "output_type": "stream",
          "text": [
            "extract article num : 392\n",
            "start keyword - 삼성바이오로직스 crawling ...\n"
          ]
        },
        {
          "metadata": {
            "tags": null
          },
          "name": "stderr",
          "output_type": "stream",
          "text": [
            "\r  0%|          | 0/16 [00:00<?, ?it/s]"
          ]
        },
        {
          "metadata": {
            "tags": null
          },
          "name": "stdout",
          "output_type": "stream",
          "text": [
            "extract article num : 9\n"
          ]
        },
        {
          "metadata": {
            "tags": null
          },
          "name": "stderr",
          "output_type": "stream",
          "text": [
            "\r  6%|▋         | 1/16 [00:05<01:26,  5.76s/it]"
          ]
        },
        {
          "metadata": {
            "tags": null
          },
          "name": "stdout",
          "output_type": "stream",
          "text": [
            "1\n",
            "->1\n"
          ]
        },
        {
          "metadata": {
            "tags": null
          },
          "name": "stderr",
          "output_type": "stream",
          "text": [
            "\r 12%|█▎        | 2/16 [00:32<04:16, 18.35s/it]"
          ]
        },
        {
          "metadata": {
            "tags": null
          },
          "name": "stdout",
          "output_type": "stream",
          "text": [
            "extract article num : 51\n",
            "1\n",
            "->1\n"
          ]
        },
        {
          "metadata": {
            "tags": null
          },
          "name": "stderr",
          "output_type": "stream",
          "text": [
            "\r 19%|█▉        | 3/16 [00:52<04:04, 18.77s/it]"
          ]
        },
        {
          "metadata": {
            "tags": null
          },
          "name": "stdout",
          "output_type": "stream",
          "text": [
            "extract article num : 40\n"
          ]
        },
        {
          "metadata": {
            "tags": null
          },
          "name": "stderr",
          "output_type": "stream",
          "text": [
            "\r 25%|██▌       | 4/16 [00:57<02:42, 13.58s/it]"
          ]
        },
        {
          "metadata": {
            "tags": null
          },
          "name": "stdout",
          "output_type": "stream",
          "text": [
            "extract article num : 6\n"
          ]
        },
        {
          "metadata": {
            "tags": null
          },
          "name": "stderr",
          "output_type": "stream",
          "text": [
            "\r 31%|███▏      | 5/16 [01:02<01:54, 10.43s/it]"
          ]
        },
        {
          "metadata": {
            "tags": null
          },
          "name": "stdout",
          "output_type": "stream",
          "text": [
            "extract article num : 2\n"
          ]
        },
        {
          "metadata": {
            "tags": null
          },
          "name": "stderr",
          "output_type": "stream",
          "text": [
            "\r 38%|███▊      | 6/16 [01:08<01:27,  8.71s/it]"
          ]
        },
        {
          "metadata": {
            "tags": null
          },
          "name": "stdout",
          "output_type": "stream",
          "text": [
            "extract article num : 6\n"
          ]
        },
        {
          "metadata": {
            "tags": null
          },
          "name": "stderr",
          "output_type": "stream",
          "text": [
            "\r 44%|████▍     | 7/16 [01:13<01:07,  7.54s/it]"
          ]
        },
        {
          "metadata": {
            "tags": null
          },
          "name": "stdout",
          "output_type": "stream",
          "text": [
            "extract article num : 8\n"
          ]
        },
        {
          "metadata": {
            "tags": null
          },
          "name": "stderr",
          "output_type": "stream",
          "text": [
            "\r 50%|█████     | 8/16 [01:22<01:04,  8.04s/it]"
          ]
        },
        {
          "metadata": {
            "tags": null
          },
          "name": "stdout",
          "output_type": "stream",
          "text": [
            "extract article num : 12\n",
            "2\n",
            "->1\n"
          ]
        },
        {
          "metadata": {
            "tags": null
          },
          "name": "stderr",
          "output_type": "stream",
          "text": [
            "\r 56%|█████▋    | 9/16 [01:45<01:30, 12.92s/it]"
          ]
        },
        {
          "metadata": {
            "tags": null
          },
          "name": "stdout",
          "output_type": "stream",
          "text": [
            "extract article num : 47\n"
          ]
        },
        {
          "metadata": {
            "tags": null
          },
          "name": "stderr",
          "output_type": "stream",
          "text": [
            "\r 62%|██████▎   | 10/16 [01:50<01:02, 10.49s/it]"
          ]
        },
        {
          "metadata": {
            "tags": null
          },
          "name": "stdout",
          "output_type": "stream",
          "text": [
            "extract article num : 10\n"
          ]
        },
        {
          "metadata": {
            "tags": null
          },
          "name": "stderr",
          "output_type": "stream",
          "text": [
            "\r 69%|██████▉   | 11/16 [02:00<00:51, 10.21s/it]"
          ]
        },
        {
          "metadata": {
            "tags": null
          },
          "name": "stdout",
          "output_type": "stream",
          "text": [
            "extract article num : 19\n"
          ]
        },
        {
          "metadata": {
            "tags": null
          },
          "name": "stderr",
          "output_type": "stream",
          "text": [
            "\r 75%|███████▌  | 12/16 [02:05<00:34,  8.73s/it]"
          ]
        },
        {
          "metadata": {
            "tags": null
          },
          "name": "stdout",
          "output_type": "stream",
          "text": [
            "extract article num : 2\n",
            "extract article num : 10\n"
          ]
        },
        {
          "metadata": {
            "tags": null
          },
          "name": "stderr",
          "output_type": "stream",
          "text": [
            "\r 81%|████████▏ | 13/16 [02:11<00:23,  7.76s/it]"
          ]
        },
        {
          "metadata": {
            "tags": null
          },
          "name": "stdout",
          "output_type": "stream",
          "text": [
            "1\n",
            "->1\n"
          ]
        },
        {
          "metadata": {
            "tags": null
          },
          "name": "stderr",
          "output_type": "stream",
          "text": [
            "\r 88%|████████▊ | 14/16 [02:42<00:29, 14.75s/it]"
          ]
        },
        {
          "metadata": {
            "tags": null
          },
          "name": "stdout",
          "output_type": "stream",
          "text": [
            "extract article num : 63\n"
          ]
        },
        {
          "metadata": {
            "tags": null
          },
          "name": "stderr",
          "output_type": "stream",
          "text": [
            "\r 94%|█████████▍| 15/16 [02:51<00:13, 13.11s/it]"
          ]
        },
        {
          "metadata": {
            "tags": null
          },
          "name": "stdout",
          "output_type": "stream",
          "text": [
            "extract article num : 20\n"
          ]
        },
        {
          "metadata": {
            "tags": null
          },
          "name": "stderr",
          "output_type": "stream",
          "text": [
            "100%|██████████| 16/16 [03:06<00:00, 11.63s/it]\n"
          ]
        },
        {
          "metadata": {
            "tags": null
          },
          "name": "stdout",
          "output_type": "stream",
          "text": [
            "extract article num : 30\n",
            "start keyword - 삼성전자 crawling ...\n"
          ]
        },
        {
          "metadata": {
            "tags": null
          },
          "name": "stderr",
          "output_type": "stream",
          "text": [
            "\r  0%|          | 0/16 [00:00<?, ?it/s]"
          ]
        },
        {
          "metadata": {
            "tags": null
          },
          "name": "stdout",
          "output_type": "stream",
          "text": [
            "74\n",
            "->60\n",
            "extract article num : 2261\n"
          ]
        },
        {
          "metadata": {
            "tags": null
          },
          "name": "stderr",
          "output_type": "stream",
          "text": [
            "\r  6%|▋         | 1/16 [18:20<4:35:14, 1100.99s/it]"
          ]
        },
        {
          "metadata": {
            "tags": null
          },
          "name": "stdout",
          "output_type": "stream",
          "text": [
            "49\n",
            "->45\n",
            "extract article num : 2062\n"
          ]
        },
        {
          "metadata": {
            "tags": null
          },
          "name": "stderr",
          "output_type": "stream",
          "text": [
            "\r 12%|█▎        | 2/16 [35:31<4:07:14, 1059.61s/it]"
          ]
        },
        {
          "metadata": {
            "tags": null
          },
          "name": "stdout",
          "output_type": "stream",
          "text": [
            "27\n",
            "->23\n"
          ]
        },
        {
          "metadata": {
            "tags": null
          },
          "name": "stderr",
          "output_type": "stream",
          "text": [
            "\r 19%|█▉        | 3/16 [45:19<3:02:53, 844.09s/it] "
          ]
        },
        {
          "metadata": {
            "tags": null
          },
          "name": "stdout",
          "output_type": "stream",
          "text": [
            "extract article num : 1233\n",
            "55\n",
            "->51\n",
            "extract article num : 2401\n"
          ]
        },
        {
          "metadata": {
            "tags": null
          },
          "name": "stderr",
          "output_type": "stream",
          "text": [
            "\r 25%|██▌       | 4/16 [1:04:24<3:12:37, 963.09s/it]"
          ]
        },
        {
          "metadata": {
            "tags": null
          },
          "name": "stdout",
          "output_type": "stream",
          "text": [
            "3\n",
            "->3\n"
          ]
        },
        {
          "metadata": {
            "tags": null
          },
          "name": "stderr",
          "output_type": "stream",
          "text": [
            "\r 31%|███▏      | 5/16 [1:05:17<1:56:23, 634.90s/it]"
          ]
        },
        {
          "metadata": {
            "tags": null
          },
          "name": "stdout",
          "output_type": "stream",
          "text": [
            "extract article num : 103\n",
            "42\n",
            "->32\n"
          ]
        },
        {
          "metadata": {
            "tags": null
          },
          "name": "stderr",
          "output_type": "stream",
          "text": [
            "\r 38%|███▊      | 6/16 [1:13:55<1:39:09, 594.96s/it]"
          ]
        },
        {
          "metadata": {
            "tags": null
          },
          "name": "stdout",
          "output_type": "stream",
          "text": [
            "extract article num : 985\n",
            "46\n",
            "->38\n"
          ]
        },
        {
          "output_type": "stream",
          "name": "stderr",
          "text": [
            "\r 44%|████▍     | 7/16 [1:26:54<1:38:16, 655.19s/it]"
          ]
        },
        {
          "output_type": "stream",
          "name": "stdout",
          "text": [
            "extract article num : 1519\n",
            "41\n",
            "->34\n"
          ]
        },
        {
          "output_type": "stream",
          "name": "stderr",
          "text": [
            "\r 50%|█████     | 8/16 [1:37:51<1:27:26, 655.87s/it]"
          ]
        },
        {
          "output_type": "stream",
          "name": "stdout",
          "text": [
            "extract article num : 1369\n",
            "81\n",
            "->73\n",
            "extract article num : 2719\n"
          ]
        },
        {
          "output_type": "stream",
          "name": "stderr",
          "text": [
            "\r 56%|█████▋    | 9/16 [2:00:13<1:41:32, 870.32s/it]"
          ]
        },
        {
          "output_type": "stream",
          "name": "stdout",
          "text": [
            "117\n",
            "->100\n",
            "extract article num : 4152\n"
          ]
        },
        {
          "output_type": "stream",
          "name": "stderr",
          "text": [
            "\r 62%|██████▎   | 10/16 [2:34:18<2:03:16, 1232.80s/it]"
          ]
        },
        {
          "output_type": "stream",
          "name": "stdout",
          "text": [
            "9\n",
            "->9\n"
          ]
        },
        {
          "output_type": "stream",
          "name": "stderr",
          "text": [
            "\r 69%|██████▉   | 11/16 [2:39:11<1:18:46, 945.22s/it] "
          ]
        },
        {
          "output_type": "stream",
          "name": "stdout",
          "text": [
            "extract article num : 586\n"
          ]
        },
        {
          "output_type": "stream",
          "name": "stderr",
          "text": [
            "\r 75%|███████▌  | 12/16 [2:39:48<44:35, 668.93s/it]  "
          ]
        },
        {
          "output_type": "stream",
          "name": "stdout",
          "text": [
            "extract article num : 80\n",
            "38\n",
            "->32\n"
          ]
        },
        {
          "output_type": "stream",
          "name": "stderr",
          "text": [
            "\r 81%|████████▏ | 13/16 [2:51:11<33:40, 673.44s/it]"
          ]
        },
        {
          "output_type": "stream",
          "name": "stdout",
          "text": [
            "extract article num : 1464\n",
            "82\n",
            "->71\n",
            "extract article num : 2985\n"
          ]
        },
        {
          "output_type": "stream",
          "name": "stderr",
          "text": [
            "\r 88%|████████▊ | 14/16 [3:15:20<30:15, 907.57s/it]"
          ]
        },
        {
          "output_type": "stream",
          "name": "stdout",
          "text": [
            "44\n",
            "->43\n"
          ]
        }
      ]
    },
    {
      "cell_type": "code",
      "source": [
        "import pandas as pd\n",
        "import glob\n",
        "\n",
        "def merge_excel_files(file_path, file_format, save_path, save_format, columns=None):\n",
        "  merge_df = pd.DataFrame()\n",
        "  file_list = [f\"{file_path}/{file}\" for file in os.listdir(file_path) if file_format in file]\n",
        "\n",
        "  for file in file_list:\n",
        "    if file_format == \".xlsx\":\n",
        "      file_df = pd.read_excel(file)\n",
        "    else:\n",
        "      file_df = pd.read_csv(file)\n",
        "\n",
        "    if columns is None:\n",
        "      columns = file_df.columns\n",
        "    \n",
        "    temp_df = pd.DataFrame(file_df, columns=columns)\n",
        "\n",
        "    merge_df = merge_df.append(temp_df)\n",
        "\n",
        "  if save_format == \".xlsx\":\n",
        "    merge_df.to_excel(save_path, index=False)\n",
        "  else:\n",
        "    merge_df.to_csv(save_path, index=False)\n",
        "\n",
        "if __name__ == \"__main__\":\n",
        "  for keyword in keywords:\n",
        "    merge_excel_files(file_path=f\"/content/drive/MyDrive/ML/{keyword}\", file_format=\".xlsx\",\n",
        "                      save_path=f\"/content/drive/MyDrive/ML/{keyword}/000000~000000_{keyword}_merged.xlsx\", save_format=\".xlsx\")"
      ],
      "metadata": {
        "id": "QM4euTdIWt79"
      },
      "execution_count": null,
      "outputs": []
    },
    {
      "cell_type": "code",
      "source": [
        ""
      ],
      "metadata": {
        "id": "-zWzdvDZef6e"
      },
      "execution_count": null,
      "outputs": []
    }
  ]
}