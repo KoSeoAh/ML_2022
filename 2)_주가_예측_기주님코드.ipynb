{
  "nbformat": 4,
  "nbformat_minor": 0,
  "metadata": {
    "colab": {
      "name": "2) 주가 예측_기주님코드.ipynb",
      "provenance": [],
      "collapsed_sections": [],
      "include_colab_link": true
    },
    "kernelspec": {
      "name": "python3",
      "display_name": "Python 3"
    },
    "language_info": {
      "name": "python"
    },
    "accelerator": "GPU"
  },
  "cells": [
    {
      "cell_type": "markdown",
      "metadata": {
        "id": "view-in-github",
        "colab_type": "text"
      },
      "source": [
        "<a href=\"https://colab.research.google.com/github/KoSeoAh/ML_2022/blob/main/2)_%EC%A3%BC%EA%B0%80_%EC%98%88%EC%B8%A1_%EA%B8%B0%EC%A3%BC%EB%8B%98%EC%BD%94%EB%93%9C.ipynb\" target=\"_parent\"><img src=\"https://colab.research.google.com/assets/colab-badge.svg\" alt=\"Open In Colab\"/></a>"
      ]
    },
    {
      "cell_type": "code",
      "source": [
        "from google.colab import drive\n",
        "drive.mount('/content/drive')"
      ],
      "metadata": {
        "colab": {
          "base_uri": "https://localhost:8080/"
        },
        "id": "GHj5aATe-wDY",
        "outputId": "b894082c-ec4a-4850-bd1c-5f8e44c93880"
      },
      "execution_count": null,
      "outputs": [
        {
          "output_type": "stream",
          "name": "stdout",
          "text": [
            "Mounted at /content/drive\n"
          ]
        }
      ]
    },
    {
      "cell_type": "code",
      "execution_count": null,
      "metadata": {
        "id": "fVPpjP60-XLq"
      },
      "outputs": [],
      "source": [
        "import pandas as pd\n",
        "import numpy as np"
      ]
    },
    {
      "cell_type": "markdown",
      "source": [
        "# 감성지표"
      ],
      "metadata": {
        "id": "9azvdGFY-owk"
      }
    },
    {
      "cell_type": "code",
      "source": [
        "dic = pd.read_csv('/content/drive/MyDrive/ML/최종 감성사전.csv')\n",
        "article = pd.read_csv('/content/drive/MyDrive/ML/날짜별 기사.csv')"
      ],
      "metadata": {
        "id": "5duUifLN-q9q"
      },
      "execution_count": null,
      "outputs": []
    },
    {
      "cell_type": "code",
      "source": [
        "dic = dic.rename(columns={'Unnamed: 0':'단어'})\n",
        "dic = dic.set_index('단어')\n",
        "dic"
      ],
      "metadata": {
        "colab": {
          "base_uri": "https://localhost:8080/",
          "height": 455
        },
        "id": "j1DsxOF7Di3Y",
        "outputId": "427ed783-685d-4cb1-a01f-24c0399fa723"
      },
      "execution_count": null,
      "outputs": [
        {
          "output_type": "execute_result",
          "data": {
            "text/plain": [
              "         감성점수\n",
              "단어           \n",
              "가격   0.123502\n",
              "가능   0.668749\n",
              "가동  -0.713170\n",
              "가속   0.272045\n",
              "가솔린 -0.200111\n",
              "..        ...\n",
              "후퇴  -0.194861\n",
              "훈풍  -0.222705\n",
              "흥행  -0.450054\n",
              "희망  -0.351297\n",
              "희비   0.194012\n",
              "\n",
              "[898 rows x 1 columns]"
            ],
            "text/html": [
              "\n",
              "  <div id=\"df-ff9e6885-b0bf-4cec-8282-85db22e8c7e2\">\n",
              "    <div class=\"colab-df-container\">\n",
              "      <div>\n",
              "<style scoped>\n",
              "    .dataframe tbody tr th:only-of-type {\n",
              "        vertical-align: middle;\n",
              "    }\n",
              "\n",
              "    .dataframe tbody tr th {\n",
              "        vertical-align: top;\n",
              "    }\n",
              "\n",
              "    .dataframe thead th {\n",
              "        text-align: right;\n",
              "    }\n",
              "</style>\n",
              "<table border=\"1\" class=\"dataframe\">\n",
              "  <thead>\n",
              "    <tr style=\"text-align: right;\">\n",
              "      <th></th>\n",
              "      <th>감성점수</th>\n",
              "    </tr>\n",
              "    <tr>\n",
              "      <th>단어</th>\n",
              "      <th></th>\n",
              "    </tr>\n",
              "  </thead>\n",
              "  <tbody>\n",
              "    <tr>\n",
              "      <th>가격</th>\n",
              "      <td>0.123502</td>\n",
              "    </tr>\n",
              "    <tr>\n",
              "      <th>가능</th>\n",
              "      <td>0.668749</td>\n",
              "    </tr>\n",
              "    <tr>\n",
              "      <th>가동</th>\n",
              "      <td>-0.713170</td>\n",
              "    </tr>\n",
              "    <tr>\n",
              "      <th>가속</th>\n",
              "      <td>0.272045</td>\n",
              "    </tr>\n",
              "    <tr>\n",
              "      <th>가솔린</th>\n",
              "      <td>-0.200111</td>\n",
              "    </tr>\n",
              "    <tr>\n",
              "      <th>...</th>\n",
              "      <td>...</td>\n",
              "    </tr>\n",
              "    <tr>\n",
              "      <th>후퇴</th>\n",
              "      <td>-0.194861</td>\n",
              "    </tr>\n",
              "    <tr>\n",
              "      <th>훈풍</th>\n",
              "      <td>-0.222705</td>\n",
              "    </tr>\n",
              "    <tr>\n",
              "      <th>흥행</th>\n",
              "      <td>-0.450054</td>\n",
              "    </tr>\n",
              "    <tr>\n",
              "      <th>희망</th>\n",
              "      <td>-0.351297</td>\n",
              "    </tr>\n",
              "    <tr>\n",
              "      <th>희비</th>\n",
              "      <td>0.194012</td>\n",
              "    </tr>\n",
              "  </tbody>\n",
              "</table>\n",
              "<p>898 rows × 1 columns</p>\n",
              "</div>\n",
              "      <button class=\"colab-df-convert\" onclick=\"convertToInteractive('df-ff9e6885-b0bf-4cec-8282-85db22e8c7e2')\"\n",
              "              title=\"Convert this dataframe to an interactive table.\"\n",
              "              style=\"display:none;\">\n",
              "        \n",
              "  <svg xmlns=\"http://www.w3.org/2000/svg\" height=\"24px\"viewBox=\"0 0 24 24\"\n",
              "       width=\"24px\">\n",
              "    <path d=\"M0 0h24v24H0V0z\" fill=\"none\"/>\n",
              "    <path d=\"M18.56 5.44l.94 2.06.94-2.06 2.06-.94-2.06-.94-.94-2.06-.94 2.06-2.06.94zm-11 1L8.5 8.5l.94-2.06 2.06-.94-2.06-.94L8.5 2.5l-.94 2.06-2.06.94zm10 10l.94 2.06.94-2.06 2.06-.94-2.06-.94-.94-2.06-.94 2.06-2.06.94z\"/><path d=\"M17.41 7.96l-1.37-1.37c-.4-.4-.92-.59-1.43-.59-.52 0-1.04.2-1.43.59L10.3 9.45l-7.72 7.72c-.78.78-.78 2.05 0 2.83L4 21.41c.39.39.9.59 1.41.59.51 0 1.02-.2 1.41-.59l7.78-7.78 2.81-2.81c.8-.78.8-2.07 0-2.86zM5.41 20L4 18.59l7.72-7.72 1.47 1.35L5.41 20z\"/>\n",
              "  </svg>\n",
              "      </button>\n",
              "      \n",
              "  <style>\n",
              "    .colab-df-container {\n",
              "      display:flex;\n",
              "      flex-wrap:wrap;\n",
              "      gap: 12px;\n",
              "    }\n",
              "\n",
              "    .colab-df-convert {\n",
              "      background-color: #E8F0FE;\n",
              "      border: none;\n",
              "      border-radius: 50%;\n",
              "      cursor: pointer;\n",
              "      display: none;\n",
              "      fill: #1967D2;\n",
              "      height: 32px;\n",
              "      padding: 0 0 0 0;\n",
              "      width: 32px;\n",
              "    }\n",
              "\n",
              "    .colab-df-convert:hover {\n",
              "      background-color: #E2EBFA;\n",
              "      box-shadow: 0px 1px 2px rgba(60, 64, 67, 0.3), 0px 1px 3px 1px rgba(60, 64, 67, 0.15);\n",
              "      fill: #174EA6;\n",
              "    }\n",
              "\n",
              "    [theme=dark] .colab-df-convert {\n",
              "      background-color: #3B4455;\n",
              "      fill: #D2E3FC;\n",
              "    }\n",
              "\n",
              "    [theme=dark] .colab-df-convert:hover {\n",
              "      background-color: #434B5C;\n",
              "      box-shadow: 0px 1px 3px 1px rgba(0, 0, 0, 0.15);\n",
              "      filter: drop-shadow(0px 1px 2px rgba(0, 0, 0, 0.3));\n",
              "      fill: #FFFFFF;\n",
              "    }\n",
              "  </style>\n",
              "\n",
              "      <script>\n",
              "        const buttonEl =\n",
              "          document.querySelector('#df-ff9e6885-b0bf-4cec-8282-85db22e8c7e2 button.colab-df-convert');\n",
              "        buttonEl.style.display =\n",
              "          google.colab.kernel.accessAllowed ? 'block' : 'none';\n",
              "\n",
              "        async function convertToInteractive(key) {\n",
              "          const element = document.querySelector('#df-ff9e6885-b0bf-4cec-8282-85db22e8c7e2');\n",
              "          const dataTable =\n",
              "            await google.colab.kernel.invokeFunction('convertToInteractive',\n",
              "                                                     [key], {});\n",
              "          if (!dataTable) return;\n",
              "\n",
              "          const docLinkHtml = 'Like what you see? Visit the ' +\n",
              "            '<a target=\"_blank\" href=https://colab.research.google.com/notebooks/data_table.ipynb>data table notebook</a>'\n",
              "            + ' to learn more about interactive tables.';\n",
              "          element.innerHTML = '';\n",
              "          dataTable['output_type'] = 'display_data';\n",
              "          await google.colab.output.renderOutput(dataTable, element);\n",
              "          const docLink = document.createElement('div');\n",
              "          docLink.innerHTML = docLinkHtml;\n",
              "          element.appendChild(docLink);\n",
              "        }\n",
              "      </script>\n",
              "    </div>\n",
              "  </div>\n",
              "  "
            ]
          },
          "metadata": {},
          "execution_count": 27
        }
      ]
    },
    {
      "cell_type": "code",
      "source": [
        "article = article.set_index('Date')\n",
        "article"
      ],
      "metadata": {
        "colab": {
          "base_uri": "https://localhost:8080/",
          "height": 455
        },
        "id": "OHp5B4PLAyct",
        "outputId": "66c4663e-2004-4e27-9027-cf0b6c033aac"
      },
      "execution_count": null,
      "outputs": [
        {
          "output_type": "execute_result",
          "data": {
            "text/plain": [
              "                                                         Noun\n",
              "Date                                                         \n",
              "2017-04-03  기아차 카니발 출시 본격 판매 기아차 월 해외 내수 판매 울상 전년 르노삼성 월 약...\n",
              "2017-04-04  현대 기아차 개 차종   레드 닷 디자인 수상 현대 기아차 미국 판매 뚝 현대 기아...\n",
              "2017-04-05  적자 인정 대신 기부금 억 기아 챔피 언스 필드 운영 결론 기아차 직원 평균 근속 ...\n",
              "2017-04-06  기아차 광주 공장 독거 노인 가구 사랑 배달 기아차 년 모하 출시 맞춤 사양 추가 ...\n",
              "2017-04-07  현대 기아 미국 만 대 리콜 확정 캐나다 만 대 협의 종합 현대 기아차 세타 엔진 ...\n",
              "...                                                       ...\n",
              "2021-08-02  기아 월 만 대 판매 해외 증가 사전 예약 돌풍 기아 출시 가격 천 만 원 기아 전...\n",
              "2021-08-03  현대차 기아 벤츠 강 체제 르 쌍 쉐 현대차 기아 반도체 대란 친환경 차 판매 기아...\n",
              "2021-08-04    현대차 기아 제네시스 개월 판매 신기록 행진 반도체 대란 현대차 기아   현대차...\n",
              "2021-08-05  현대차 기아   친환경 차 판매 질주 전년   급증   작품 기아 강서 플래그 십 ...\n",
              "2021-08-06    년 신차 전기차 현대차 기아 지지 성명 그랜저 월 판매량 추월 기아 세단 지형 ...\n",
              "\n",
              "[1067 rows x 1 columns]"
            ],
            "text/html": [
              "\n",
              "  <div id=\"df-b93e94bb-455b-4e61-92f1-c32cb43492e4\">\n",
              "    <div class=\"colab-df-container\">\n",
              "      <div>\n",
              "<style scoped>\n",
              "    .dataframe tbody tr th:only-of-type {\n",
              "        vertical-align: middle;\n",
              "    }\n",
              "\n",
              "    .dataframe tbody tr th {\n",
              "        vertical-align: top;\n",
              "    }\n",
              "\n",
              "    .dataframe thead th {\n",
              "        text-align: right;\n",
              "    }\n",
              "</style>\n",
              "<table border=\"1\" class=\"dataframe\">\n",
              "  <thead>\n",
              "    <tr style=\"text-align: right;\">\n",
              "      <th></th>\n",
              "      <th>Noun</th>\n",
              "    </tr>\n",
              "    <tr>\n",
              "      <th>Date</th>\n",
              "      <th></th>\n",
              "    </tr>\n",
              "  </thead>\n",
              "  <tbody>\n",
              "    <tr>\n",
              "      <th>2017-04-03</th>\n",
              "      <td>기아차 카니발 출시 본격 판매 기아차 월 해외 내수 판매 울상 전년 르노삼성 월 약...</td>\n",
              "    </tr>\n",
              "    <tr>\n",
              "      <th>2017-04-04</th>\n",
              "      <td>현대 기아차 개 차종   레드 닷 디자인 수상 현대 기아차 미국 판매 뚝 현대 기아...</td>\n",
              "    </tr>\n",
              "    <tr>\n",
              "      <th>2017-04-05</th>\n",
              "      <td>적자 인정 대신 기부금 억 기아 챔피 언스 필드 운영 결론 기아차 직원 평균 근속 ...</td>\n",
              "    </tr>\n",
              "    <tr>\n",
              "      <th>2017-04-06</th>\n",
              "      <td>기아차 광주 공장 독거 노인 가구 사랑 배달 기아차 년 모하 출시 맞춤 사양 추가 ...</td>\n",
              "    </tr>\n",
              "    <tr>\n",
              "      <th>2017-04-07</th>\n",
              "      <td>현대 기아 미국 만 대 리콜 확정 캐나다 만 대 협의 종합 현대 기아차 세타 엔진 ...</td>\n",
              "    </tr>\n",
              "    <tr>\n",
              "      <th>...</th>\n",
              "      <td>...</td>\n",
              "    </tr>\n",
              "    <tr>\n",
              "      <th>2021-08-02</th>\n",
              "      <td>기아 월 만 대 판매 해외 증가 사전 예약 돌풍 기아 출시 가격 천 만 원 기아 전...</td>\n",
              "    </tr>\n",
              "    <tr>\n",
              "      <th>2021-08-03</th>\n",
              "      <td>현대차 기아 벤츠 강 체제 르 쌍 쉐 현대차 기아 반도체 대란 친환경 차 판매 기아...</td>\n",
              "    </tr>\n",
              "    <tr>\n",
              "      <th>2021-08-04</th>\n",
              "      <td>현대차 기아 제네시스 개월 판매 신기록 행진 반도체 대란 현대차 기아   현대차...</td>\n",
              "    </tr>\n",
              "    <tr>\n",
              "      <th>2021-08-05</th>\n",
              "      <td>현대차 기아   친환경 차 판매 질주 전년   급증   작품 기아 강서 플래그 십 ...</td>\n",
              "    </tr>\n",
              "    <tr>\n",
              "      <th>2021-08-06</th>\n",
              "      <td>년 신차 전기차 현대차 기아 지지 성명 그랜저 월 판매량 추월 기아 세단 지형 ...</td>\n",
              "    </tr>\n",
              "  </tbody>\n",
              "</table>\n",
              "<p>1067 rows × 1 columns</p>\n",
              "</div>\n",
              "      <button class=\"colab-df-convert\" onclick=\"convertToInteractive('df-b93e94bb-455b-4e61-92f1-c32cb43492e4')\"\n",
              "              title=\"Convert this dataframe to an interactive table.\"\n",
              "              style=\"display:none;\">\n",
              "        \n",
              "  <svg xmlns=\"http://www.w3.org/2000/svg\" height=\"24px\"viewBox=\"0 0 24 24\"\n",
              "       width=\"24px\">\n",
              "    <path d=\"M0 0h24v24H0V0z\" fill=\"none\"/>\n",
              "    <path d=\"M18.56 5.44l.94 2.06.94-2.06 2.06-.94-2.06-.94-.94-2.06-.94 2.06-2.06.94zm-11 1L8.5 8.5l.94-2.06 2.06-.94-2.06-.94L8.5 2.5l-.94 2.06-2.06.94zm10 10l.94 2.06.94-2.06 2.06-.94-2.06-.94-.94-2.06-.94 2.06-2.06.94z\"/><path d=\"M17.41 7.96l-1.37-1.37c-.4-.4-.92-.59-1.43-.59-.52 0-1.04.2-1.43.59L10.3 9.45l-7.72 7.72c-.78.78-.78 2.05 0 2.83L4 21.41c.39.39.9.59 1.41.59.51 0 1.02-.2 1.41-.59l7.78-7.78 2.81-2.81c.8-.78.8-2.07 0-2.86zM5.41 20L4 18.59l7.72-7.72 1.47 1.35L5.41 20z\"/>\n",
              "  </svg>\n",
              "      </button>\n",
              "      \n",
              "  <style>\n",
              "    .colab-df-container {\n",
              "      display:flex;\n",
              "      flex-wrap:wrap;\n",
              "      gap: 12px;\n",
              "    }\n",
              "\n",
              "    .colab-df-convert {\n",
              "      background-color: #E8F0FE;\n",
              "      border: none;\n",
              "      border-radius: 50%;\n",
              "      cursor: pointer;\n",
              "      display: none;\n",
              "      fill: #1967D2;\n",
              "      height: 32px;\n",
              "      padding: 0 0 0 0;\n",
              "      width: 32px;\n",
              "    }\n",
              "\n",
              "    .colab-df-convert:hover {\n",
              "      background-color: #E2EBFA;\n",
              "      box-shadow: 0px 1px 2px rgba(60, 64, 67, 0.3), 0px 1px 3px 1px rgba(60, 64, 67, 0.15);\n",
              "      fill: #174EA6;\n",
              "    }\n",
              "\n",
              "    [theme=dark] .colab-df-convert {\n",
              "      background-color: #3B4455;\n",
              "      fill: #D2E3FC;\n",
              "    }\n",
              "\n",
              "    [theme=dark] .colab-df-convert:hover {\n",
              "      background-color: #434B5C;\n",
              "      box-shadow: 0px 1px 3px 1px rgba(0, 0, 0, 0.15);\n",
              "      filter: drop-shadow(0px 1px 2px rgba(0, 0, 0, 0.3));\n",
              "      fill: #FFFFFF;\n",
              "    }\n",
              "  </style>\n",
              "\n",
              "      <script>\n",
              "        const buttonEl =\n",
              "          document.querySelector('#df-b93e94bb-455b-4e61-92f1-c32cb43492e4 button.colab-df-convert');\n",
              "        buttonEl.style.display =\n",
              "          google.colab.kernel.accessAllowed ? 'block' : 'none';\n",
              "\n",
              "        async function convertToInteractive(key) {\n",
              "          const element = document.querySelector('#df-b93e94bb-455b-4e61-92f1-c32cb43492e4');\n",
              "          const dataTable =\n",
              "            await google.colab.kernel.invokeFunction('convertToInteractive',\n",
              "                                                     [key], {});\n",
              "          if (!dataTable) return;\n",
              "\n",
              "          const docLinkHtml = 'Like what you see? Visit the ' +\n",
              "            '<a target=\"_blank\" href=https://colab.research.google.com/notebooks/data_table.ipynb>data table notebook</a>'\n",
              "            + ' to learn more about interactive tables.';\n",
              "          element.innerHTML = '';\n",
              "          dataTable['output_type'] = 'display_data';\n",
              "          await google.colab.output.renderOutput(dataTable, element);\n",
              "          const docLink = document.createElement('div');\n",
              "          docLink.innerHTML = docLinkHtml;\n",
              "          element.appendChild(docLink);\n",
              "        }\n",
              "      </script>\n",
              "    </div>\n",
              "  </div>\n",
              "  "
            ]
          },
          "metadata": {},
          "execution_count": 33
        }
      ]
    },
    {
      "cell_type": "code",
      "source": [
        "scores = []\n",
        "\n",
        "for idx in article.index:\n",
        "  tmp = article.loc[idx]['Noun'].split()\n",
        "  sc = 0\n",
        "  for w in tmp:\n",
        "    if w in dic.index:\n",
        "      sc += dic.loc[w]['감성점수']\n",
        "    else:\n",
        "      continue\n",
        "  scores.append(sc)"
      ],
      "metadata": {
        "id": "ojUe-wz3ATET"
      },
      "execution_count": null,
      "outputs": []
    },
    {
      "cell_type": "code",
      "source": [
        "sentiment = pd.DataFrame(scores)\n",
        "sentiment.transpose()\n",
        "sentiment.index = article.index\n",
        "sentiment.index = pd.to_datetime(sentiment.index)\n",
        "sentiment = sentiment.rename(columns={0:'단어'})\n",
        "sentiment"
      ],
      "metadata": {
        "colab": {
          "base_uri": "https://localhost:8080/",
          "height": 455
        },
        "id": "ZF53POSmE5H7",
        "outputId": "7ef138f1-545e-459f-fed9-0a51fb28dbdf"
      },
      "execution_count": null,
      "outputs": [
        {
          "output_type": "execute_result",
          "data": {
            "text/plain": [
              "                    단어\n",
              "Date                  \n",
              "2017-04-03   63.459729\n",
              "2017-04-04  -66.129121\n",
              "2017-04-05    6.103547\n",
              "2017-04-06  104.535441\n",
              "2017-04-07  -79.332146\n",
              "...                ...\n",
              "2021-08-02  -13.492296\n",
              "2021-08-03   96.894534\n",
              "2021-08-04   56.495153\n",
              "2021-08-05  -25.464277\n",
              "2021-08-06   24.297569\n",
              "\n",
              "[1067 rows x 1 columns]"
            ],
            "text/html": [
              "\n",
              "  <div id=\"df-ece8b924-76d4-4af4-8d47-d8a876f6ab58\">\n",
              "    <div class=\"colab-df-container\">\n",
              "      <div>\n",
              "<style scoped>\n",
              "    .dataframe tbody tr th:only-of-type {\n",
              "        vertical-align: middle;\n",
              "    }\n",
              "\n",
              "    .dataframe tbody tr th {\n",
              "        vertical-align: top;\n",
              "    }\n",
              "\n",
              "    .dataframe thead th {\n",
              "        text-align: right;\n",
              "    }\n",
              "</style>\n",
              "<table border=\"1\" class=\"dataframe\">\n",
              "  <thead>\n",
              "    <tr style=\"text-align: right;\">\n",
              "      <th></th>\n",
              "      <th>단어</th>\n",
              "    </tr>\n",
              "    <tr>\n",
              "      <th>Date</th>\n",
              "      <th></th>\n",
              "    </tr>\n",
              "  </thead>\n",
              "  <tbody>\n",
              "    <tr>\n",
              "      <th>2017-04-03</th>\n",
              "      <td>63.459729</td>\n",
              "    </tr>\n",
              "    <tr>\n",
              "      <th>2017-04-04</th>\n",
              "      <td>-66.129121</td>\n",
              "    </tr>\n",
              "    <tr>\n",
              "      <th>2017-04-05</th>\n",
              "      <td>6.103547</td>\n",
              "    </tr>\n",
              "    <tr>\n",
              "      <th>2017-04-06</th>\n",
              "      <td>104.535441</td>\n",
              "    </tr>\n",
              "    <tr>\n",
              "      <th>2017-04-07</th>\n",
              "      <td>-79.332146</td>\n",
              "    </tr>\n",
              "    <tr>\n",
              "      <th>...</th>\n",
              "      <td>...</td>\n",
              "    </tr>\n",
              "    <tr>\n",
              "      <th>2021-08-02</th>\n",
              "      <td>-13.492296</td>\n",
              "    </tr>\n",
              "    <tr>\n",
              "      <th>2021-08-03</th>\n",
              "      <td>96.894534</td>\n",
              "    </tr>\n",
              "    <tr>\n",
              "      <th>2021-08-04</th>\n",
              "      <td>56.495153</td>\n",
              "    </tr>\n",
              "    <tr>\n",
              "      <th>2021-08-05</th>\n",
              "      <td>-25.464277</td>\n",
              "    </tr>\n",
              "    <tr>\n",
              "      <th>2021-08-06</th>\n",
              "      <td>24.297569</td>\n",
              "    </tr>\n",
              "  </tbody>\n",
              "</table>\n",
              "<p>1067 rows × 1 columns</p>\n",
              "</div>\n",
              "      <button class=\"colab-df-convert\" onclick=\"convertToInteractive('df-ece8b924-76d4-4af4-8d47-d8a876f6ab58')\"\n",
              "              title=\"Convert this dataframe to an interactive table.\"\n",
              "              style=\"display:none;\">\n",
              "        \n",
              "  <svg xmlns=\"http://www.w3.org/2000/svg\" height=\"24px\"viewBox=\"0 0 24 24\"\n",
              "       width=\"24px\">\n",
              "    <path d=\"M0 0h24v24H0V0z\" fill=\"none\"/>\n",
              "    <path d=\"M18.56 5.44l.94 2.06.94-2.06 2.06-.94-2.06-.94-.94-2.06-.94 2.06-2.06.94zm-11 1L8.5 8.5l.94-2.06 2.06-.94-2.06-.94L8.5 2.5l-.94 2.06-2.06.94zm10 10l.94 2.06.94-2.06 2.06-.94-2.06-.94-.94-2.06-.94 2.06-2.06.94z\"/><path d=\"M17.41 7.96l-1.37-1.37c-.4-.4-.92-.59-1.43-.59-.52 0-1.04.2-1.43.59L10.3 9.45l-7.72 7.72c-.78.78-.78 2.05 0 2.83L4 21.41c.39.39.9.59 1.41.59.51 0 1.02-.2 1.41-.59l7.78-7.78 2.81-2.81c.8-.78.8-2.07 0-2.86zM5.41 20L4 18.59l7.72-7.72 1.47 1.35L5.41 20z\"/>\n",
              "  </svg>\n",
              "      </button>\n",
              "      \n",
              "  <style>\n",
              "    .colab-df-container {\n",
              "      display:flex;\n",
              "      flex-wrap:wrap;\n",
              "      gap: 12px;\n",
              "    }\n",
              "\n",
              "    .colab-df-convert {\n",
              "      background-color: #E8F0FE;\n",
              "      border: none;\n",
              "      border-radius: 50%;\n",
              "      cursor: pointer;\n",
              "      display: none;\n",
              "      fill: #1967D2;\n",
              "      height: 32px;\n",
              "      padding: 0 0 0 0;\n",
              "      width: 32px;\n",
              "    }\n",
              "\n",
              "    .colab-df-convert:hover {\n",
              "      background-color: #E2EBFA;\n",
              "      box-shadow: 0px 1px 2px rgba(60, 64, 67, 0.3), 0px 1px 3px 1px rgba(60, 64, 67, 0.15);\n",
              "      fill: #174EA6;\n",
              "    }\n",
              "\n",
              "    [theme=dark] .colab-df-convert {\n",
              "      background-color: #3B4455;\n",
              "      fill: #D2E3FC;\n",
              "    }\n",
              "\n",
              "    [theme=dark] .colab-df-convert:hover {\n",
              "      background-color: #434B5C;\n",
              "      box-shadow: 0px 1px 3px 1px rgba(0, 0, 0, 0.15);\n",
              "      filter: drop-shadow(0px 1px 2px rgba(0, 0, 0, 0.3));\n",
              "      fill: #FFFFFF;\n",
              "    }\n",
              "  </style>\n",
              "\n",
              "      <script>\n",
              "        const buttonEl =\n",
              "          document.querySelector('#df-ece8b924-76d4-4af4-8d47-d8a876f6ab58 button.colab-df-convert');\n",
              "        buttonEl.style.display =\n",
              "          google.colab.kernel.accessAllowed ? 'block' : 'none';\n",
              "\n",
              "        async function convertToInteractive(key) {\n",
              "          const element = document.querySelector('#df-ece8b924-76d4-4af4-8d47-d8a876f6ab58');\n",
              "          const dataTable =\n",
              "            await google.colab.kernel.invokeFunction('convertToInteractive',\n",
              "                                                     [key], {});\n",
              "          if (!dataTable) return;\n",
              "\n",
              "          const docLinkHtml = 'Like what you see? Visit the ' +\n",
              "            '<a target=\"_blank\" href=https://colab.research.google.com/notebooks/data_table.ipynb>data table notebook</a>'\n",
              "            + ' to learn more about interactive tables.';\n",
              "          element.innerHTML = '';\n",
              "          dataTable['output_type'] = 'display_data';\n",
              "          await google.colab.output.renderOutput(dataTable, element);\n",
              "          const docLink = document.createElement('div');\n",
              "          docLink.innerHTML = docLinkHtml;\n",
              "          element.appendChild(docLink);\n",
              "        }\n",
              "      </script>\n",
              "    </div>\n",
              "  </div>\n",
              "  "
            ]
          },
          "metadata": {},
          "execution_count": 52
        }
      ]
    },
    {
      "cell_type": "markdown",
      "source": [
        "# 기술지표"
      ],
      "metadata": {
        "id": "_fpmlf7V-a9q"
      }
    },
    {
      "cell_type": "code",
      "source": [
        "def remove_comma(x):\n",
        "  return x.replace(',', '')\n",
        "\n",
        "def convert_vol(x):\n",
        "  num = x.strip(x[-1])\n",
        "  num = float(num)\n",
        "  if x[-1] == 'K':\n",
        "    return num * 1000\n",
        "  elif x[-1] == 'M':\n",
        "    return num * 1000000\n",
        "  else:\n",
        "    return num * 1000000000"
      ],
      "metadata": {
        "id": "ajSR2SRG-Z2-"
      },
      "execution_count": null,
      "outputs": []
    },
    {
      "cell_type": "code",
      "source": [
        "tech = pd.read_csv('/content/drive/MyDrive/ML/거래량, 코스피 지수.csv')\n",
        "tech = tech[['Date', 'Price', 'Vol.']]\n",
        "tech['Date'] = tech['Date'].apply(lambda x: x.replace(',', ''))\n",
        "tech['Date'] = tech['Date'].apply(lambda x: pd.to_datetime(x, format='%b %d %Y'))\n",
        "tech.index = tech['Date']\n",
        "tech = tech.drop(['Date'], axis='columns')\n",
        "tech = tech.sort_index(ascending=True)\n",
        "tech['Price'] = tech['Price'].apply(remove_comma)\n",
        "tech['Price'] = tech['Price'].astype(float)\n",
        "tech['Vol.'] = tech['Vol.'].apply(convert_vol)\n",
        "tech. rename(columns = {'Price':'거래량', 'Vol.':'코스피 지수'}, inplace = True)\n",
        "tech.head()"
      ],
      "metadata": {
        "colab": {
          "base_uri": "https://localhost:8080/",
          "height": 237
        },
        "id": "NkqEFq-s-eZB",
        "outputId": "6f71dfab-6592-45fe-bd89-5b19bb286626"
      },
      "execution_count": null,
      "outputs": [
        {
          "output_type": "execute_result",
          "data": {
            "text/plain": [
              "                거래량       코스피 지수\n",
              "Date                            \n",
              "2017-03-02  2102.65  434710000.0\n",
              "2017-03-03  2078.75  425940000.0\n",
              "2017-03-06  2081.36  431440000.0\n",
              "2017-03-07  2094.05  277830000.0\n",
              "2017-03-08  2095.41  381440000.0"
            ],
            "text/html": [
              "\n",
              "  <div id=\"df-6de6c647-6f45-45cc-b40f-1e61ec303e5f\">\n",
              "    <div class=\"colab-df-container\">\n",
              "      <div>\n",
              "<style scoped>\n",
              "    .dataframe tbody tr th:only-of-type {\n",
              "        vertical-align: middle;\n",
              "    }\n",
              "\n",
              "    .dataframe tbody tr th {\n",
              "        vertical-align: top;\n",
              "    }\n",
              "\n",
              "    .dataframe thead th {\n",
              "        text-align: right;\n",
              "    }\n",
              "</style>\n",
              "<table border=\"1\" class=\"dataframe\">\n",
              "  <thead>\n",
              "    <tr style=\"text-align: right;\">\n",
              "      <th></th>\n",
              "      <th>거래량</th>\n",
              "      <th>코스피 지수</th>\n",
              "    </tr>\n",
              "    <tr>\n",
              "      <th>Date</th>\n",
              "      <th></th>\n",
              "      <th></th>\n",
              "    </tr>\n",
              "  </thead>\n",
              "  <tbody>\n",
              "    <tr>\n",
              "      <th>2017-03-02</th>\n",
              "      <td>2102.65</td>\n",
              "      <td>434710000.0</td>\n",
              "    </tr>\n",
              "    <tr>\n",
              "      <th>2017-03-03</th>\n",
              "      <td>2078.75</td>\n",
              "      <td>425940000.0</td>\n",
              "    </tr>\n",
              "    <tr>\n",
              "      <th>2017-03-06</th>\n",
              "      <td>2081.36</td>\n",
              "      <td>431440000.0</td>\n",
              "    </tr>\n",
              "    <tr>\n",
              "      <th>2017-03-07</th>\n",
              "      <td>2094.05</td>\n",
              "      <td>277830000.0</td>\n",
              "    </tr>\n",
              "    <tr>\n",
              "      <th>2017-03-08</th>\n",
              "      <td>2095.41</td>\n",
              "      <td>381440000.0</td>\n",
              "    </tr>\n",
              "  </tbody>\n",
              "</table>\n",
              "</div>\n",
              "      <button class=\"colab-df-convert\" onclick=\"convertToInteractive('df-6de6c647-6f45-45cc-b40f-1e61ec303e5f')\"\n",
              "              title=\"Convert this dataframe to an interactive table.\"\n",
              "              style=\"display:none;\">\n",
              "        \n",
              "  <svg xmlns=\"http://www.w3.org/2000/svg\" height=\"24px\"viewBox=\"0 0 24 24\"\n",
              "       width=\"24px\">\n",
              "    <path d=\"M0 0h24v24H0V0z\" fill=\"none\"/>\n",
              "    <path d=\"M18.56 5.44l.94 2.06.94-2.06 2.06-.94-2.06-.94-.94-2.06-.94 2.06-2.06.94zm-11 1L8.5 8.5l.94-2.06 2.06-.94-2.06-.94L8.5 2.5l-.94 2.06-2.06.94zm10 10l.94 2.06.94-2.06 2.06-.94-2.06-.94-.94-2.06-.94 2.06-2.06.94z\"/><path d=\"M17.41 7.96l-1.37-1.37c-.4-.4-.92-.59-1.43-.59-.52 0-1.04.2-1.43.59L10.3 9.45l-7.72 7.72c-.78.78-.78 2.05 0 2.83L4 21.41c.39.39.9.59 1.41.59.51 0 1.02-.2 1.41-.59l7.78-7.78 2.81-2.81c.8-.78.8-2.07 0-2.86zM5.41 20L4 18.59l7.72-7.72 1.47 1.35L5.41 20z\"/>\n",
              "  </svg>\n",
              "      </button>\n",
              "      \n",
              "  <style>\n",
              "    .colab-df-container {\n",
              "      display:flex;\n",
              "      flex-wrap:wrap;\n",
              "      gap: 12px;\n",
              "    }\n",
              "\n",
              "    .colab-df-convert {\n",
              "      background-color: #E8F0FE;\n",
              "      border: none;\n",
              "      border-radius: 50%;\n",
              "      cursor: pointer;\n",
              "      display: none;\n",
              "      fill: #1967D2;\n",
              "      height: 32px;\n",
              "      padding: 0 0 0 0;\n",
              "      width: 32px;\n",
              "    }\n",
              "\n",
              "    .colab-df-convert:hover {\n",
              "      background-color: #E2EBFA;\n",
              "      box-shadow: 0px 1px 2px rgba(60, 64, 67, 0.3), 0px 1px 3px 1px rgba(60, 64, 67, 0.15);\n",
              "      fill: #174EA6;\n",
              "    }\n",
              "\n",
              "    [theme=dark] .colab-df-convert {\n",
              "      background-color: #3B4455;\n",
              "      fill: #D2E3FC;\n",
              "    }\n",
              "\n",
              "    [theme=dark] .colab-df-convert:hover {\n",
              "      background-color: #434B5C;\n",
              "      box-shadow: 0px 1px 3px 1px rgba(0, 0, 0, 0.15);\n",
              "      filter: drop-shadow(0px 1px 2px rgba(0, 0, 0, 0.3));\n",
              "      fill: #FFFFFF;\n",
              "    }\n",
              "  </style>\n",
              "\n",
              "      <script>\n",
              "        const buttonEl =\n",
              "          document.querySelector('#df-6de6c647-6f45-45cc-b40f-1e61ec303e5f button.colab-df-convert');\n",
              "        buttonEl.style.display =\n",
              "          google.colab.kernel.accessAllowed ? 'block' : 'none';\n",
              "\n",
              "        async function convertToInteractive(key) {\n",
              "          const element = document.querySelector('#df-6de6c647-6f45-45cc-b40f-1e61ec303e5f');\n",
              "          const dataTable =\n",
              "            await google.colab.kernel.invokeFunction('convertToInteractive',\n",
              "                                                     [key], {});\n",
              "          if (!dataTable) return;\n",
              "\n",
              "          const docLinkHtml = 'Like what you see? Visit the ' +\n",
              "            '<a target=\"_blank\" href=https://colab.research.google.com/notebooks/data_table.ipynb>data table notebook</a>'\n",
              "            + ' to learn more about interactive tables.';\n",
              "          element.innerHTML = '';\n",
              "          dataTable['output_type'] = 'display_data';\n",
              "          await google.colab.output.renderOutput(dataTable, element);\n",
              "          const docLink = document.createElement('div');\n",
              "          docLink.innerHTML = docLinkHtml;\n",
              "          element.appendChild(docLink);\n",
              "        }\n",
              "      </script>\n",
              "    </div>\n",
              "  </div>\n",
              "  "
            ]
          },
          "metadata": {},
          "execution_count": 39
        }
      ]
    },
    {
      "cell_type": "markdown",
      "source": [
        "# 거시경제지표"
      ],
      "metadata": {
        "id": "VfVpcIi5Apgt"
      }
    },
    {
      "cell_type": "code",
      "source": [
        "currency = pd.read_csv('/content/drive/MyDrive/ML/환율.csv')\n",
        "currency = currency[['날짜', '종가']]\n",
        "currency. rename(columns = {'날짜':'Date', '종가':'환율'}, inplace = True)\n",
        "currency['Date'] = currency['Date'].apply(lambda x: pd.to_datetime(x, format='%Y년 %m월 %d일'))\n",
        "currency.index = currency['Date']\n",
        "currency = currency.drop(['Date'], axis='columns')\n",
        "currency = currency.sort_index(ascending=True)\n",
        "currency['환율'] = currency['환율'].apply(remove_comma)\n",
        "currency['환율'] = currency['환율'].astype(float)\n",
        "currency"
      ],
      "metadata": {
        "colab": {
          "base_uri": "https://localhost:8080/",
          "height": 455
        },
        "id": "Qgpctomo_1AE",
        "outputId": "d1b4b347-d0d7-4de0-becf-e51167a97229"
      },
      "execution_count": null,
      "outputs": [
        {
          "output_type": "execute_result",
          "data": {
            "text/plain": [
              "                 환율\n",
              "Date               \n",
              "2017-03-01  1140.23\n",
              "2017-03-02  1150.71\n",
              "2017-03-03  1152.32\n",
              "2017-03-06  1155.15\n",
              "2017-03-07  1150.67\n",
              "...             ...\n",
              "2022-03-25  1225.08\n",
              "2022-03-28  1223.65\n",
              "2022-03-29  1207.35\n",
              "2022-03-30  1210.31\n",
              "2022-03-31  1214.17\n",
              "\n",
              "[1327 rows x 1 columns]"
            ],
            "text/html": [
              "\n",
              "  <div id=\"df-cd86e862-8e72-43f1-acac-204467e5e211\">\n",
              "    <div class=\"colab-df-container\">\n",
              "      <div>\n",
              "<style scoped>\n",
              "    .dataframe tbody tr th:only-of-type {\n",
              "        vertical-align: middle;\n",
              "    }\n",
              "\n",
              "    .dataframe tbody tr th {\n",
              "        vertical-align: top;\n",
              "    }\n",
              "\n",
              "    .dataframe thead th {\n",
              "        text-align: right;\n",
              "    }\n",
              "</style>\n",
              "<table border=\"1\" class=\"dataframe\">\n",
              "  <thead>\n",
              "    <tr style=\"text-align: right;\">\n",
              "      <th></th>\n",
              "      <th>환율</th>\n",
              "    </tr>\n",
              "    <tr>\n",
              "      <th>Date</th>\n",
              "      <th></th>\n",
              "    </tr>\n",
              "  </thead>\n",
              "  <tbody>\n",
              "    <tr>\n",
              "      <th>2017-03-01</th>\n",
              "      <td>1140.23</td>\n",
              "    </tr>\n",
              "    <tr>\n",
              "      <th>2017-03-02</th>\n",
              "      <td>1150.71</td>\n",
              "    </tr>\n",
              "    <tr>\n",
              "      <th>2017-03-03</th>\n",
              "      <td>1152.32</td>\n",
              "    </tr>\n",
              "    <tr>\n",
              "      <th>2017-03-06</th>\n",
              "      <td>1155.15</td>\n",
              "    </tr>\n",
              "    <tr>\n",
              "      <th>2017-03-07</th>\n",
              "      <td>1150.67</td>\n",
              "    </tr>\n",
              "    <tr>\n",
              "      <th>...</th>\n",
              "      <td>...</td>\n",
              "    </tr>\n",
              "    <tr>\n",
              "      <th>2022-03-25</th>\n",
              "      <td>1225.08</td>\n",
              "    </tr>\n",
              "    <tr>\n",
              "      <th>2022-03-28</th>\n",
              "      <td>1223.65</td>\n",
              "    </tr>\n",
              "    <tr>\n",
              "      <th>2022-03-29</th>\n",
              "      <td>1207.35</td>\n",
              "    </tr>\n",
              "    <tr>\n",
              "      <th>2022-03-30</th>\n",
              "      <td>1210.31</td>\n",
              "    </tr>\n",
              "    <tr>\n",
              "      <th>2022-03-31</th>\n",
              "      <td>1214.17</td>\n",
              "    </tr>\n",
              "  </tbody>\n",
              "</table>\n",
              "<p>1327 rows × 1 columns</p>\n",
              "</div>\n",
              "      <button class=\"colab-df-convert\" onclick=\"convertToInteractive('df-cd86e862-8e72-43f1-acac-204467e5e211')\"\n",
              "              title=\"Convert this dataframe to an interactive table.\"\n",
              "              style=\"display:none;\">\n",
              "        \n",
              "  <svg xmlns=\"http://www.w3.org/2000/svg\" height=\"24px\"viewBox=\"0 0 24 24\"\n",
              "       width=\"24px\">\n",
              "    <path d=\"M0 0h24v24H0V0z\" fill=\"none\"/>\n",
              "    <path d=\"M18.56 5.44l.94 2.06.94-2.06 2.06-.94-2.06-.94-.94-2.06-.94 2.06-2.06.94zm-11 1L8.5 8.5l.94-2.06 2.06-.94-2.06-.94L8.5 2.5l-.94 2.06-2.06.94zm10 10l.94 2.06.94-2.06 2.06-.94-2.06-.94-.94-2.06-.94 2.06-2.06.94z\"/><path d=\"M17.41 7.96l-1.37-1.37c-.4-.4-.92-.59-1.43-.59-.52 0-1.04.2-1.43.59L10.3 9.45l-7.72 7.72c-.78.78-.78 2.05 0 2.83L4 21.41c.39.39.9.59 1.41.59.51 0 1.02-.2 1.41-.59l7.78-7.78 2.81-2.81c.8-.78.8-2.07 0-2.86zM5.41 20L4 18.59l7.72-7.72 1.47 1.35L5.41 20z\"/>\n",
              "  </svg>\n",
              "      </button>\n",
              "      \n",
              "  <style>\n",
              "    .colab-df-container {\n",
              "      display:flex;\n",
              "      flex-wrap:wrap;\n",
              "      gap: 12px;\n",
              "    }\n",
              "\n",
              "    .colab-df-convert {\n",
              "      background-color: #E8F0FE;\n",
              "      border: none;\n",
              "      border-radius: 50%;\n",
              "      cursor: pointer;\n",
              "      display: none;\n",
              "      fill: #1967D2;\n",
              "      height: 32px;\n",
              "      padding: 0 0 0 0;\n",
              "      width: 32px;\n",
              "    }\n",
              "\n",
              "    .colab-df-convert:hover {\n",
              "      background-color: #E2EBFA;\n",
              "      box-shadow: 0px 1px 2px rgba(60, 64, 67, 0.3), 0px 1px 3px 1px rgba(60, 64, 67, 0.15);\n",
              "      fill: #174EA6;\n",
              "    }\n",
              "\n",
              "    [theme=dark] .colab-df-convert {\n",
              "      background-color: #3B4455;\n",
              "      fill: #D2E3FC;\n",
              "    }\n",
              "\n",
              "    [theme=dark] .colab-df-convert:hover {\n",
              "      background-color: #434B5C;\n",
              "      box-shadow: 0px 1px 3px 1px rgba(0, 0, 0, 0.15);\n",
              "      filter: drop-shadow(0px 1px 2px rgba(0, 0, 0, 0.3));\n",
              "      fill: #FFFFFF;\n",
              "    }\n",
              "  </style>\n",
              "\n",
              "      <script>\n",
              "        const buttonEl =\n",
              "          document.querySelector('#df-cd86e862-8e72-43f1-acac-204467e5e211 button.colab-df-convert');\n",
              "        buttonEl.style.display =\n",
              "          google.colab.kernel.accessAllowed ? 'block' : 'none';\n",
              "\n",
              "        async function convertToInteractive(key) {\n",
              "          const element = document.querySelector('#df-cd86e862-8e72-43f1-acac-204467e5e211');\n",
              "          const dataTable =\n",
              "            await google.colab.kernel.invokeFunction('convertToInteractive',\n",
              "                                                     [key], {});\n",
              "          if (!dataTable) return;\n",
              "\n",
              "          const docLinkHtml = 'Like what you see? Visit the ' +\n",
              "            '<a target=\"_blank\" href=https://colab.research.google.com/notebooks/data_table.ipynb>data table notebook</a>'\n",
              "            + ' to learn more about interactive tables.';\n",
              "          element.innerHTML = '';\n",
              "          dataTable['output_type'] = 'display_data';\n",
              "          await google.colab.output.renderOutput(dataTable, element);\n",
              "          const docLink = document.createElement('div');\n",
              "          docLink.innerHTML = docLinkHtml;\n",
              "          element.appendChild(docLink);\n",
              "        }\n",
              "      </script>\n",
              "    </div>\n",
              "  </div>\n",
              "  "
            ]
          },
          "metadata": {},
          "execution_count": 40
        }
      ]
    },
    {
      "cell_type": "code",
      "source": [
        "ir = pd.read_csv('/content/drive/MyDrive/ML/이자율.csv', encoding='cp949')\n",
        "ir.rename(columns = {'Unnamed: 0':'Date'}, inplace = True)\n",
        "ir['Date'] = ir['Date'].apply(lambda x: pd.to_datetime(x, format='%b-%d'))\n",
        "ir.index = ir['Date']\n",
        "ir = ir.drop(['Date'], axis='columns')\n",
        "ir"
      ],
      "metadata": {
        "colab": {
          "base_uri": "https://localhost:8080/",
          "height": 455
        },
        "id": "8pbI_nvmA3O6",
        "outputId": "5c8bb145-bb9d-4798-9a72-99afcbc3fbc5"
      },
      "execution_count": null,
      "outputs": [
        {
          "output_type": "execute_result",
          "data": {
            "text/plain": [
              "              금리\n",
              "Date            \n",
              "1900-03-17  1.25\n",
              "1900-04-17  1.25\n",
              "1900-05-17  1.25\n",
              "1900-06-17  1.25\n",
              "1900-07-17  1.25\n",
              "...          ...\n",
              "1900-11-21  1.00\n",
              "1900-12-21  1.00\n",
              "1900-01-22  1.25\n",
              "1900-02-22  1.25\n",
              "1900-03-22  1.25\n",
              "\n",
              "[61 rows x 1 columns]"
            ],
            "text/html": [
              "\n",
              "  <div id=\"df-4d50b1c2-75ec-423f-977e-fc017b13f7ab\">\n",
              "    <div class=\"colab-df-container\">\n",
              "      <div>\n",
              "<style scoped>\n",
              "    .dataframe tbody tr th:only-of-type {\n",
              "        vertical-align: middle;\n",
              "    }\n",
              "\n",
              "    .dataframe tbody tr th {\n",
              "        vertical-align: top;\n",
              "    }\n",
              "\n",
              "    .dataframe thead th {\n",
              "        text-align: right;\n",
              "    }\n",
              "</style>\n",
              "<table border=\"1\" class=\"dataframe\">\n",
              "  <thead>\n",
              "    <tr style=\"text-align: right;\">\n",
              "      <th></th>\n",
              "      <th>금리</th>\n",
              "    </tr>\n",
              "    <tr>\n",
              "      <th>Date</th>\n",
              "      <th></th>\n",
              "    </tr>\n",
              "  </thead>\n",
              "  <tbody>\n",
              "    <tr>\n",
              "      <th>1900-03-17</th>\n",
              "      <td>1.25</td>\n",
              "    </tr>\n",
              "    <tr>\n",
              "      <th>1900-04-17</th>\n",
              "      <td>1.25</td>\n",
              "    </tr>\n",
              "    <tr>\n",
              "      <th>1900-05-17</th>\n",
              "      <td>1.25</td>\n",
              "    </tr>\n",
              "    <tr>\n",
              "      <th>1900-06-17</th>\n",
              "      <td>1.25</td>\n",
              "    </tr>\n",
              "    <tr>\n",
              "      <th>1900-07-17</th>\n",
              "      <td>1.25</td>\n",
              "    </tr>\n",
              "    <tr>\n",
              "      <th>...</th>\n",
              "      <td>...</td>\n",
              "    </tr>\n",
              "    <tr>\n",
              "      <th>1900-11-21</th>\n",
              "      <td>1.00</td>\n",
              "    </tr>\n",
              "    <tr>\n",
              "      <th>1900-12-21</th>\n",
              "      <td>1.00</td>\n",
              "    </tr>\n",
              "    <tr>\n",
              "      <th>1900-01-22</th>\n",
              "      <td>1.25</td>\n",
              "    </tr>\n",
              "    <tr>\n",
              "      <th>1900-02-22</th>\n",
              "      <td>1.25</td>\n",
              "    </tr>\n",
              "    <tr>\n",
              "      <th>1900-03-22</th>\n",
              "      <td>1.25</td>\n",
              "    </tr>\n",
              "  </tbody>\n",
              "</table>\n",
              "<p>61 rows × 1 columns</p>\n",
              "</div>\n",
              "      <button class=\"colab-df-convert\" onclick=\"convertToInteractive('df-4d50b1c2-75ec-423f-977e-fc017b13f7ab')\"\n",
              "              title=\"Convert this dataframe to an interactive table.\"\n",
              "              style=\"display:none;\">\n",
              "        \n",
              "  <svg xmlns=\"http://www.w3.org/2000/svg\" height=\"24px\"viewBox=\"0 0 24 24\"\n",
              "       width=\"24px\">\n",
              "    <path d=\"M0 0h24v24H0V0z\" fill=\"none\"/>\n",
              "    <path d=\"M18.56 5.44l.94 2.06.94-2.06 2.06-.94-2.06-.94-.94-2.06-.94 2.06-2.06.94zm-11 1L8.5 8.5l.94-2.06 2.06-.94-2.06-.94L8.5 2.5l-.94 2.06-2.06.94zm10 10l.94 2.06.94-2.06 2.06-.94-2.06-.94-.94-2.06-.94 2.06-2.06.94z\"/><path d=\"M17.41 7.96l-1.37-1.37c-.4-.4-.92-.59-1.43-.59-.52 0-1.04.2-1.43.59L10.3 9.45l-7.72 7.72c-.78.78-.78 2.05 0 2.83L4 21.41c.39.39.9.59 1.41.59.51 0 1.02-.2 1.41-.59l7.78-7.78 2.81-2.81c.8-.78.8-2.07 0-2.86zM5.41 20L4 18.59l7.72-7.72 1.47 1.35L5.41 20z\"/>\n",
              "  </svg>\n",
              "      </button>\n",
              "      \n",
              "  <style>\n",
              "    .colab-df-container {\n",
              "      display:flex;\n",
              "      flex-wrap:wrap;\n",
              "      gap: 12px;\n",
              "    }\n",
              "\n",
              "    .colab-df-convert {\n",
              "      background-color: #E8F0FE;\n",
              "      border: none;\n",
              "      border-radius: 50%;\n",
              "      cursor: pointer;\n",
              "      display: none;\n",
              "      fill: #1967D2;\n",
              "      height: 32px;\n",
              "      padding: 0 0 0 0;\n",
              "      width: 32px;\n",
              "    }\n",
              "\n",
              "    .colab-df-convert:hover {\n",
              "      background-color: #E2EBFA;\n",
              "      box-shadow: 0px 1px 2px rgba(60, 64, 67, 0.3), 0px 1px 3px 1px rgba(60, 64, 67, 0.15);\n",
              "      fill: #174EA6;\n",
              "    }\n",
              "\n",
              "    [theme=dark] .colab-df-convert {\n",
              "      background-color: #3B4455;\n",
              "      fill: #D2E3FC;\n",
              "    }\n",
              "\n",
              "    [theme=dark] .colab-df-convert:hover {\n",
              "      background-color: #434B5C;\n",
              "      box-shadow: 0px 1px 3px 1px rgba(0, 0, 0, 0.15);\n",
              "      filter: drop-shadow(0px 1px 2px rgba(0, 0, 0, 0.3));\n",
              "      fill: #FFFFFF;\n",
              "    }\n",
              "  </style>\n",
              "\n",
              "      <script>\n",
              "        const buttonEl =\n",
              "          document.querySelector('#df-4d50b1c2-75ec-423f-977e-fc017b13f7ab button.colab-df-convert');\n",
              "        buttonEl.style.display =\n",
              "          google.colab.kernel.accessAllowed ? 'block' : 'none';\n",
              "\n",
              "        async function convertToInteractive(key) {\n",
              "          const element = document.querySelector('#df-4d50b1c2-75ec-423f-977e-fc017b13f7ab');\n",
              "          const dataTable =\n",
              "            await google.colab.kernel.invokeFunction('convertToInteractive',\n",
              "                                                     [key], {});\n",
              "          if (!dataTable) return;\n",
              "\n",
              "          const docLinkHtml = 'Like what you see? Visit the ' +\n",
              "            '<a target=\"_blank\" href=https://colab.research.google.com/notebooks/data_table.ipynb>data table notebook</a>'\n",
              "            + ' to learn more about interactive tables.';\n",
              "          element.innerHTML = '';\n",
              "          dataTable['output_type'] = 'display_data';\n",
              "          await google.colab.output.renderOutput(dataTable, element);\n",
              "          const docLink = document.createElement('div');\n",
              "          docLink.innerHTML = docLinkHtml;\n",
              "          element.appendChild(docLink);\n",
              "        }\n",
              "      </script>\n",
              "    </div>\n",
              "  </div>\n",
              "  "
            ]
          },
          "metadata": {},
          "execution_count": 46
        }
      ]
    },
    {
      "cell_type": "code",
      "source": [
        "macro = pd.concat([currency, ir], axis=1)\n",
        "macro['금리'].fillna(method='ffill', inplace=True)\n",
        "macro.dropna(inplace=True)\n",
        "macro"
      ],
      "metadata": {
        "colab": {
          "base_uri": "https://localhost:8080/",
          "height": 455
        },
        "id": "U-hEWc8LCEVY",
        "outputId": "eb60be2b-5051-4bed-9f1d-6cd79373b697"
      },
      "execution_count": null,
      "outputs": [
        {
          "output_type": "execute_result",
          "data": {
            "text/plain": [
              "                 환율   금리\n",
              "Date                    \n",
              "2017-03-01  1140.23  1.0\n",
              "2017-03-02  1150.71  1.0\n",
              "2017-03-03  1152.32  1.0\n",
              "2017-03-06  1155.15  1.0\n",
              "2017-03-07  1150.67  1.0\n",
              "...             ...  ...\n",
              "2022-03-25  1225.08  1.0\n",
              "2022-03-28  1223.65  1.0\n",
              "2022-03-29  1207.35  1.0\n",
              "2022-03-30  1210.31  1.0\n",
              "2022-03-31  1214.17  1.0\n",
              "\n",
              "[1327 rows x 2 columns]"
            ],
            "text/html": [
              "\n",
              "  <div id=\"df-c6c3b595-2c8d-4d08-a2f2-cd9fe582c864\">\n",
              "    <div class=\"colab-df-container\">\n",
              "      <div>\n",
              "<style scoped>\n",
              "    .dataframe tbody tr th:only-of-type {\n",
              "        vertical-align: middle;\n",
              "    }\n",
              "\n",
              "    .dataframe tbody tr th {\n",
              "        vertical-align: top;\n",
              "    }\n",
              "\n",
              "    .dataframe thead th {\n",
              "        text-align: right;\n",
              "    }\n",
              "</style>\n",
              "<table border=\"1\" class=\"dataframe\">\n",
              "  <thead>\n",
              "    <tr style=\"text-align: right;\">\n",
              "      <th></th>\n",
              "      <th>환율</th>\n",
              "      <th>금리</th>\n",
              "    </tr>\n",
              "    <tr>\n",
              "      <th>Date</th>\n",
              "      <th></th>\n",
              "      <th></th>\n",
              "    </tr>\n",
              "  </thead>\n",
              "  <tbody>\n",
              "    <tr>\n",
              "      <th>2017-03-01</th>\n",
              "      <td>1140.23</td>\n",
              "      <td>1.0</td>\n",
              "    </tr>\n",
              "    <tr>\n",
              "      <th>2017-03-02</th>\n",
              "      <td>1150.71</td>\n",
              "      <td>1.0</td>\n",
              "    </tr>\n",
              "    <tr>\n",
              "      <th>2017-03-03</th>\n",
              "      <td>1152.32</td>\n",
              "      <td>1.0</td>\n",
              "    </tr>\n",
              "    <tr>\n",
              "      <th>2017-03-06</th>\n",
              "      <td>1155.15</td>\n",
              "      <td>1.0</td>\n",
              "    </tr>\n",
              "    <tr>\n",
              "      <th>2017-03-07</th>\n",
              "      <td>1150.67</td>\n",
              "      <td>1.0</td>\n",
              "    </tr>\n",
              "    <tr>\n",
              "      <th>...</th>\n",
              "      <td>...</td>\n",
              "      <td>...</td>\n",
              "    </tr>\n",
              "    <tr>\n",
              "      <th>2022-03-25</th>\n",
              "      <td>1225.08</td>\n",
              "      <td>1.0</td>\n",
              "    </tr>\n",
              "    <tr>\n",
              "      <th>2022-03-28</th>\n",
              "      <td>1223.65</td>\n",
              "      <td>1.0</td>\n",
              "    </tr>\n",
              "    <tr>\n",
              "      <th>2022-03-29</th>\n",
              "      <td>1207.35</td>\n",
              "      <td>1.0</td>\n",
              "    </tr>\n",
              "    <tr>\n",
              "      <th>2022-03-30</th>\n",
              "      <td>1210.31</td>\n",
              "      <td>1.0</td>\n",
              "    </tr>\n",
              "    <tr>\n",
              "      <th>2022-03-31</th>\n",
              "      <td>1214.17</td>\n",
              "      <td>1.0</td>\n",
              "    </tr>\n",
              "  </tbody>\n",
              "</table>\n",
              "<p>1327 rows × 2 columns</p>\n",
              "</div>\n",
              "      <button class=\"colab-df-convert\" onclick=\"convertToInteractive('df-c6c3b595-2c8d-4d08-a2f2-cd9fe582c864')\"\n",
              "              title=\"Convert this dataframe to an interactive table.\"\n",
              "              style=\"display:none;\">\n",
              "        \n",
              "  <svg xmlns=\"http://www.w3.org/2000/svg\" height=\"24px\"viewBox=\"0 0 24 24\"\n",
              "       width=\"24px\">\n",
              "    <path d=\"M0 0h24v24H0V0z\" fill=\"none\"/>\n",
              "    <path d=\"M18.56 5.44l.94 2.06.94-2.06 2.06-.94-2.06-.94-.94-2.06-.94 2.06-2.06.94zm-11 1L8.5 8.5l.94-2.06 2.06-.94-2.06-.94L8.5 2.5l-.94 2.06-2.06.94zm10 10l.94 2.06.94-2.06 2.06-.94-2.06-.94-.94-2.06-.94 2.06-2.06.94z\"/><path d=\"M17.41 7.96l-1.37-1.37c-.4-.4-.92-.59-1.43-.59-.52 0-1.04.2-1.43.59L10.3 9.45l-7.72 7.72c-.78.78-.78 2.05 0 2.83L4 21.41c.39.39.9.59 1.41.59.51 0 1.02-.2 1.41-.59l7.78-7.78 2.81-2.81c.8-.78.8-2.07 0-2.86zM5.41 20L4 18.59l7.72-7.72 1.47 1.35L5.41 20z\"/>\n",
              "  </svg>\n",
              "      </button>\n",
              "      \n",
              "  <style>\n",
              "    .colab-df-container {\n",
              "      display:flex;\n",
              "      flex-wrap:wrap;\n",
              "      gap: 12px;\n",
              "    }\n",
              "\n",
              "    .colab-df-convert {\n",
              "      background-color: #E8F0FE;\n",
              "      border: none;\n",
              "      border-radius: 50%;\n",
              "      cursor: pointer;\n",
              "      display: none;\n",
              "      fill: #1967D2;\n",
              "      height: 32px;\n",
              "      padding: 0 0 0 0;\n",
              "      width: 32px;\n",
              "    }\n",
              "\n",
              "    .colab-df-convert:hover {\n",
              "      background-color: #E2EBFA;\n",
              "      box-shadow: 0px 1px 2px rgba(60, 64, 67, 0.3), 0px 1px 3px 1px rgba(60, 64, 67, 0.15);\n",
              "      fill: #174EA6;\n",
              "    }\n",
              "\n",
              "    [theme=dark] .colab-df-convert {\n",
              "      background-color: #3B4455;\n",
              "      fill: #D2E3FC;\n",
              "    }\n",
              "\n",
              "    [theme=dark] .colab-df-convert:hover {\n",
              "      background-color: #434B5C;\n",
              "      box-shadow: 0px 1px 3px 1px rgba(0, 0, 0, 0.15);\n",
              "      filter: drop-shadow(0px 1px 2px rgba(0, 0, 0, 0.3));\n",
              "      fill: #FFFFFF;\n",
              "    }\n",
              "  </style>\n",
              "\n",
              "      <script>\n",
              "        const buttonEl =\n",
              "          document.querySelector('#df-c6c3b595-2c8d-4d08-a2f2-cd9fe582c864 button.colab-df-convert');\n",
              "        buttonEl.style.display =\n",
              "          google.colab.kernel.accessAllowed ? 'block' : 'none';\n",
              "\n",
              "        async function convertToInteractive(key) {\n",
              "          const element = document.querySelector('#df-c6c3b595-2c8d-4d08-a2f2-cd9fe582c864');\n",
              "          const dataTable =\n",
              "            await google.colab.kernel.invokeFunction('convertToInteractive',\n",
              "                                                     [key], {});\n",
              "          if (!dataTable) return;\n",
              "\n",
              "          const docLinkHtml = 'Like what you see? Visit the ' +\n",
              "            '<a target=\"_blank\" href=https://colab.research.google.com/notebooks/data_table.ipynb>data table notebook</a>'\n",
              "            + ' to learn more about interactive tables.';\n",
              "          element.innerHTML = '';\n",
              "          dataTable['output_type'] = 'display_data';\n",
              "          await google.colab.output.renderOutput(dataTable, element);\n",
              "          const docLink = document.createElement('div');\n",
              "          docLink.innerHTML = docLinkHtml;\n",
              "          element.appendChild(docLink);\n",
              "        }\n",
              "      </script>\n",
              "    </div>\n",
              "  </div>\n",
              "  "
            ]
          },
          "metadata": {},
          "execution_count": 47
        }
      ]
    },
    {
      "cell_type": "markdown",
      "source": [
        "# 최종 데이터셋"
      ],
      "metadata": {
        "id": "q8JyCtFCJ11p"
      }
    },
    {
      "cell_type": "code",
      "source": [
        "tmp = pd.concat([sentiment, tech, macro], axis=1)\n",
        "tmp.dropna(inplace=True)\n",
        "\n",
        "from sklearn.preprocessing import StandardScaler\n",
        "scaler = StandardScaler()\n",
        "scaler.fit(tmp)\n",
        "tmp_scaled = scaler.transform(tmp)\n",
        "\n",
        "tmp = pd.DataFrame(tmp_scaled, columns=tmp.columns, index=tmp.index)\n",
        "tmp"
      ],
      "metadata": {
        "colab": {
          "base_uri": "https://localhost:8080/",
          "height": 455
        },
        "id": "t4LTZ2c-HVT6",
        "outputId": "e1cb94ba-ffb1-4fde-b501-5533eea69d76"
      },
      "execution_count": null,
      "outputs": [
        {
          "output_type": "execute_result",
          "data": {
            "text/plain": [
              "                  단어       거래량    코스피 지수        환율   금리\n",
              "Date                                                   \n",
              "2017-04-03  0.342962 -0.567695 -0.609847 -0.549995  0.0\n",
              "2017-04-04 -0.829121 -0.585049 -0.303234 -0.366252  0.0\n",
              "2017-04-05 -0.175804 -0.585725 -0.180172 -0.291533  0.0\n",
              "2017-04-06  0.714477 -0.607654 -0.332834 -0.220574  0.0\n",
              "2017-04-07 -0.948538 -0.610415 -0.585160 -0.065731  0.0\n",
              "...              ...       ...       ...       ...  ...\n",
              "2021-08-02 -0.353041  2.289863 -0.206695  0.223041  0.0\n",
              "2021-08-03  0.645367  2.328034  0.022830  0.182157  0.0\n",
              "2021-08-04  0.279970  2.445095 -0.029943  0.095690  0.0\n",
              "2021-08-05 -0.461323  2.433589  0.090886  0.044702  0.0\n",
              "2021-08-06 -0.011245  2.417969  0.737011  0.099684  0.0\n",
              "\n",
              "[1067 rows x 5 columns]"
            ],
            "text/html": [
              "\n",
              "  <div id=\"df-7fbc6f58-6abe-4402-8cdf-c5659c413473\">\n",
              "    <div class=\"colab-df-container\">\n",
              "      <div>\n",
              "<style scoped>\n",
              "    .dataframe tbody tr th:only-of-type {\n",
              "        vertical-align: middle;\n",
              "    }\n",
              "\n",
              "    .dataframe tbody tr th {\n",
              "        vertical-align: top;\n",
              "    }\n",
              "\n",
              "    .dataframe thead th {\n",
              "        text-align: right;\n",
              "    }\n",
              "</style>\n",
              "<table border=\"1\" class=\"dataframe\">\n",
              "  <thead>\n",
              "    <tr style=\"text-align: right;\">\n",
              "      <th></th>\n",
              "      <th>단어</th>\n",
              "      <th>거래량</th>\n",
              "      <th>코스피 지수</th>\n",
              "      <th>환율</th>\n",
              "      <th>금리</th>\n",
              "    </tr>\n",
              "    <tr>\n",
              "      <th>Date</th>\n",
              "      <th></th>\n",
              "      <th></th>\n",
              "      <th></th>\n",
              "      <th></th>\n",
              "      <th></th>\n",
              "    </tr>\n",
              "  </thead>\n",
              "  <tbody>\n",
              "    <tr>\n",
              "      <th>2017-04-03</th>\n",
              "      <td>0.342962</td>\n",
              "      <td>-0.567695</td>\n",
              "      <td>-0.609847</td>\n",
              "      <td>-0.549995</td>\n",
              "      <td>0.0</td>\n",
              "    </tr>\n",
              "    <tr>\n",
              "      <th>2017-04-04</th>\n",
              "      <td>-0.829121</td>\n",
              "      <td>-0.585049</td>\n",
              "      <td>-0.303234</td>\n",
              "      <td>-0.366252</td>\n",
              "      <td>0.0</td>\n",
              "    </tr>\n",
              "    <tr>\n",
              "      <th>2017-04-05</th>\n",
              "      <td>-0.175804</td>\n",
              "      <td>-0.585725</td>\n",
              "      <td>-0.180172</td>\n",
              "      <td>-0.291533</td>\n",
              "      <td>0.0</td>\n",
              "    </tr>\n",
              "    <tr>\n",
              "      <th>2017-04-06</th>\n",
              "      <td>0.714477</td>\n",
              "      <td>-0.607654</td>\n",
              "      <td>-0.332834</td>\n",
              "      <td>-0.220574</td>\n",
              "      <td>0.0</td>\n",
              "    </tr>\n",
              "    <tr>\n",
              "      <th>2017-04-07</th>\n",
              "      <td>-0.948538</td>\n",
              "      <td>-0.610415</td>\n",
              "      <td>-0.585160</td>\n",
              "      <td>-0.065731</td>\n",
              "      <td>0.0</td>\n",
              "    </tr>\n",
              "    <tr>\n",
              "      <th>...</th>\n",
              "      <td>...</td>\n",
              "      <td>...</td>\n",
              "      <td>...</td>\n",
              "      <td>...</td>\n",
              "      <td>...</td>\n",
              "    </tr>\n",
              "    <tr>\n",
              "      <th>2021-08-02</th>\n",
              "      <td>-0.353041</td>\n",
              "      <td>2.289863</td>\n",
              "      <td>-0.206695</td>\n",
              "      <td>0.223041</td>\n",
              "      <td>0.0</td>\n",
              "    </tr>\n",
              "    <tr>\n",
              "      <th>2021-08-03</th>\n",
              "      <td>0.645367</td>\n",
              "      <td>2.328034</td>\n",
              "      <td>0.022830</td>\n",
              "      <td>0.182157</td>\n",
              "      <td>0.0</td>\n",
              "    </tr>\n",
              "    <tr>\n",
              "      <th>2021-08-04</th>\n",
              "      <td>0.279970</td>\n",
              "      <td>2.445095</td>\n",
              "      <td>-0.029943</td>\n",
              "      <td>0.095690</td>\n",
              "      <td>0.0</td>\n",
              "    </tr>\n",
              "    <tr>\n",
              "      <th>2021-08-05</th>\n",
              "      <td>-0.461323</td>\n",
              "      <td>2.433589</td>\n",
              "      <td>0.090886</td>\n",
              "      <td>0.044702</td>\n",
              "      <td>0.0</td>\n",
              "    </tr>\n",
              "    <tr>\n",
              "      <th>2021-08-06</th>\n",
              "      <td>-0.011245</td>\n",
              "      <td>2.417969</td>\n",
              "      <td>0.737011</td>\n",
              "      <td>0.099684</td>\n",
              "      <td>0.0</td>\n",
              "    </tr>\n",
              "  </tbody>\n",
              "</table>\n",
              "<p>1067 rows × 5 columns</p>\n",
              "</div>\n",
              "      <button class=\"colab-df-convert\" onclick=\"convertToInteractive('df-7fbc6f58-6abe-4402-8cdf-c5659c413473')\"\n",
              "              title=\"Convert this dataframe to an interactive table.\"\n",
              "              style=\"display:none;\">\n",
              "        \n",
              "  <svg xmlns=\"http://www.w3.org/2000/svg\" height=\"24px\"viewBox=\"0 0 24 24\"\n",
              "       width=\"24px\">\n",
              "    <path d=\"M0 0h24v24H0V0z\" fill=\"none\"/>\n",
              "    <path d=\"M18.56 5.44l.94 2.06.94-2.06 2.06-.94-2.06-.94-.94-2.06-.94 2.06-2.06.94zm-11 1L8.5 8.5l.94-2.06 2.06-.94-2.06-.94L8.5 2.5l-.94 2.06-2.06.94zm10 10l.94 2.06.94-2.06 2.06-.94-2.06-.94-.94-2.06-.94 2.06-2.06.94z\"/><path d=\"M17.41 7.96l-1.37-1.37c-.4-.4-.92-.59-1.43-.59-.52 0-1.04.2-1.43.59L10.3 9.45l-7.72 7.72c-.78.78-.78 2.05 0 2.83L4 21.41c.39.39.9.59 1.41.59.51 0 1.02-.2 1.41-.59l7.78-7.78 2.81-2.81c.8-.78.8-2.07 0-2.86zM5.41 20L4 18.59l7.72-7.72 1.47 1.35L5.41 20z\"/>\n",
              "  </svg>\n",
              "      </button>\n",
              "      \n",
              "  <style>\n",
              "    .colab-df-container {\n",
              "      display:flex;\n",
              "      flex-wrap:wrap;\n",
              "      gap: 12px;\n",
              "    }\n",
              "\n",
              "    .colab-df-convert {\n",
              "      background-color: #E8F0FE;\n",
              "      border: none;\n",
              "      border-radius: 50%;\n",
              "      cursor: pointer;\n",
              "      display: none;\n",
              "      fill: #1967D2;\n",
              "      height: 32px;\n",
              "      padding: 0 0 0 0;\n",
              "      width: 32px;\n",
              "    }\n",
              "\n",
              "    .colab-df-convert:hover {\n",
              "      background-color: #E2EBFA;\n",
              "      box-shadow: 0px 1px 2px rgba(60, 64, 67, 0.3), 0px 1px 3px 1px rgba(60, 64, 67, 0.15);\n",
              "      fill: #174EA6;\n",
              "    }\n",
              "\n",
              "    [theme=dark] .colab-df-convert {\n",
              "      background-color: #3B4455;\n",
              "      fill: #D2E3FC;\n",
              "    }\n",
              "\n",
              "    [theme=dark] .colab-df-convert:hover {\n",
              "      background-color: #434B5C;\n",
              "      box-shadow: 0px 1px 3px 1px rgba(0, 0, 0, 0.15);\n",
              "      filter: drop-shadow(0px 1px 2px rgba(0, 0, 0, 0.3));\n",
              "      fill: #FFFFFF;\n",
              "    }\n",
              "  </style>\n",
              "\n",
              "      <script>\n",
              "        const buttonEl =\n",
              "          document.querySelector('#df-7fbc6f58-6abe-4402-8cdf-c5659c413473 button.colab-df-convert');\n",
              "        buttonEl.style.display =\n",
              "          google.colab.kernel.accessAllowed ? 'block' : 'none';\n",
              "\n",
              "        async function convertToInteractive(key) {\n",
              "          const element = document.querySelector('#df-7fbc6f58-6abe-4402-8cdf-c5659c413473');\n",
              "          const dataTable =\n",
              "            await google.colab.kernel.invokeFunction('convertToInteractive',\n",
              "                                                     [key], {});\n",
              "          if (!dataTable) return;\n",
              "\n",
              "          const docLinkHtml = 'Like what you see? Visit the ' +\n",
              "            '<a target=\"_blank\" href=https://colab.research.google.com/notebooks/data_table.ipynb>data table notebook</a>'\n",
              "            + ' to learn more about interactive tables.';\n",
              "          element.innerHTML = '';\n",
              "          dataTable['output_type'] = 'display_data';\n",
              "          await google.colab.output.renderOutput(dataTable, element);\n",
              "          const docLink = document.createElement('div');\n",
              "          docLink.innerHTML = docLinkHtml;\n",
              "          element.appendChild(docLink);\n",
              "        }\n",
              "      </script>\n",
              "    </div>\n",
              "  </div>\n",
              "  "
            ]
          },
          "metadata": {},
          "execution_count": 55
        }
      ]
    },
    {
      "cell_type": "code",
      "source": [
        "ttmp = pd.read_csv('/content/drive/MyDrive/ML/updown2.csv')\n",
        "ttmp.rename(columns = {'Unnamed: 0':'Date'}, inplace = True)\n",
        "ttmp['Date'] = ttmp['Date'].apply(lambda x: pd.to_datetime(x))\n",
        "ttmp.index = ttmp['Date']\n",
        "ttmp = ttmp.drop(['Date'], axis='columns')\n",
        "ttmp = ttmp.shift(1)\n",
        "ttmp = ttmp['기아']"
      ],
      "metadata": {
        "id": "hKIHakQXHma7"
      },
      "execution_count": null,
      "outputs": []
    },
    {
      "cell_type": "code",
      "source": [
        "final = pd.concat([tmp, ttmp], axis=1)\n",
        "final.dropna(inplace=True)\n",
        "final"
      ],
      "metadata": {
        "colab": {
          "base_uri": "https://localhost:8080/",
          "height": 455
        },
        "id": "2-RZ0yLxKlgK",
        "outputId": "29d1c37c-17e6-46fa-9ddd-0f3ecb5a5d32"
      },
      "execution_count": null,
      "outputs": [
        {
          "output_type": "execute_result",
          "data": {
            "text/plain": [
              "                  단어       거래량    코스피 지수        환율   금리   기아\n",
              "Date                                                        \n",
              "2017-04-03  0.342962 -0.567695 -0.609847 -0.549995  0.0  2.0\n",
              "2017-04-04 -0.829121 -0.585049 -0.303234 -0.366252  0.0  2.0\n",
              "2017-04-05 -0.175804 -0.585725 -0.180172 -0.291533  0.0  0.0\n",
              "2017-04-06  0.714477 -0.607654 -0.332834 -0.220574  0.0  0.0\n",
              "2017-04-07 -0.948538 -0.610415 -0.585160 -0.065731  0.0  0.0\n",
              "...              ...       ...       ...       ...  ...  ...\n",
              "2021-08-02 -0.353041  2.289863 -0.206695  0.223041  0.0  0.0\n",
              "2021-08-03  0.645367  2.328034  0.022830  0.182157  0.0  0.0\n",
              "2021-08-04  0.279970  2.445095 -0.029943  0.095690  0.0  2.0\n",
              "2021-08-05 -0.461323  2.433589  0.090886  0.044702  0.0  2.0\n",
              "2021-08-06 -0.011245  2.417969  0.737011  0.099684  0.0  2.0\n",
              "\n",
              "[1067 rows x 6 columns]"
            ],
            "text/html": [
              "\n",
              "  <div id=\"df-33f75586-1cf9-4942-a133-1506ee97c4a8\">\n",
              "    <div class=\"colab-df-container\">\n",
              "      <div>\n",
              "<style scoped>\n",
              "    .dataframe tbody tr th:only-of-type {\n",
              "        vertical-align: middle;\n",
              "    }\n",
              "\n",
              "    .dataframe tbody tr th {\n",
              "        vertical-align: top;\n",
              "    }\n",
              "\n",
              "    .dataframe thead th {\n",
              "        text-align: right;\n",
              "    }\n",
              "</style>\n",
              "<table border=\"1\" class=\"dataframe\">\n",
              "  <thead>\n",
              "    <tr style=\"text-align: right;\">\n",
              "      <th></th>\n",
              "      <th>단어</th>\n",
              "      <th>거래량</th>\n",
              "      <th>코스피 지수</th>\n",
              "      <th>환율</th>\n",
              "      <th>금리</th>\n",
              "      <th>기아</th>\n",
              "    </tr>\n",
              "    <tr>\n",
              "      <th>Date</th>\n",
              "      <th></th>\n",
              "      <th></th>\n",
              "      <th></th>\n",
              "      <th></th>\n",
              "      <th></th>\n",
              "      <th></th>\n",
              "    </tr>\n",
              "  </thead>\n",
              "  <tbody>\n",
              "    <tr>\n",
              "      <th>2017-04-03</th>\n",
              "      <td>0.342962</td>\n",
              "      <td>-0.567695</td>\n",
              "      <td>-0.609847</td>\n",
              "      <td>-0.549995</td>\n",
              "      <td>0.0</td>\n",
              "      <td>2.0</td>\n",
              "    </tr>\n",
              "    <tr>\n",
              "      <th>2017-04-04</th>\n",
              "      <td>-0.829121</td>\n",
              "      <td>-0.585049</td>\n",
              "      <td>-0.303234</td>\n",
              "      <td>-0.366252</td>\n",
              "      <td>0.0</td>\n",
              "      <td>2.0</td>\n",
              "    </tr>\n",
              "    <tr>\n",
              "      <th>2017-04-05</th>\n",
              "      <td>-0.175804</td>\n",
              "      <td>-0.585725</td>\n",
              "      <td>-0.180172</td>\n",
              "      <td>-0.291533</td>\n",
              "      <td>0.0</td>\n",
              "      <td>0.0</td>\n",
              "    </tr>\n",
              "    <tr>\n",
              "      <th>2017-04-06</th>\n",
              "      <td>0.714477</td>\n",
              "      <td>-0.607654</td>\n",
              "      <td>-0.332834</td>\n",
              "      <td>-0.220574</td>\n",
              "      <td>0.0</td>\n",
              "      <td>0.0</td>\n",
              "    </tr>\n",
              "    <tr>\n",
              "      <th>2017-04-07</th>\n",
              "      <td>-0.948538</td>\n",
              "      <td>-0.610415</td>\n",
              "      <td>-0.585160</td>\n",
              "      <td>-0.065731</td>\n",
              "      <td>0.0</td>\n",
              "      <td>0.0</td>\n",
              "    </tr>\n",
              "    <tr>\n",
              "      <th>...</th>\n",
              "      <td>...</td>\n",
              "      <td>...</td>\n",
              "      <td>...</td>\n",
              "      <td>...</td>\n",
              "      <td>...</td>\n",
              "      <td>...</td>\n",
              "    </tr>\n",
              "    <tr>\n",
              "      <th>2021-08-02</th>\n",
              "      <td>-0.353041</td>\n",
              "      <td>2.289863</td>\n",
              "      <td>-0.206695</td>\n",
              "      <td>0.223041</td>\n",
              "      <td>0.0</td>\n",
              "      <td>0.0</td>\n",
              "    </tr>\n",
              "    <tr>\n",
              "      <th>2021-08-03</th>\n",
              "      <td>0.645367</td>\n",
              "      <td>2.328034</td>\n",
              "      <td>0.022830</td>\n",
              "      <td>0.182157</td>\n",
              "      <td>0.0</td>\n",
              "      <td>0.0</td>\n",
              "    </tr>\n",
              "    <tr>\n",
              "      <th>2021-08-04</th>\n",
              "      <td>0.279970</td>\n",
              "      <td>2.445095</td>\n",
              "      <td>-0.029943</td>\n",
              "      <td>0.095690</td>\n",
              "      <td>0.0</td>\n",
              "      <td>2.0</td>\n",
              "    </tr>\n",
              "    <tr>\n",
              "      <th>2021-08-05</th>\n",
              "      <td>-0.461323</td>\n",
              "      <td>2.433589</td>\n",
              "      <td>0.090886</td>\n",
              "      <td>0.044702</td>\n",
              "      <td>0.0</td>\n",
              "      <td>2.0</td>\n",
              "    </tr>\n",
              "    <tr>\n",
              "      <th>2021-08-06</th>\n",
              "      <td>-0.011245</td>\n",
              "      <td>2.417969</td>\n",
              "      <td>0.737011</td>\n",
              "      <td>0.099684</td>\n",
              "      <td>0.0</td>\n",
              "      <td>2.0</td>\n",
              "    </tr>\n",
              "  </tbody>\n",
              "</table>\n",
              "<p>1067 rows × 6 columns</p>\n",
              "</div>\n",
              "      <button class=\"colab-df-convert\" onclick=\"convertToInteractive('df-33f75586-1cf9-4942-a133-1506ee97c4a8')\"\n",
              "              title=\"Convert this dataframe to an interactive table.\"\n",
              "              style=\"display:none;\">\n",
              "        \n",
              "  <svg xmlns=\"http://www.w3.org/2000/svg\" height=\"24px\"viewBox=\"0 0 24 24\"\n",
              "       width=\"24px\">\n",
              "    <path d=\"M0 0h24v24H0V0z\" fill=\"none\"/>\n",
              "    <path d=\"M18.56 5.44l.94 2.06.94-2.06 2.06-.94-2.06-.94-.94-2.06-.94 2.06-2.06.94zm-11 1L8.5 8.5l.94-2.06 2.06-.94-2.06-.94L8.5 2.5l-.94 2.06-2.06.94zm10 10l.94 2.06.94-2.06 2.06-.94-2.06-.94-.94-2.06-.94 2.06-2.06.94z\"/><path d=\"M17.41 7.96l-1.37-1.37c-.4-.4-.92-.59-1.43-.59-.52 0-1.04.2-1.43.59L10.3 9.45l-7.72 7.72c-.78.78-.78 2.05 0 2.83L4 21.41c.39.39.9.59 1.41.59.51 0 1.02-.2 1.41-.59l7.78-7.78 2.81-2.81c.8-.78.8-2.07 0-2.86zM5.41 20L4 18.59l7.72-7.72 1.47 1.35L5.41 20z\"/>\n",
              "  </svg>\n",
              "      </button>\n",
              "      \n",
              "  <style>\n",
              "    .colab-df-container {\n",
              "      display:flex;\n",
              "      flex-wrap:wrap;\n",
              "      gap: 12px;\n",
              "    }\n",
              "\n",
              "    .colab-df-convert {\n",
              "      background-color: #E8F0FE;\n",
              "      border: none;\n",
              "      border-radius: 50%;\n",
              "      cursor: pointer;\n",
              "      display: none;\n",
              "      fill: #1967D2;\n",
              "      height: 32px;\n",
              "      padding: 0 0 0 0;\n",
              "      width: 32px;\n",
              "    }\n",
              "\n",
              "    .colab-df-convert:hover {\n",
              "      background-color: #E2EBFA;\n",
              "      box-shadow: 0px 1px 2px rgba(60, 64, 67, 0.3), 0px 1px 3px 1px rgba(60, 64, 67, 0.15);\n",
              "      fill: #174EA6;\n",
              "    }\n",
              "\n",
              "    [theme=dark] .colab-df-convert {\n",
              "      background-color: #3B4455;\n",
              "      fill: #D2E3FC;\n",
              "    }\n",
              "\n",
              "    [theme=dark] .colab-df-convert:hover {\n",
              "      background-color: #434B5C;\n",
              "      box-shadow: 0px 1px 3px 1px rgba(0, 0, 0, 0.15);\n",
              "      filter: drop-shadow(0px 1px 2px rgba(0, 0, 0, 0.3));\n",
              "      fill: #FFFFFF;\n",
              "    }\n",
              "  </style>\n",
              "\n",
              "      <script>\n",
              "        const buttonEl =\n",
              "          document.querySelector('#df-33f75586-1cf9-4942-a133-1506ee97c4a8 button.colab-df-convert');\n",
              "        buttonEl.style.display =\n",
              "          google.colab.kernel.accessAllowed ? 'block' : 'none';\n",
              "\n",
              "        async function convertToInteractive(key) {\n",
              "          const element = document.querySelector('#df-33f75586-1cf9-4942-a133-1506ee97c4a8');\n",
              "          const dataTable =\n",
              "            await google.colab.kernel.invokeFunction('convertToInteractive',\n",
              "                                                     [key], {});\n",
              "          if (!dataTable) return;\n",
              "\n",
              "          const docLinkHtml = 'Like what you see? Visit the ' +\n",
              "            '<a target=\"_blank\" href=https://colab.research.google.com/notebooks/data_table.ipynb>data table notebook</a>'\n",
              "            + ' to learn more about interactive tables.';\n",
              "          element.innerHTML = '';\n",
              "          dataTable['output_type'] = 'display_data';\n",
              "          await google.colab.output.renderOutput(dataTable, element);\n",
              "          const docLink = document.createElement('div');\n",
              "          docLink.innerHTML = docLinkHtml;\n",
              "          element.appendChild(docLink);\n",
              "        }\n",
              "      </script>\n",
              "    </div>\n",
              "  </div>\n",
              "  "
            ]
          },
          "metadata": {},
          "execution_count": 60
        }
      ]
    },
    {
      "cell_type": "markdown",
      "source": [
        "# 검증"
      ],
      "metadata": {
        "id": "ZPqC3Ig8LAfo"
      }
    },
    {
      "cell_type": "code",
      "source": [
        "from sklearn import metrics\n",
        "from sklearn.metrics import mean_squared_error"
      ],
      "metadata": {
        "id": "2oRgoHDosYeQ"
      },
      "execution_count": null,
      "outputs": []
    },
    {
      "cell_type": "code",
      "source": [
        "train, test = final.iloc[:980], final.iloc[980:]"
      ],
      "metadata": {
        "id": "Axmy7Y68MXCk"
      },
      "execution_count": null,
      "outputs": []
    },
    {
      "cell_type": "code",
      "source": [
        "X_train = train[['거래량', '코스피 지수', '환율', '금리']].to_numpy()\n",
        "X_test = test[['거래량', '코스피 지수', '환율', '금리']].to_numpy()\n",
        "y_train = train['기아'].to_numpy()\n",
        "y_test = test['기아'].to_numpy()"
      ],
      "metadata": {
        "id": "8iFzFO60L8lt"
      },
      "execution_count": null,
      "outputs": []
    },
    {
      "cell_type": "markdown",
      "source": [
        "아래와 같이 파라미터를 조정하며 최적의 성과를 보이는 파라미터 탐색.\n",
        "\n",
        "\n",
        "* G-NB: default\n",
        "* DT\n",
        "  * `criterion = {‘gini’, ‘entropy’}`\n",
        "* RF\n",
        "  * `n_estimators = 1500`\n",
        "  * `criterion = {‘gini’, ‘entropy’}`\n",
        "  * `oob_score = {True}`\n",
        "* GB\n",
        "  * `n_estimators = 500`\n",
        "  * `criterion = {‘friedman_mse’}`\n",
        "  * `learning_rate = {0.001, 0.01, 0.1}`\n",
        "* XGB\n",
        "  * `booster = {‘gbtree’, ‘gblinear’, ‘dart’}`\n",
        "* MLP\n",
        "  * `shuffle = {True, False}`\n",
        "  * `alpha = {0.0001, 0.01, 1, 10}`\n",
        "  * `max_iter = {800}`\n",
        "* SVM\n",
        "  * `kernel = {‘linear’, ‘rbf’, ‘poly’}`\n",
        "  * `C = {0.001, 0.01, 0.1, 1}`\n",
        "\n",
        "* LR\n",
        "  * `C = {0.001, 0.01, 0.1, 1, 10}`\n",
        "* KNN\n",
        "  * `n_neighbors = {3, 8, 15}`\n",
        "  * `weights = {‘uniform’, ‘distance’}`\n",
        "\n"
      ],
      "metadata": {
        "id": "eR4LH_UVJLwv"
      }
    },
    {
      "cell_type": "markdown",
      "source": [
        "## Naive Bayes"
      ],
      "metadata": {
        "id": "oB2GIFa8PWou"
      }
    },
    {
      "cell_type": "code",
      "source": [
        "from sklearn.naive_bayes import GaussianNB\n",
        "\n",
        "clf = GaussianNB()\n",
        "\n",
        "clf.fit(X_train, y_train) # Train the model using the training sets\n",
        "y_pred = clf.predict(X_test) # Predict the response for test dataset\n",
        "print('Accuracy: ', metrics.accuracy_score(y_test, y_pred)) # Model Accuracy\n",
        "print('MSE: ', mean_squared_error(y_test, y_pred))\n",
        "\n",
        "acc = metrics.accuracy_score(y_test, y_pred)\n",
        "mse = mean_squared_error(y_test, y_pred)"
      ],
      "metadata": {
        "colab": {
          "base_uri": "https://localhost:8080/"
        },
        "id": "kHjYY2xjPTDD",
        "outputId": "daa0517a-55ce-445e-d24e-eed41782855b"
      },
      "execution_count": null,
      "outputs": [
        {
          "output_type": "stream",
          "name": "stdout",
          "text": [
            "Accuracy:  0.5172413793103449\n",
            "MSE:  1.896551724137931\n"
          ]
        }
      ]
    },
    {
      "cell_type": "code",
      "source": [
        "acc_nb = acc\n",
        "mse_nb = mse"
      ],
      "metadata": {
        "id": "k11eB5cp5R3W"
      },
      "execution_count": null,
      "outputs": []
    },
    {
      "cell_type": "markdown",
      "source": [
        "## Decision Tree"
      ],
      "metadata": {
        "id": "2u1_42DIsio4"
      }
    },
    {
      "cell_type": "code",
      "source": [
        "from sklearn.tree import DecisionTreeClassifier"
      ],
      "metadata": {
        "id": "cZkdAdL4skNi"
      },
      "execution_count": null,
      "outputs": []
    },
    {
      "cell_type": "code",
      "source": [
        "clf = DecisionTreeClassifier(criterion='gini')\n",
        "\n",
        "clf.fit(X_train, y_train) # Train the model using the training sets\n",
        "y_pred = clf.predict(X_test) # Predict the response for test dataset\n",
        "print('Accuracy: ', metrics.accuracy_score(y_test, y_pred)) # Model Accuracy\n",
        "print('MSE: ', mean_squared_error(y_test, y_pred))"
      ],
      "metadata": {
        "colab": {
          "base_uri": "https://localhost:8080/"
        },
        "id": "f5vw5TMxsqG6",
        "outputId": "0a9fd713-fb42-4a60-de01-0c08a52c6b52"
      },
      "execution_count": null,
      "outputs": [
        {
          "output_type": "stream",
          "name": "stdout",
          "text": [
            "Accuracy:  0.3563218390804598\n",
            "MSE:  2.2298850574712645\n"
          ]
        }
      ]
    },
    {
      "cell_type": "code",
      "source": [
        "clf = DecisionTreeClassifier(criterion='entropy')\n",
        "\n",
        "clf.fit(X_train, y_train) # Train the model using the training sets\n",
        "y_pred = clf.predict(X_test) # Predict the response for test dataset\n",
        "print('Accuracy: ', metrics.accuracy_score(y_test, y_pred)) # Model Accuracy\n",
        "print('MSE: ', mean_squared_error(y_test, y_pred))"
      ],
      "metadata": {
        "colab": {
          "base_uri": "https://localhost:8080/"
        },
        "id": "Tc58qcfKuR2l",
        "outputId": "b3b1100b-5e91-4355-eea2-d9b9e395b597"
      },
      "execution_count": null,
      "outputs": [
        {
          "output_type": "stream",
          "name": "stdout",
          "text": [
            "Accuracy:  0.47126436781609193\n",
            "MSE:  2.0114942528735633\n"
          ]
        }
      ]
    },
    {
      "cell_type": "code",
      "source": [
        "acc_dt = metrics.accuracy_score(y_test, y_pred)\n",
        "mse_dt = mean_squared_error(y_test, y_pred)"
      ],
      "metadata": {
        "id": "n_7fKXwV5O8X"
      },
      "execution_count": null,
      "outputs": []
    },
    {
      "cell_type": "markdown",
      "source": [
        "## Random Forest"
      ],
      "metadata": {
        "id": "5XK-b-HjuWCu"
      }
    },
    {
      "cell_type": "code",
      "source": [
        "from sklearn.ensemble import RandomForestClassifier"
      ],
      "metadata": {
        "id": "Dxis5wqiuV20"
      },
      "execution_count": null,
      "outputs": []
    },
    {
      "cell_type": "code",
      "source": [
        "clf = RandomForestClassifier(n_estimators=1500, criterion='gini', oob_score=True)\n",
        "\n",
        "clf.fit(X_train, y_train) # Train the model using the training sets\n",
        "y_pred = clf.predict(X_test) # Predict the response for test dataset\n",
        "print('Accuracy: ', metrics.accuracy_score(y_test, y_pred)) # Model Accuracy\n",
        "print('MSE: ', mean_squared_error(y_test, y_pred))"
      ],
      "metadata": {
        "colab": {
          "base_uri": "https://localhost:8080/"
        },
        "id": "VZSahW2kud_X",
        "outputId": "7c96a2b3-c204-4d05-d467-cb755695a6e0"
      },
      "execution_count": null,
      "outputs": [
        {
          "output_type": "stream",
          "name": "stdout",
          "text": [
            "Accuracy:  0.4482758620689655\n",
            "MSE:  2.1724137931034484\n"
          ]
        }
      ]
    },
    {
      "cell_type": "code",
      "source": [
        "clf = RandomForestClassifier(n_estimators=1500, criterion='entropy', oob_score=True)\n",
        "\n",
        "clf.fit(X_train, y_train) # Train the model using the training sets\n",
        "y_pred = clf.predict(X_test) # Predict the response for test dataset\n",
        "print('Accuracy: ', metrics.accuracy_score(y_test, y_pred)) # Model Accuracy\n",
        "print('MSE: ', mean_squared_error(y_test, y_pred))"
      ],
      "metadata": {
        "colab": {
          "base_uri": "https://localhost:8080/"
        },
        "id": "w7mKY01tuwwk",
        "outputId": "e8a53ab3-1f74-4e6f-e4e7-16d922a46427"
      },
      "execution_count": null,
      "outputs": [
        {
          "output_type": "stream",
          "name": "stdout",
          "text": [
            "Accuracy:  0.4482758620689655\n",
            "MSE:  2.1724137931034484\n"
          ]
        }
      ]
    },
    {
      "cell_type": "code",
      "source": [
        "acc_rf = metrics.accuracy_score(y_test, y_pred)\n",
        "mse_rf = mean_squared_error(y_test, y_pred)"
      ],
      "metadata": {
        "id": "-CxdIfAa5eAH"
      },
      "execution_count": null,
      "outputs": []
    },
    {
      "cell_type": "markdown",
      "source": [
        "## Gradient Boosting"
      ],
      "metadata": {
        "id": "eKSViNMtvpji"
      }
    },
    {
      "cell_type": "code",
      "source": [
        "from sklearn.ensemble import GradientBoostingClassifier"
      ],
      "metadata": {
        "id": "bHcgpuVdvt_Z"
      },
      "execution_count": null,
      "outputs": []
    },
    {
      "cell_type": "code",
      "source": [
        "clf = GradientBoostingClassifier(n_estimators=500, criterion='friedman_mse', learning_rate=0.001)\n",
        "\n",
        "clf.fit(X_train, y_train) # Train the model using the training sets\n",
        "y_pred = clf.predict(X_test) # Predict the response for test dataset\n",
        "print('Accuracy: ', metrics.accuracy_score(y_test, y_pred)) # Model Accuracy\n",
        "print('MSE: ', mean_squared_error(y_test, y_pred))"
      ],
      "metadata": {
        "colab": {
          "base_uri": "https://localhost:8080/"
        },
        "id": "yb_oO4apvrKC",
        "outputId": "cc6b1b99-199b-4d87-88ef-eb6df6154788"
      },
      "execution_count": null,
      "outputs": [
        {
          "output_type": "stream",
          "name": "stdout",
          "text": [
            "Accuracy:  0.45977011494252873\n",
            "MSE:  2.1264367816091956\n"
          ]
        }
      ]
    },
    {
      "cell_type": "code",
      "source": [
        "clf = GradientBoostingClassifier(n_estimators=500, criterion='friedman_mse', learning_rate=0.01)\n",
        "\n",
        "clf.fit(X_train, y_train) # Train the model using the training sets\n",
        "y_pred = clf.predict(X_test) # Predict the response for test dataset\n",
        "print('Accuracy: ', metrics.accuracy_score(y_test, y_pred)) # Model Accuracy\n",
        "print('MSE: ', mean_squared_error(y_test, y_pred))"
      ],
      "metadata": {
        "colab": {
          "base_uri": "https://localhost:8080/"
        },
        "id": "f-pwfQZWwIfZ",
        "outputId": "c8ec5773-e53e-45b7-b360-5e522f5b4b64"
      },
      "execution_count": null,
      "outputs": [
        {
          "output_type": "stream",
          "name": "stdout",
          "text": [
            "Accuracy:  0.4482758620689655\n",
            "MSE:  2.1724137931034484\n"
          ]
        }
      ]
    },
    {
      "cell_type": "code",
      "source": [
        "clf = GradientBoostingClassifier(n_estimators=500, criterion='friedman_mse', learning_rate=0.1)\n",
        "\n",
        "clf.fit(X_train, y_train) # Train the model using the training sets\n",
        "y_pred = clf.predict(X_test) # Predict the response for test dataset\n",
        "print('Accuracy: ', metrics.accuracy_score(y_test, y_pred)) # Model Accuracy\n",
        "print('MSE: ', mean_squared_error(y_test, y_pred))"
      ],
      "metadata": {
        "colab": {
          "base_uri": "https://localhost:8080/"
        },
        "id": "1VOCcH0WwJ9g",
        "outputId": "47701c79-de9f-46e8-c139-d61f4d91a01d"
      },
      "execution_count": null,
      "outputs": [
        {
          "output_type": "stream",
          "name": "stdout",
          "text": [
            "Accuracy:  0.47126436781609193\n",
            "MSE:  2.0804597701149423\n"
          ]
        }
      ]
    },
    {
      "cell_type": "code",
      "source": [
        "acc_gb = metrics.accuracy_score(y_test, y_pred)\n",
        "mse_gb = mean_squared_error(y_test, y_pred)"
      ],
      "metadata": {
        "id": "DGbksw0q5tAw"
      },
      "execution_count": null,
      "outputs": []
    },
    {
      "cell_type": "markdown",
      "source": [
        "## XGBoost"
      ],
      "metadata": {
        "id": "jFuhQnAsyd7F"
      }
    },
    {
      "cell_type": "code",
      "source": [
        "from xgboost import XGBClassifier"
      ],
      "metadata": {
        "id": "mjOCuiWnyg88"
      },
      "execution_count": null,
      "outputs": []
    },
    {
      "cell_type": "code",
      "source": [
        "clf = XGBClassifier(booster='gbtree')\n",
        "\n",
        "clf.fit(X_train, y_train) # Train the model using the training sets\n",
        "y_pred = clf.predict(X_test) # Predict the response for test dataset\n",
        "print('Accuracy: ', metrics.accuracy_score(y_test, y_pred)) # Model Accuracy\n",
        "print('MSE: ', mean_squared_error(y_test, y_pred))"
      ],
      "metadata": {
        "colab": {
          "base_uri": "https://localhost:8080/"
        },
        "id": "tWQMK5Dby20z",
        "outputId": "543be89b-86e3-4d25-c10c-cb2819bec59e"
      },
      "execution_count": null,
      "outputs": [
        {
          "output_type": "stream",
          "name": "stdout",
          "text": [
            "Accuracy:  0.4827586206896552\n",
            "MSE:  2.0344827586206895\n"
          ]
        }
      ]
    },
    {
      "cell_type": "code",
      "source": [
        "clf = XGBClassifier(booster='gblinear')\n",
        "\n",
        "clf.fit(X_train, y_train) # Train the model using the training sets\n",
        "y_pred = clf.predict(X_test) # Predict the response for test dataset\n",
        "print('Accuracy: ', metrics.accuracy_score(y_test, y_pred)) # Model Accuracy\n",
        "print('MSE: ', mean_squared_error(y_test, y_pred))"
      ],
      "metadata": {
        "colab": {
          "base_uri": "https://localhost:8080/"
        },
        "id": "1aZP_qKdzQLq",
        "outputId": "efddf729-8d32-4909-a73d-e9ed50607d23"
      },
      "execution_count": null,
      "outputs": [
        {
          "output_type": "stream",
          "name": "stdout",
          "text": [
            "Accuracy:  0.47126436781609193\n",
            "MSE:  2.0804597701149423\n"
          ]
        }
      ]
    },
    {
      "cell_type": "code",
      "source": [
        "clf = XGBClassifier(booster='dart')\n",
        "\n",
        "clf.fit(X_train, y_train) # Train the model using the training sets\n",
        "y_pred = clf.predict(X_test) # Predict the response for test dataset\n",
        "print('Accuracy: ', metrics.accuracy_score(y_test, y_pred)) # Model Accuracy\n",
        "print('MSE: ', mean_squared_error(y_test, y_pred))"
      ],
      "metadata": {
        "colab": {
          "base_uri": "https://localhost:8080/"
        },
        "id": "eFzS4QbozYdS",
        "outputId": "850afb86-5123-41af-f3cc-19fa620482b0"
      },
      "execution_count": null,
      "outputs": [
        {
          "output_type": "stream",
          "name": "stdout",
          "text": [
            "Accuracy:  0.4827586206896552\n",
            "MSE:  2.0344827586206895\n"
          ]
        }
      ]
    },
    {
      "cell_type": "code",
      "source": [
        "acc_xgb = metrics.accuracy_score(y_test, y_pred)\n",
        "mse_xgb = mean_squared_error(y_test, y_pred)"
      ],
      "metadata": {
        "id": "iTSe-26M55W8"
      },
      "execution_count": null,
      "outputs": []
    },
    {
      "cell_type": "markdown",
      "source": [
        "## Multi-Layer Perceptron"
      ],
      "metadata": {
        "id": "8-SkY1b9zjYJ"
      }
    },
    {
      "cell_type": "code",
      "source": [
        "from sklearn.neural_network import MLPClassifier"
      ],
      "metadata": {
        "id": "sYfqCGks0gNo"
      },
      "execution_count": null,
      "outputs": []
    },
    {
      "cell_type": "code",
      "source": [
        "clf = MLPClassifier(shuffle=True, alpha=0.0001, max_iter=800)\n",
        "\n",
        "clf.fit(X_train, y_train) # Train the model using the training sets\n",
        "y_pred = clf.predict(X_test) # Predict the response for test dataset\n",
        "print('Accuracy: ', metrics.accuracy_score(y_test, y_pred)) # Model Accuracy\n",
        "print('MSE: ', mean_squared_error(y_test, y_pred))"
      ],
      "metadata": {
        "colab": {
          "base_uri": "https://localhost:8080/"
        },
        "id": "vRk_9LYPznLi",
        "outputId": "aa69d167-9728-4fbf-e7e9-133fac23472b"
      },
      "execution_count": null,
      "outputs": [
        {
          "output_type": "stream",
          "name": "stdout",
          "text": [
            "Accuracy:  0.5287356321839081\n",
            "MSE:  1.8505747126436782\n"
          ]
        }
      ]
    },
    {
      "cell_type": "code",
      "source": [
        "clf = MLPClassifier(shuffle=True, alpha=0.01, max_iter=800)\n",
        "\n",
        "clf.fit(X_train, y_train) # Train the model using the training sets\n",
        "y_pred = clf.predict(X_test) # Predict the response for test dataset\n",
        "print('Accuracy: ', metrics.accuracy_score(y_test, y_pred)) # Model Accuracy\n",
        "print('MSE: ', mean_squared_error(y_test, y_pred))"
      ],
      "metadata": {
        "colab": {
          "base_uri": "https://localhost:8080/"
        },
        "id": "qdTDeCIt0yJI",
        "outputId": "0d5d8ebc-373a-430b-b899-f033806f734f"
      },
      "execution_count": null,
      "outputs": [
        {
          "output_type": "stream",
          "name": "stdout",
          "text": [
            "Accuracy:  0.5287356321839081\n",
            "MSE:  1.8505747126436782\n"
          ]
        }
      ]
    },
    {
      "cell_type": "code",
      "source": [
        "clf = MLPClassifier(shuffle=True, alpha=0.1, max_iter=800)\n",
        "\n",
        "accuracy_list = []\n",
        "mse_list = []\n",
        "\n",
        "clf.fit(X_train, y_train) # Train the model using the training sets\n",
        "y_pred = clf.predict(X_test) # Predict the response for test dataset\n",
        "print('Accuracy: ', metrics.accuracy_score(y_test, y_pred)) # Model Accuracy\n",
        "print('MSE: ', mean_squared_error(y_test, y_pred))"
      ],
      "metadata": {
        "colab": {
          "base_uri": "https://localhost:8080/"
        },
        "id": "1dYLViXp1MGG",
        "outputId": "b19d06a7-940c-4892-8a2b-944b607165e4"
      },
      "execution_count": null,
      "outputs": [
        {
          "output_type": "stream",
          "name": "stdout",
          "text": [
            "Accuracy:  0.5172413793103449\n",
            "MSE:  1.896551724137931\n"
          ]
        }
      ]
    },
    {
      "cell_type": "code",
      "source": [
        "clf = MLPClassifier(shuffle=True, alpha=1, max_iter=800)\n",
        "\n",
        "clf.fit(X_train, y_train) # Train the model using the training sets\n",
        "y_pred = clf.predict(X_test) # Predict the response for test dataset\n",
        "print('Accuracy: ', metrics.accuracy_score(y_test, y_pred)) # Model Accuracy\n",
        "print('MSE: ', mean_squared_error(y_test, y_pred))"
      ],
      "metadata": {
        "colab": {
          "base_uri": "https://localhost:8080/"
        },
        "id": "9qCw5L131Trg",
        "outputId": "5975a879-2f4c-4861-9a29-1bfc0d32d12f"
      },
      "execution_count": null,
      "outputs": [
        {
          "output_type": "stream",
          "name": "stdout",
          "text": [
            "Accuracy:  0.45977011494252873\n",
            "MSE:  2.1264367816091956\n"
          ]
        }
      ]
    },
    {
      "cell_type": "code",
      "source": [
        "clf = MLPClassifier(shuffle=True, alpha=10, max_iter=800)\n",
        "\n",
        "clf.fit(X_train, y_train) # Train the model using the training sets\n",
        "y_pred = clf.predict(X_test) # Predict the response for test dataset\n",
        "print('Accuracy: ', metrics.accuracy_score(y_test, y_pred)) # Model Accuracy\n",
        "print('MSE: ', mean_squared_error(y_test, y_pred))"
      ],
      "metadata": {
        "colab": {
          "base_uri": "https://localhost:8080/"
        },
        "id": "3w9V6GEY1awF",
        "outputId": "a1575757-f5e6-4758-bc7e-a5a3df210161"
      },
      "execution_count": null,
      "outputs": [
        {
          "output_type": "stream",
          "name": "stdout",
          "text": [
            "Accuracy:  0.47126436781609193\n",
            "MSE:  2.0804597701149423\n"
          ]
        }
      ]
    },
    {
      "cell_type": "code",
      "source": [
        "clf = MLPClassifier(shuffle=False, alpha=0.0001, max_iter=800)\n",
        "\n",
        "clf.fit(X_train, y_train) # Train the model using the training sets\n",
        "y_pred = clf.predict(X_test) # Predict the response for test dataset\n",
        "print('Accuracy: ', metrics.accuracy_score(y_test, y_pred)) # Model Accuracy\n",
        "print('MSE: ', mean_squared_error(y_test, y_pred))"
      ],
      "metadata": {
        "colab": {
          "base_uri": "https://localhost:8080/"
        },
        "outputId": "543d03dc-cfcf-4da2-93a4-680cf4122a18",
        "id": "FeLJI7yL1nIA"
      },
      "execution_count": null,
      "outputs": [
        {
          "output_type": "stream",
          "name": "stdout",
          "text": [
            "Accuracy:  0.5057471264367817\n",
            "MSE:  1.9425287356321839\n"
          ]
        }
      ]
    },
    {
      "cell_type": "code",
      "source": [
        "clf = MLPClassifier(shuffle=False, alpha=0.01, max_iter=800)\n",
        "\n",
        "clf.fit(X_train, y_train) # Train the model using the training sets\n",
        "y_pred = clf.predict(X_test) # Predict the response for test dataset\n",
        "print('Accuracy: ', metrics.accuracy_score(y_test, y_pred)) # Model Accuracy\n",
        "print('MSE: ', mean_squared_error(y_test, y_pred))"
      ],
      "metadata": {
        "colab": {
          "base_uri": "https://localhost:8080/"
        },
        "outputId": "8ccffd63-f8af-4abb-9641-ddb4ebd55157",
        "id": "-SvA7Goj1nIA"
      },
      "execution_count": null,
      "outputs": [
        {
          "output_type": "stream",
          "name": "stdout",
          "text": [
            "Accuracy:  0.5402298850574713\n",
            "MSE:  1.8045977011494252\n"
          ]
        }
      ]
    },
    {
      "cell_type": "code",
      "source": [
        "clf = MLPClassifier(shuffle=False, alpha=0.1, max_iter=800)\n",
        "\n",
        "clf.fit(X_train, y_train) # Train the model using the training sets\n",
        "y_pred = clf.predict(X_test) # Predict the response for test dataset\n",
        "print('Accuracy: ', metrics.accuracy_score(y_test, y_pred)) # Model Accuracy\n",
        "print('MSE: ', mean_squared_error(y_test, y_pred))"
      ],
      "metadata": {
        "colab": {
          "base_uri": "https://localhost:8080/"
        },
        "outputId": "fe33212b-8c98-41cc-d7fa-07c2df0442b8",
        "id": "fPxVngF91nIA"
      },
      "execution_count": null,
      "outputs": [
        {
          "output_type": "stream",
          "name": "stdout",
          "text": [
            "Accuracy:  0.4942528735632184\n",
            "MSE:  1.9885057471264367\n"
          ]
        }
      ]
    },
    {
      "cell_type": "code",
      "source": [
        "clf = MLPClassifier(shuffle=False, alpha=1, max_iter=800)\n",
        "\n",
        "clf.fit(X_train, y_train) # Train the model using the training sets\n",
        "y_pred = clf.predict(X_test) # Predict the response for test dataset\n",
        "print('Accuracy: ', metrics.accuracy_score(y_test, y_pred)) # Model Accuracy\n",
        "print('MSE: ', mean_squared_error(y_test, y_pred))"
      ],
      "metadata": {
        "colab": {
          "base_uri": "https://localhost:8080/"
        },
        "outputId": "cd623881-1079-43b6-93f5-b9c4b1805f3d",
        "id": "NP8fjQZF1nIB"
      },
      "execution_count": null,
      "outputs": [
        {
          "output_type": "stream",
          "name": "stdout",
          "text": [
            "Accuracy:  0.5287356321839081\n",
            "MSE:  1.8505747126436782\n"
          ]
        }
      ]
    },
    {
      "cell_type": "code",
      "source": [
        "clf = MLPClassifier(shuffle=False, alpha=10, max_iter=800)\n",
        "\n",
        "clf.fit(X_train, y_train) # Train the model using the training sets\n",
        "y_pred = clf.predict(X_test) # Predict the response for test dataset\n",
        "print('Accuracy: ', metrics.accuracy_score(y_test, y_pred)) # Model Accuracy\n",
        "print('MSE: ', mean_squared_error(y_test, y_pred))"
      ],
      "metadata": {
        "colab": {
          "base_uri": "https://localhost:8080/"
        },
        "outputId": "776322d2-55c7-44ff-ad37-c1ab0687872d",
        "id": "bzptkSjf1nIB"
      },
      "execution_count": null,
      "outputs": [
        {
          "output_type": "stream",
          "name": "stdout",
          "text": [
            "Accuracy:  0.47126436781609193\n",
            "MSE:  2.0804597701149423\n"
          ]
        }
      ]
    },
    {
      "cell_type": "code",
      "source": [
        "acc_mlp = metrics.accuracy_score(y_test, y_pred)\n",
        "mse_mlp = mean_squared_error(y_test, y_pred)"
      ],
      "metadata": {
        "id": "361OZinc6H08"
      },
      "execution_count": null,
      "outputs": []
    },
    {
      "cell_type": "markdown",
      "source": [
        "## SVM"
      ],
      "metadata": {
        "id": "htp7W5RsLCe_"
      }
    },
    {
      "cell_type": "code",
      "source": [
        "from sklearn import svm"
      ],
      "metadata": {
        "id": "vo33xMb12PtU"
      },
      "execution_count": null,
      "outputs": []
    },
    {
      "cell_type": "code",
      "source": [
        "clf = svm.SVC(kernel='linear', C=0.001) \n",
        "\n",
        "clf.fit(X_train, y_train) # Train the model using the training sets\n",
        "y_pred = clf.predict(X_test) # Predict the response for test dataset\n",
        "print('Accuracy: ', metrics.accuracy_score(y_test, y_pred)) # Model Accuracy\n",
        "print('MSE: ', mean_squared_error(y_test, y_pred))"
      ],
      "metadata": {
        "colab": {
          "base_uri": "https://localhost:8080/"
        },
        "id": "kvs1rC6PLMdH",
        "outputId": "46ae1c14-6275-406f-d94b-a28fd8fef2b9"
      },
      "execution_count": null,
      "outputs": [
        {
          "output_type": "stream",
          "name": "stdout",
          "text": [
            "Accuracy:  0.47126436781609193\n",
            "MSE:  2.0804597701149423\n"
          ]
        }
      ]
    },
    {
      "cell_type": "code",
      "source": [
        "clf = svm.SVC(kernel='linear', C=0.01)\n",
        "\n",
        "clf.fit(X_train, y_train) # Train the model using the training sets\n",
        "y_pred = clf.predict(X_test) # Predict the response for test dataset\n",
        "print('Accuracy: ', metrics.accuracy_score(y_test, y_pred)) # Model Accuracy\n",
        "print('MSE: ', mean_squared_error(y_test, y_pred))"
      ],
      "metadata": {
        "colab": {
          "base_uri": "https://localhost:8080/"
        },
        "id": "sTkfDgjG2bpC",
        "outputId": "e0b111e8-40f1-4944-e801-9a39e813f17c"
      },
      "execution_count": null,
      "outputs": [
        {
          "output_type": "stream",
          "name": "stdout",
          "text": [
            "Accuracy:  0.47126436781609193\n",
            "MSE:  2.0804597701149423\n"
          ]
        }
      ]
    },
    {
      "cell_type": "code",
      "source": [
        "clf = svm.SVC(kernel='linear', C=0.1)\n",
        "\n",
        "clf.fit(X_train, y_train) # Train the model using the training sets\n",
        "y_pred = clf.predict(X_test) # Predict the response for test dataset\n",
        "print('Accuracy: ', metrics.accuracy_score(y_test, y_pred)) # Model Accuracy\n",
        "print('MSE: ', mean_squared_error(y_test, y_pred))"
      ],
      "metadata": {
        "colab": {
          "base_uri": "https://localhost:8080/"
        },
        "id": "ZQ1JtuKj2efw",
        "outputId": "aa5fe2bb-604e-4298-f00f-25726651c03c"
      },
      "execution_count": null,
      "outputs": [
        {
          "output_type": "stream",
          "name": "stdout",
          "text": [
            "Accuracy:  0.47126436781609193\n",
            "MSE:  2.0804597701149423\n"
          ]
        }
      ]
    },
    {
      "cell_type": "code",
      "source": [
        "clf = svm.SVC(kernel='linear', C=1)\n",
        "\n",
        "clf.fit(X_train, y_train) # Train the model using the training sets\n",
        "y_pred = clf.predict(X_test) # Predict the response for test dataset\n",
        "print('Accuracy: ', metrics.accuracy_score(y_test, y_pred)) # Model Accuracy\n",
        "print('MSE: ', mean_squared_error(y_test, y_pred))"
      ],
      "metadata": {
        "colab": {
          "base_uri": "https://localhost:8080/"
        },
        "id": "NvN3502t2hJm",
        "outputId": "f22f7ea7-4481-46f1-b7c3-38e7a611ba8f"
      },
      "execution_count": null,
      "outputs": [
        {
          "output_type": "stream",
          "name": "stdout",
          "text": [
            "Accuracy:  0.47126436781609193\n",
            "MSE:  2.0804597701149423\n"
          ]
        }
      ]
    },
    {
      "cell_type": "code",
      "source": [
        "acc_svm_l = metrics.accuracy_score(y_test, y_pred)\n",
        "mse_svm_l = mean_squared_error(y_test, y_pred)"
      ],
      "metadata": {
        "id": "G6Ft87W46Wnz"
      },
      "execution_count": null,
      "outputs": []
    },
    {
      "cell_type": "code",
      "source": [
        "clf = svm.SVC(kernel='rbf', C=0.001) \n",
        "\n",
        "clf.fit(X_train, y_train) # Train the model using the training sets\n",
        "y_pred = clf.predict(X_test) # Predict the response for test dataset\n",
        "print('Accuracy: ', metrics.accuracy_score(y_test, y_pred)) # Model Accuracy\n",
        "print('MSE: ', mean_squared_error(y_test, y_pred))"
      ],
      "metadata": {
        "colab": {
          "base_uri": "https://localhost:8080/"
        },
        "outputId": "ea782564-3a75-4705-8c0e-a9fe7b5b18d1",
        "id": "uixvmZaU2olE"
      },
      "execution_count": null,
      "outputs": [
        {
          "output_type": "stream",
          "name": "stdout",
          "text": [
            "Accuracy:  0.47126436781609193\n",
            "MSE:  2.0804597701149423\n"
          ]
        }
      ]
    },
    {
      "cell_type": "code",
      "source": [
        "clf = svm.SVC(kernel='rbf', C=0.01) \n",
        "\n",
        "clf.fit(X_train, y_train) # Train the model using the training sets\n",
        "y_pred = clf.predict(X_test) # Predict the response for test dataset\n",
        "print('Accuracy: ', metrics.accuracy_score(y_test, y_pred)) # Model Accuracy\n",
        "print('MSE: ', mean_squared_error(y_test, y_pred))"
      ],
      "metadata": {
        "colab": {
          "base_uri": "https://localhost:8080/"
        },
        "outputId": "f44cd51b-da38-4ee1-b5b7-2abf612737df",
        "id": "y_s9BM1W2olE"
      },
      "execution_count": null,
      "outputs": [
        {
          "output_type": "stream",
          "name": "stdout",
          "text": [
            "Accuracy:  0.47126436781609193\n",
            "MSE:  2.0804597701149423\n"
          ]
        }
      ]
    },
    {
      "cell_type": "code",
      "source": [
        "clf = svm.SVC(kernel='rbf', C=0.1) \n",
        "\n",
        "clf.fit(X_train, y_train) # Train the model using the training sets\n",
        "y_pred = clf.predict(X_test) # Predict the response for test dataset\n",
        "print('Accuracy: ', metrics.accuracy_score(y_test, y_pred)) # Model Accuracy\n",
        "print('MSE: ', mean_squared_error(y_test, y_pred))"
      ],
      "metadata": {
        "colab": {
          "base_uri": "https://localhost:8080/"
        },
        "outputId": "b0ef63c8-5694-48dc-ea3e-b0f9a7500335",
        "id": "k9b2xn7J2olF"
      },
      "execution_count": null,
      "outputs": [
        {
          "output_type": "stream",
          "name": "stdout",
          "text": [
            "Accuracy:  0.47126436781609193\n",
            "MSE:  2.0804597701149423\n"
          ]
        }
      ]
    },
    {
      "cell_type": "code",
      "source": [
        "clf = svm.SVC(kernel='rbf', C=1)\n",
        "\n",
        "clf.fit(X_train, y_train) # Train the model using the training sets\n",
        "y_pred = clf.predict(X_test) # Predict the response for test dataset\n",
        "print('Accuracy: ', metrics.accuracy_score(y_test, y_pred)) # Model Accuracy\n",
        "print('MSE: ', mean_squared_error(y_test, y_pred))"
      ],
      "metadata": {
        "colab": {
          "base_uri": "https://localhost:8080/"
        },
        "outputId": "b719fe52-d571-48f0-c39b-65f85b5d01d8",
        "id": "JWzGEzRo2olF"
      },
      "execution_count": null,
      "outputs": [
        {
          "output_type": "stream",
          "name": "stdout",
          "text": [
            "Accuracy:  0.5402298850574713\n",
            "MSE:  1.8045977011494252\n"
          ]
        }
      ]
    },
    {
      "cell_type": "code",
      "source": [
        "acc_svm_r = metrics.accuracy_score(y_test, y_pred)\n",
        "mse_svm_r = mean_squared_error(y_test, y_pred)"
      ],
      "metadata": {
        "id": "bBzmwB8G6cAz"
      },
      "execution_count": null,
      "outputs": []
    },
    {
      "cell_type": "code",
      "source": [
        "clf = svm.SVC(kernel='poly', C=0.001) \n",
        "\n",
        "clf.fit(X_train, y_train) # Train the model using the training sets\n",
        "y_pred = clf.predict(X_test) # Predict the response for test dataset\n",
        "print('Accuracy: ', metrics.accuracy_score(y_test, y_pred)) # Model Accuracy\n",
        "print('MSE: ', mean_squared_error(y_test, y_pred))"
      ],
      "metadata": {
        "colab": {
          "base_uri": "https://localhost:8080/"
        },
        "outputId": "f2a5f924-4a04-4aa4-f3ca-069f00ef48a7",
        "id": "-ep63LuF22qV"
      },
      "execution_count": null,
      "outputs": [
        {
          "output_type": "stream",
          "name": "stdout",
          "text": [
            "Accuracy:  0.47126436781609193\n",
            "MSE:  2.0804597701149423\n"
          ]
        }
      ]
    },
    {
      "cell_type": "code",
      "source": [
        "clf = svm.SVC(kernel='poly', C=0.01) \n",
        "\n",
        "clf.fit(X_train, y_train) # Train the model using the training sets\n",
        "y_pred = clf.predict(X_test) # Predict the response for test dataset\n",
        "print('Accuracy: ', metrics.accuracy_score(y_test, y_pred)) # Model Accuracy\n",
        "print('MSE: ', mean_squared_error(y_test, y_pred))"
      ],
      "metadata": {
        "colab": {
          "base_uri": "https://localhost:8080/"
        },
        "outputId": "8019be22-869e-4069-bc4d-6ded8d285d0d",
        "id": "yv46SeG222qV"
      },
      "execution_count": null,
      "outputs": [
        {
          "output_type": "stream",
          "name": "stdout",
          "text": [
            "Accuracy:  0.4827586206896552\n",
            "MSE:  2.0344827586206895\n"
          ]
        }
      ]
    },
    {
      "cell_type": "code",
      "source": [
        "clf = svm.SVC(kernel='poly', C=0.1)\n",
        "\n",
        "clf.fit(X_train, y_train) # Train the model using the training sets\n",
        "y_pred = clf.predict(X_test) # Predict the response for test dataset\n",
        "print('Accuracy: ', metrics.accuracy_score(y_test, y_pred)) # Model Accuracy\n",
        "print('MSE: ', mean_squared_error(y_test, y_pred))"
      ],
      "metadata": {
        "colab": {
          "base_uri": "https://localhost:8080/"
        },
        "outputId": "0ccfe268-b56c-4839-9cd2-16aa277d8801",
        "id": "9dM8NKwY22qV"
      },
      "execution_count": null,
      "outputs": [
        {
          "output_type": "stream",
          "name": "stdout",
          "text": [
            "Accuracy:  0.5517241379310345\n",
            "MSE:  1.7586206896551724\n"
          ]
        }
      ]
    },
    {
      "cell_type": "code",
      "source": [
        "clf = svm.SVC(kernel='poly', C=1)\n",
        "\n",
        "clf.fit(X_train, y_train) # Train the model using the training sets\n",
        "y_pred = clf.predict(X_test) # Predict the response for test dataset\n",
        "print('Accuracy: ', metrics.accuracy_score(y_test, y_pred)) # Model Accuracy\n",
        "print('MSE: ', mean_squared_error(y_test, y_pred))"
      ],
      "metadata": {
        "colab": {
          "base_uri": "https://localhost:8080/"
        },
        "outputId": "64859e83-84b4-4f8f-a126-9cd840db05e5",
        "id": "i3CCULLj22qV"
      },
      "execution_count": null,
      "outputs": [
        {
          "output_type": "stream",
          "name": "stdout",
          "text": [
            "Accuracy:  0.4942528735632184\n",
            "MSE:  1.9885057471264367\n"
          ]
        }
      ]
    },
    {
      "cell_type": "code",
      "source": [
        "acc_svm_p = metrics.accuracy_score(y_test, y_pred)\n",
        "mse_svm_p = mean_squared_error(y_test, y_pred)"
      ],
      "metadata": {
        "id": "22Wll2Uc6giT"
      },
      "execution_count": null,
      "outputs": []
    },
    {
      "cell_type": "markdown",
      "source": [
        "## Logistic Regression"
      ],
      "metadata": {
        "id": "BncmRNQ_3RPc"
      }
    },
    {
      "cell_type": "code",
      "source": [
        "from sklearn.linear_model import LogisticRegression"
      ],
      "metadata": {
        "id": "y8LvhNGY3TlR"
      },
      "execution_count": null,
      "outputs": []
    },
    {
      "cell_type": "code",
      "source": [
        "clf = LogisticRegression(C=0.001)\n",
        "\n",
        "clf.fit(X_train, y_train) # Train the model using the training sets\n",
        "y_pred = clf.predict(X_test) # Predict the response for test dataset\n",
        "print('Accuracy: ', metrics.accuracy_score(y_test, y_pred)) # Model Accuracy\n",
        "print('MSE: ', mean_squared_error(y_test, y_pred))"
      ],
      "metadata": {
        "colab": {
          "base_uri": "https://localhost:8080/"
        },
        "id": "ukEHDGnC3KCx",
        "outputId": "1e4e6bc8-baff-4eb2-cd63-9c2a6d66ae99"
      },
      "execution_count": null,
      "outputs": [
        {
          "output_type": "stream",
          "name": "stdout",
          "text": [
            "Accuracy:  0.47126436781609193\n",
            "MSE:  2.0804597701149423\n"
          ]
        }
      ]
    },
    {
      "cell_type": "code",
      "source": [
        "clf = LogisticRegression(C=0.01) \n",
        "\n",
        "clf.fit(X_train, y_train) # Train the model using the training sets\n",
        "y_pred = clf.predict(X_test) # Predict the response for test dataset\n",
        "print('Accuracy: ', metrics.accuracy_score(y_test, y_pred)) # Model Accuracy\n",
        "print('MSE: ', mean_squared_error(y_test, y_pred))"
      ],
      "metadata": {
        "colab": {
          "base_uri": "https://localhost:8080/"
        },
        "id": "uaBi7kP73nFi",
        "outputId": "edc80f79-dee9-417b-c2ad-9a7cccf298a5"
      },
      "execution_count": null,
      "outputs": [
        {
          "output_type": "stream",
          "name": "stdout",
          "text": [
            "Accuracy:  0.47126436781609193\n",
            "MSE:  2.0804597701149423\n"
          ]
        }
      ]
    },
    {
      "cell_type": "code",
      "source": [
        "clf = LogisticRegression(C=0.1)\n",
        "\n",
        "clf.fit(X_train, y_train) # Train the model using the training sets\n",
        "y_pred = clf.predict(X_test) # Predict the response for test dataset\n",
        "print('Accuracy: ', metrics.accuracy_score(y_test, y_pred)) # Model Accuracy\n",
        "print('MSE: ', mean_squared_error(y_test, y_pred))"
      ],
      "metadata": {
        "colab": {
          "base_uri": "https://localhost:8080/"
        },
        "id": "ZD6m2QdZ3qXE",
        "outputId": "cf67ccd3-4de6-409e-812e-72404d52dbae"
      },
      "execution_count": null,
      "outputs": [
        {
          "output_type": "stream",
          "name": "stdout",
          "text": [
            "Accuracy:  0.47126436781609193\n",
            "MSE:  2.0804597701149423\n"
          ]
        }
      ]
    },
    {
      "cell_type": "code",
      "source": [
        "clf = LogisticRegression(C=1) \n",
        "\n",
        "clf.fit(X_train, y_train) # Train the model using the training sets\n",
        "y_pred = clf.predict(X_test) # Predict the response for test dataset\n",
        "print('Accuracy: ', metrics.accuracy_score(y_test, y_pred)) # Model Accuracy\n",
        "print('MSE: ', mean_squared_error(y_test, y_pred))"
      ],
      "metadata": {
        "colab": {
          "base_uri": "https://localhost:8080/"
        },
        "id": "dVodUL993tuH",
        "outputId": "0258a486-7008-43dc-ecf8-b83c592928d7"
      },
      "execution_count": null,
      "outputs": [
        {
          "output_type": "stream",
          "name": "stdout",
          "text": [
            "Accuracy:  0.47126436781609193\n",
            "MSE:  2.0804597701149423\n"
          ]
        }
      ]
    },
    {
      "cell_type": "code",
      "source": [
        "clf = LogisticRegression(C=10) \n",
        "\n",
        "clf.fit(X_train, y_train) # Train the model using the training sets\n",
        "y_pred = clf.predict(X_test) # Predict the response for test dataset\n",
        "print('Accuracy: ', metrics.accuracy_score(y_test, y_pred)) # Model Accuracy\n",
        "print('MSE: ', mean_squared_error(y_test, y_pred))"
      ],
      "metadata": {
        "colab": {
          "base_uri": "https://localhost:8080/"
        },
        "id": "HYqpef_03xS5",
        "outputId": "87317fec-9c5a-41ea-f67c-118c4c245ea4"
      },
      "execution_count": null,
      "outputs": [
        {
          "output_type": "stream",
          "name": "stdout",
          "text": [
            "Accuracy:  0.47126436781609193\n",
            "MSE:  2.0804597701149423\n"
          ]
        }
      ]
    },
    {
      "cell_type": "code",
      "source": [
        "acc_lr = metrics.accuracy_score(y_test, y_pred)\n",
        "mse_lr = mean_squared_error(y_test, y_pred)"
      ],
      "metadata": {
        "id": "qQltwXAn6oL6"
      },
      "execution_count": null,
      "outputs": []
    },
    {
      "cell_type": "markdown",
      "source": [
        "## K-Nearest Neighbors"
      ],
      "metadata": {
        "id": "3tkGaOan32YR"
      }
    },
    {
      "cell_type": "code",
      "source": [
        "from sklearn.neighbors import KNeighborsClassifier"
      ],
      "metadata": {
        "id": "No4Gok0L38m3"
      },
      "execution_count": null,
      "outputs": []
    },
    {
      "cell_type": "code",
      "source": [
        "clf = KNeighborsClassifier(n_neighbors=3, weights='uniform') \n",
        "\n",
        "clf.fit(X_train, y_train) # Train the model using the training sets\n",
        "y_pred = clf.predict(X_test) # Predict the response for test dataset\n",
        "print('Accuracy: ', metrics.accuracy_score(y_test, y_pred)) # Model Accuracy\n",
        "print('MSE: ', mean_squared_error(y_test, y_pred))"
      ],
      "metadata": {
        "colab": {
          "base_uri": "https://localhost:8080/"
        },
        "id": "KDw3jA8J30ZY",
        "outputId": "b66e90d8-5390-45e5-cb62-e95119565c97"
      },
      "execution_count": null,
      "outputs": [
        {
          "output_type": "stream",
          "name": "stdout",
          "text": [
            "Accuracy:  0.4827586206896552\n",
            "MSE:  2.0344827586206895\n"
          ]
        }
      ]
    },
    {
      "cell_type": "code",
      "source": [
        "clf = KNeighborsClassifier(n_neighbors=8, weights='uniform') \n",
        "\n",
        "clf.fit(X_train, y_train) # Train the model using the training sets\n",
        "y_pred = clf.predict(X_test) # Predict the response for test dataset\n",
        "print('Accuracy: ', metrics.accuracy_score(y_test, y_pred)) # Model Accuracy\n",
        "print('MSE: ', mean_squared_error(y_test, y_pred))"
      ],
      "metadata": {
        "colab": {
          "base_uri": "https://localhost:8080/"
        },
        "id": "07I7FFJT4Wi_",
        "outputId": "eec9584b-9437-4f4b-cc41-b12f4cb8f5fd"
      },
      "execution_count": null,
      "outputs": [
        {
          "output_type": "stream",
          "name": "stdout",
          "text": [
            "Accuracy:  0.47126436781609193\n",
            "MSE:  2.0804597701149423\n"
          ]
        }
      ]
    },
    {
      "cell_type": "code",
      "source": [
        "clf = KNeighborsClassifier(n_neighbors=15, weights='uniform') \n",
        "\n",
        "clf.fit(X_train, y_train) # Train the model using the training sets\n",
        "y_pred = clf.predict(X_test) # Predict the response for test dataset\n",
        "print('Accuracy: ', metrics.accuracy_score(y_test, y_pred)) # Model Accuracy\n",
        "print('MSE: ', mean_squared_error(y_test, y_pred))"
      ],
      "metadata": {
        "colab": {
          "base_uri": "https://localhost:8080/"
        },
        "id": "um2RXs3a4aNx",
        "outputId": "4573235a-27eb-4b92-e0d1-dc9f96676edc"
      },
      "execution_count": null,
      "outputs": [
        {
          "output_type": "stream",
          "name": "stdout",
          "text": [
            "Accuracy:  0.45977011494252873\n",
            "MSE:  2.1264367816091956\n"
          ]
        }
      ]
    },
    {
      "cell_type": "code",
      "source": [
        "clf = KNeighborsClassifier(n_neighbors=3, weights='distance')\n",
        "\n",
        "clf.fit(X_train, y_train) # Train the model using the training sets\n",
        "y_pred = clf.predict(X_test) # Predict the response for test dataset\n",
        "print('Accuracy: ', metrics.accuracy_score(y_test, y_pred)) # Model Accuracy\n",
        "print('MSE: ', mean_squared_error(y_test, y_pred))"
      ],
      "metadata": {
        "colab": {
          "base_uri": "https://localhost:8080/"
        },
        "id": "KhSoTvI-4eGv",
        "outputId": "5fdd1ce4-bab7-4644-d8bd-aba30764f71a"
      },
      "execution_count": null,
      "outputs": [
        {
          "output_type": "stream",
          "name": "stdout",
          "text": [
            "Accuracy:  0.4827586206896552\n",
            "MSE:  1.896551724137931\n"
          ]
        }
      ]
    },
    {
      "cell_type": "code",
      "source": [
        "clf = KNeighborsClassifier(n_neighbors=8, weights='distance') \n",
        "\n",
        "clf.fit(X_train, y_train) # Train the model using the training sets\n",
        "y_pred = clf.predict(X_test) # Predict the response for test dataset\n",
        "print('Accuracy: ', metrics.accuracy_score(y_test, y_pred)) # Model Accuracy\n",
        "print('MSE: ', mean_squared_error(y_test, y_pred))"
      ],
      "metadata": {
        "colab": {
          "base_uri": "https://localhost:8080/"
        },
        "id": "uQP_NUVB4jVt",
        "outputId": "d1f2f9de-ba9b-4afa-d8dd-b1816926dfa9"
      },
      "execution_count": null,
      "outputs": [
        {
          "output_type": "stream",
          "name": "stdout",
          "text": [
            "Accuracy:  0.47126436781609193\n",
            "MSE:  2.0804597701149423\n"
          ]
        }
      ]
    },
    {
      "cell_type": "code",
      "source": [
        "clf = KNeighborsClassifier(n_neighbors=15, weights='distance') \n",
        "\n",
        "clf.fit(X_train, y_train) # Train the model using the training sets\n",
        "y_pred = clf.predict(X_test) # Predict the response for test dataset\n",
        "print('Accuracy: ', metrics.accuracy_score(y_test, y_pred)) # Model Accuracy\n",
        "print('MSE: ', mean_squared_error(y_test, y_pred))"
      ],
      "metadata": {
        "colab": {
          "base_uri": "https://localhost:8080/"
        },
        "id": "fUZx7PXC4mFP",
        "outputId": "2bec96fc-0311-4fa0-f0bf-13d5c15051bb"
      },
      "execution_count": null,
      "outputs": [
        {
          "output_type": "stream",
          "name": "stdout",
          "text": [
            "Accuracy:  0.47126436781609193\n",
            "MSE:  2.0804597701149423\n"
          ]
        }
      ]
    },
    {
      "cell_type": "code",
      "source": [
        "acc_knn = metrics.accuracy_score(y_test, y_pred)\n",
        "mse_knn = mean_squared_error(y_test, y_pred)"
      ],
      "metadata": {
        "id": "bT_awHIl4ptj"
      },
      "execution_count": null,
      "outputs": []
    },
    {
      "cell_type": "markdown",
      "source": [
        "# 결과 시각화"
      ],
      "metadata": {
        "id": "UyJZ7mW16yYi"
      }
    },
    {
      "cell_type": "code",
      "source": [
        "acc = [acc_nb, acc_dt, acc_rf, acc_gb, acc_xgb, acc_mlp, acc_svm_l, acc_svm_r, acc_svm_p, acc_lr, acc_knn]\n",
        "mse = [mse_nb, mse_dt, mse_rf, mse_gb, mse_xgb, mse_mlp, mse_svm_l, mse_svm_r, mse_svm_p, mse_lr, mse_knn]\n",
        "idx = ['NB', 'DT', 'RF', 'GB', 'XGB', 'MLP', 'SVM-L', 'SVM-R', 'SVM-P', 'LR', 'KNN']\n",
        "results = pd.DataFrame({'Accuracy':acc, 'MSE':mse}, index=idx)\n",
        "results['MSE'] = 3 - results['MSE']\n",
        "results"
      ],
      "metadata": {
        "colab": {
          "base_uri": "https://localhost:8080/",
          "height": 394
        },
        "id": "8QIyYYTF6xmk",
        "outputId": "229c8faa-b887-4699-d73f-ecc54606dbf7"
      },
      "execution_count": null,
      "outputs": [
        {
          "output_type": "execute_result",
          "data": {
            "text/plain": [
              "       Accuracy       MSE\n",
              "NB     0.517241  1.103448\n",
              "DT     0.471264  0.988506\n",
              "RF     0.448276  0.827586\n",
              "GB     0.471264  0.919540\n",
              "XGB    0.482759  0.965517\n",
              "MLP    0.540230  1.195402\n",
              "SVM-L  0.471264  0.919540\n",
              "SVM-R  0.540230  1.195402\n",
              "SVM-P  0.551724  1.241379\n",
              "LR     0.471264  0.919540\n",
              "KNN    0.482759  1.103448"
            ],
            "text/html": [
              "\n",
              "  <div id=\"df-ddf5a78d-2b73-4c01-b175-6ce20d93f97d\">\n",
              "    <div class=\"colab-df-container\">\n",
              "      <div>\n",
              "<style scoped>\n",
              "    .dataframe tbody tr th:only-of-type {\n",
              "        vertical-align: middle;\n",
              "    }\n",
              "\n",
              "    .dataframe tbody tr th {\n",
              "        vertical-align: top;\n",
              "    }\n",
              "\n",
              "    .dataframe thead th {\n",
              "        text-align: right;\n",
              "    }\n",
              "</style>\n",
              "<table border=\"1\" class=\"dataframe\">\n",
              "  <thead>\n",
              "    <tr style=\"text-align: right;\">\n",
              "      <th></th>\n",
              "      <th>Accuracy</th>\n",
              "      <th>MSE</th>\n",
              "    </tr>\n",
              "  </thead>\n",
              "  <tbody>\n",
              "    <tr>\n",
              "      <th>NB</th>\n",
              "      <td>0.517241</td>\n",
              "      <td>1.103448</td>\n",
              "    </tr>\n",
              "    <tr>\n",
              "      <th>DT</th>\n",
              "      <td>0.471264</td>\n",
              "      <td>0.988506</td>\n",
              "    </tr>\n",
              "    <tr>\n",
              "      <th>RF</th>\n",
              "      <td>0.448276</td>\n",
              "      <td>0.827586</td>\n",
              "    </tr>\n",
              "    <tr>\n",
              "      <th>GB</th>\n",
              "      <td>0.471264</td>\n",
              "      <td>0.919540</td>\n",
              "    </tr>\n",
              "    <tr>\n",
              "      <th>XGB</th>\n",
              "      <td>0.482759</td>\n",
              "      <td>0.965517</td>\n",
              "    </tr>\n",
              "    <tr>\n",
              "      <th>MLP</th>\n",
              "      <td>0.540230</td>\n",
              "      <td>1.195402</td>\n",
              "    </tr>\n",
              "    <tr>\n",
              "      <th>SVM-L</th>\n",
              "      <td>0.471264</td>\n",
              "      <td>0.919540</td>\n",
              "    </tr>\n",
              "    <tr>\n",
              "      <th>SVM-R</th>\n",
              "      <td>0.540230</td>\n",
              "      <td>1.195402</td>\n",
              "    </tr>\n",
              "    <tr>\n",
              "      <th>SVM-P</th>\n",
              "      <td>0.551724</td>\n",
              "      <td>1.241379</td>\n",
              "    </tr>\n",
              "    <tr>\n",
              "      <th>LR</th>\n",
              "      <td>0.471264</td>\n",
              "      <td>0.919540</td>\n",
              "    </tr>\n",
              "    <tr>\n",
              "      <th>KNN</th>\n",
              "      <td>0.482759</td>\n",
              "      <td>1.103448</td>\n",
              "    </tr>\n",
              "  </tbody>\n",
              "</table>\n",
              "</div>\n",
              "      <button class=\"colab-df-convert\" onclick=\"convertToInteractive('df-ddf5a78d-2b73-4c01-b175-6ce20d93f97d')\"\n",
              "              title=\"Convert this dataframe to an interactive table.\"\n",
              "              style=\"display:none;\">\n",
              "        \n",
              "  <svg xmlns=\"http://www.w3.org/2000/svg\" height=\"24px\"viewBox=\"0 0 24 24\"\n",
              "       width=\"24px\">\n",
              "    <path d=\"M0 0h24v24H0V0z\" fill=\"none\"/>\n",
              "    <path d=\"M18.56 5.44l.94 2.06.94-2.06 2.06-.94-2.06-.94-.94-2.06-.94 2.06-2.06.94zm-11 1L8.5 8.5l.94-2.06 2.06-.94-2.06-.94L8.5 2.5l-.94 2.06-2.06.94zm10 10l.94 2.06.94-2.06 2.06-.94-2.06-.94-.94-2.06-.94 2.06-2.06.94z\"/><path d=\"M17.41 7.96l-1.37-1.37c-.4-.4-.92-.59-1.43-.59-.52 0-1.04.2-1.43.59L10.3 9.45l-7.72 7.72c-.78.78-.78 2.05 0 2.83L4 21.41c.39.39.9.59 1.41.59.51 0 1.02-.2 1.41-.59l7.78-7.78 2.81-2.81c.8-.78.8-2.07 0-2.86zM5.41 20L4 18.59l7.72-7.72 1.47 1.35L5.41 20z\"/>\n",
              "  </svg>\n",
              "      </button>\n",
              "      \n",
              "  <style>\n",
              "    .colab-df-container {\n",
              "      display:flex;\n",
              "      flex-wrap:wrap;\n",
              "      gap: 12px;\n",
              "    }\n",
              "\n",
              "    .colab-df-convert {\n",
              "      background-color: #E8F0FE;\n",
              "      border: none;\n",
              "      border-radius: 50%;\n",
              "      cursor: pointer;\n",
              "      display: none;\n",
              "      fill: #1967D2;\n",
              "      height: 32px;\n",
              "      padding: 0 0 0 0;\n",
              "      width: 32px;\n",
              "    }\n",
              "\n",
              "    .colab-df-convert:hover {\n",
              "      background-color: #E2EBFA;\n",
              "      box-shadow: 0px 1px 2px rgba(60, 64, 67, 0.3), 0px 1px 3px 1px rgba(60, 64, 67, 0.15);\n",
              "      fill: #174EA6;\n",
              "    }\n",
              "\n",
              "    [theme=dark] .colab-df-convert {\n",
              "      background-color: #3B4455;\n",
              "      fill: #D2E3FC;\n",
              "    }\n",
              "\n",
              "    [theme=dark] .colab-df-convert:hover {\n",
              "      background-color: #434B5C;\n",
              "      box-shadow: 0px 1px 3px 1px rgba(0, 0, 0, 0.15);\n",
              "      filter: drop-shadow(0px 1px 2px rgba(0, 0, 0, 0.3));\n",
              "      fill: #FFFFFF;\n",
              "    }\n",
              "  </style>\n",
              "\n",
              "      <script>\n",
              "        const buttonEl =\n",
              "          document.querySelector('#df-ddf5a78d-2b73-4c01-b175-6ce20d93f97d button.colab-df-convert');\n",
              "        buttonEl.style.display =\n",
              "          google.colab.kernel.accessAllowed ? 'block' : 'none';\n",
              "\n",
              "        async function convertToInteractive(key) {\n",
              "          const element = document.querySelector('#df-ddf5a78d-2b73-4c01-b175-6ce20d93f97d');\n",
              "          const dataTable =\n",
              "            await google.colab.kernel.invokeFunction('convertToInteractive',\n",
              "                                                     [key], {});\n",
              "          if (!dataTable) return;\n",
              "\n",
              "          const docLinkHtml = 'Like what you see? Visit the ' +\n",
              "            '<a target=\"_blank\" href=https://colab.research.google.com/notebooks/data_table.ipynb>data table notebook</a>'\n",
              "            + ' to learn more about interactive tables.';\n",
              "          element.innerHTML = '';\n",
              "          dataTable['output_type'] = 'display_data';\n",
              "          await google.colab.output.renderOutput(dataTable, element);\n",
              "          const docLink = document.createElement('div');\n",
              "          docLink.innerHTML = docLinkHtml;\n",
              "          element.appendChild(docLink);\n",
              "        }\n",
              "      </script>\n",
              "    </div>\n",
              "  </div>\n",
              "  "
            ]
          },
          "metadata": {},
          "execution_count": 145
        }
      ]
    },
    {
      "cell_type": "code",
      "source": [
        "import seaborn as sns\n",
        "import matplotlib.pyplot as plt\n",
        "\n",
        "%matplotlib inline\n",
        "plt.rcParams['figure.figsize'] = (24, 12)\n",
        "plt.rcParams['lines.linewidth'] = 3"
      ],
      "metadata": {
        "id": "0KAOVFdJ7Kb6"
      },
      "execution_count": null,
      "outputs": []
    },
    {
      "cell_type": "code",
      "source": [
        "fig, ax = plt.subplots(ncols=2)\n",
        "\n",
        "sns.lineplot(data=results['Accuracy'], ax=ax[0])\n",
        "sns.lineplot(data=results['MSE'], ax=ax[1])\n",
        "plt.show()"
      ],
      "metadata": {
        "colab": {
          "base_uri": "https://localhost:8080/",
          "height": 700
        },
        "id": "x9TrMLC98hgl",
        "outputId": "064d602c-ba35-4809-f164-51ed2950f1f6"
      },
      "execution_count": null,
      "outputs": [
        {
          "output_type": "display_data",
          "data": {
            "text/plain": [
              "<Figure size 1728x864 with 2 Axes>"
            ],
            "image/png": "[encoded data removed]"
          },
          "metadata": {
            "needs_background": "light"
          }
        }
      ]
    },
    {
      "cell_type": "markdown",
      "source": [
        "### 결론\n",
        "* SVM-P 사용할 때 성과과 제일 좋음! 우리의 시스템에도 SVM-R 적용하면 주가 업다운 예측을 잘할 수 있다!\n",
        "* 하지만 대체적으노 accuracy가 그렇게 높지 않아 더 보완이 필요하다! (더 많은 데이터, 감성사전의 엄밀성... 등등)"
      ],
      "metadata": {
        "id": "7InMhXuwNqS4"
      }
    },
    {
      "cell_type": "code",
      "source": [
        ""
      ],
      "metadata": {
        "id": "DhNmuobBN9Z-"
      },
      "execution_count": null,
      "outputs": []
    }
  ]
}